{
 "cells": [
  {
   "cell_type": "code",
   "execution_count": 1,
   "metadata": {
    "colab": {
     "base_uri": "https://localhost:8080/"
    },
    "executionInfo": {
     "elapsed": 20854,
     "status": "ok",
     "timestamp": 1684249467446,
     "user": {
      "displayName": "SK TIAAN",
      "userId": "01952584446737432247"
     },
     "user_tz": -480
    },
    "id": "66OIrfHy1TM4",
    "outputId": "744b6dca-b046-45b3-a18a-4e87264ec0d0"
   },
   "outputs": [
    {
     "name": "stdout",
     "output_type": "stream",
     "text": [
      "Mounted at /content/drive/\n"
     ]
    }
   ],
   "source": [
    "from google.colab import drive\n",
    "drive.mount('/content/drive/')\n",
    "\n",
    "folder_path = '/content/drive/MyDrive/2023NLPCourse/Assignment1/Part_B/Scrape_Reviews'"
   ]
  },
  {
   "cell_type": "code",
   "execution_count": 2,
   "metadata": {
    "executionInfo": {
     "elapsed": 627,
     "status": "ok",
     "timestamp": 1684249468068,
     "user": {
      "displayName": "SK TIAAN",
      "userId": "01952584446737432247"
     },
     "user_tz": -480
    },
    "id": "oXrt-tFF2WuJ"
   },
   "outputs": [],
   "source": [
    "import os\n",
    "# 2. 利用 os.listdir 获取 该文件路径下所有文件名\n",
    "file_names = os.listdir(folder_path)"
   ]
  },
  {
   "cell_type": "code",
   "execution_count": 3,
   "metadata": {
    "colab": {
     "base_uri": "https://localhost:8080/"
    },
    "executionInfo": {
     "elapsed": 12798,
     "status": "ok",
     "timestamp": 1684249480863,
     "user": {
      "displayName": "SK TIAAN",
      "userId": "01952584446737432247"
     },
     "user_tz": -480
    },
    "id": "sPxES_z-3VGJ",
    "outputId": "1b97d944-928e-4449-e2e5-027b3f6d805d"
   },
   "outputs": [
    {
     "name": "stderr",
     "output_type": "stream",
     "text": [
      "<ipython-input-3-cb5cd8a645cc>:3: FutureWarning: The default dtype for empty Series will be 'object' instead of 'float64' in a future version. Specify a dtype explicitly to silence this warning.\n",
      "  all_se = pd.Series()\n"
     ]
    }
   ],
   "source": [
    "# 3. 用pandas读取每一个文件并且进行拼接\n",
    "import pandas as pd\n",
    "all_se = pd.Series()\n",
    "for file_name in file_names:\n",
    "  temp = pd.read_excel(folder_path+\"/\"+file_name)['review']\n",
    "  all_se = pd.concat([temp,all_se],ignore_index=True)\n",
    "all_df = pd.DataFrame(all_se, columns=[\"review\"])"
   ]
  },
  {
   "cell_type": "code",
   "execution_count": 4,
   "metadata": {
    "executionInfo": {
     "elapsed": 612,
     "status": "ok",
     "timestamp": 1684249481471,
     "user": {
      "displayName": "SK TIAAN",
      "userId": "01952584446737432247"
     },
     "user_tz": -480
    },
    "id": "UUCvUvnA3oUo"
   },
   "outputs": [],
   "source": [
    "# 4. 保存文件到当前路径下，名为data\n",
    "all_df.to_csv(\"/content/drive/MyDrive/2023NLPCourse/Assignment1/Part_B/Data/data.csv\")"
   ]
  }
 ],
 "metadata": {
  "colab": {
   "authorship_tag": "ABX9TyO2MuJMYA6rcwWY1RaiPdiY",
   "provenance": []
  },
  "kernelspec": {
   "display_name": "Python 3 (ipykernel)",
   "language": "python",
   "name": "python3"
  },
  "language_info": {
   "codemirror_mode": {
    "name": "ipython",
    "version": 3
   },
   "file_extension": ".py",
   "mimetype": "text/x-python",
   "name": "python",
   "nbconvert_exporter": "python",
   "pygments_lexer": "ipython3",
   "version": "3.11.4"
  }
 },
 "nbformat": 4,
 "nbformat_minor": 1
}
