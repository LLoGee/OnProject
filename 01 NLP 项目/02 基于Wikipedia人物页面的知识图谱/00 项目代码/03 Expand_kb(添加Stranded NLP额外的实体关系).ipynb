{
 "cells": [
  {
   "cell_type": "markdown",
   "metadata": {},
   "source": [
    "# 1. 与 Google Drive 连接"
   ]
  },
  {
   "cell_type": "code",
   "execution_count": 1,
   "metadata": {
    "colab": {
     "base_uri": "https://localhost:8080/"
    },
    "executionInfo": {
     "elapsed": 4077,
     "status": "ok",
     "timestamp": 1686747660009,
     "user": {
      "displayName": "SK TIAAN",
      "userId": "01952584446737432247"
     },
     "user_tz": -480
    },
    "id": "eYJuMekf5mnV",
    "outputId": "8a966f18-aba7-4001-adb7-be33b4f05cd3"
   },
   "outputs": [
    {
     "name": "stdout",
     "output_type": "stream",
     "text": [
      "Drive already mounted at /content/drive/; to attempt to forcibly remount, call drive.mount(\"/content/drive/\", force_remount=True).\n",
      "/content/drive/MyDrive/2023NLPCourse/Assignment2\n"
     ]
    }
   ],
   "source": [
    "from google.colab import drive\n",
    "drive.mount('/content/drive/')\n",
    "\n",
    "dir_path = '/content/drive/MyDrive/2023NLPCourse/Assignment2/'\n",
    "\n",
    "%cd /content/drive/MyDrive/2023NLPCourse/Assignment2/"
   ]
  },
  {
   "cell_type": "markdown",
   "metadata": {},
   "source": [
    "# 2. 安装并导入相应的包"
   ]
  },
  {
   "cell_type": "code",
   "execution_count": 16,
   "metadata": {
    "colab": {
     "base_uri": "https://localhost:8080/"
    },
    "executionInfo": {
     "elapsed": 11414,
     "status": "ok",
     "timestamp": 1686747895008,
     "user": {
      "displayName": "SK TIAAN",
      "userId": "01952584446737432247"
     },
     "user_tz": -480
    },
    "id": "FzEE4OsG502k",
    "outputId": "fc60ba5a-c817-4cb3-f7c8-3701b130e26d"
   },
   "outputs": [
    {
     "name": "stdout",
     "output_type": "stream",
     "text": [
      "Looking in indexes: https://pypi.org/simple, https://us-python.pkg.dev/colab-wheels/public/simple/\n",
      "Requirement already satisfied: pyvis==0.3.1 in /usr/local/lib/python3.10/dist-packages (0.3.1)\n",
      "Requirement already satisfied: jinja2>=2.9.6 in /usr/local/lib/python3.10/dist-packages (from pyvis==0.3.1) (3.1.2)\n",
      "Requirement already satisfied: networkx>=1.11 in /usr/local/lib/python3.10/dist-packages (from pyvis==0.3.1) (3.1)\n",
      "Requirement already satisfied: ipython>=5.3.0 in /usr/local/lib/python3.10/dist-packages (from pyvis==0.3.1) (7.34.0)\n",
      "Requirement already satisfied: jsonpickle>=1.4.1 in /usr/local/lib/python3.10/dist-packages (from pyvis==0.3.1) (3.0.1)\n",
      "Requirement already satisfied: setuptools>=18.5 in /usr/local/lib/python3.10/dist-packages (from ipython>=5.3.0->pyvis==0.3.1) (67.7.2)\n",
      "Requirement already satisfied: jedi>=0.16 in /usr/local/lib/python3.10/dist-packages (from ipython>=5.3.0->pyvis==0.3.1) (0.18.2)\n",
      "Requirement already satisfied: decorator in /usr/local/lib/python3.10/dist-packages (from ipython>=5.3.0->pyvis==0.3.1) (4.4.2)\n",
      "Requirement already satisfied: pickleshare in /usr/local/lib/python3.10/dist-packages (from ipython>=5.3.0->pyvis==0.3.1) (0.7.5)\n",
      "Requirement already satisfied: traitlets>=4.2 in /usr/local/lib/python3.10/dist-packages (from ipython>=5.3.0->pyvis==0.3.1) (5.7.1)\n",
      "Requirement already satisfied: prompt-toolkit!=3.0.0,!=3.0.1,<3.1.0,>=2.0.0 in /usr/local/lib/python3.10/dist-packages (from ipython>=5.3.0->pyvis==0.3.1) (3.0.38)\n",
      "Requirement already satisfied: pygments in /usr/local/lib/python3.10/dist-packages (from ipython>=5.3.0->pyvis==0.3.1) (2.14.0)\n",
      "Requirement already satisfied: backcall in /usr/local/lib/python3.10/dist-packages (from ipython>=5.3.0->pyvis==0.3.1) (0.2.0)\n",
      "Requirement already satisfied: matplotlib-inline in /usr/local/lib/python3.10/dist-packages (from ipython>=5.3.0->pyvis==0.3.1) (0.1.6)\n",
      "Requirement already satisfied: pexpect>4.3 in /usr/local/lib/python3.10/dist-packages (from ipython>=5.3.0->pyvis==0.3.1) (4.8.0)\n",
      "Requirement already satisfied: MarkupSafe>=2.0 in /usr/local/lib/python3.10/dist-packages (from jinja2>=2.9.6->pyvis==0.3.1) (2.1.2)\n",
      "Requirement already satisfied: parso<0.9.0,>=0.8.0 in /usr/local/lib/python3.10/dist-packages (from jedi>=0.16->ipython>=5.3.0->pyvis==0.3.1) (0.8.3)\n",
      "Requirement already satisfied: ptyprocess>=0.5 in /usr/local/lib/python3.10/dist-packages (from pexpect>4.3->ipython>=5.3.0->pyvis==0.3.1) (0.7.0)\n",
      "Requirement already satisfied: wcwidth in /usr/local/lib/python3.10/dist-packages (from prompt-toolkit!=3.0.0,!=3.0.1,<3.1.0,>=2.0.0->ipython>=5.3.0->pyvis==0.3.1) (0.2.6)\n",
      "Looking in indexes: https://pypi.org/simple, https://us-python.pkg.dev/colab-wheels/public/simple/\n",
      "Requirement already satisfied: wikipedia in /usr/local/lib/python3.10/dist-packages (1.4.0)\n",
      "Requirement already satisfied: beautifulsoup4 in /usr/local/lib/python3.10/dist-packages (from wikipedia) (4.11.2)\n",
      "Requirement already satisfied: requests<3.0.0,>=2.0.0 in /usr/local/lib/python3.10/dist-packages (from wikipedia) (2.27.1)\n",
      "Requirement already satisfied: urllib3<1.27,>=1.21.1 in /usr/local/lib/python3.10/dist-packages (from requests<3.0.0,>=2.0.0->wikipedia) (1.26.15)\n",
      "Requirement already satisfied: certifi>=2017.4.17 in /usr/local/lib/python3.10/dist-packages (from requests<3.0.0,>=2.0.0->wikipedia) (2022.12.7)\n",
      "Requirement already satisfied: charset-normalizer~=2.0.0 in /usr/local/lib/python3.10/dist-packages (from requests<3.0.0,>=2.0.0->wikipedia) (2.0.12)\n",
      "Requirement already satisfied: idna<4,>=2.5 in /usr/local/lib/python3.10/dist-packages (from requests<3.0.0,>=2.0.0->wikipedia) (3.4)\n",
      "Requirement already satisfied: soupsieve>1.2 in /usr/local/lib/python3.10/dist-packages (from beautifulsoup4->wikipedia) (2.4.1)\n"
     ]
    }
   ],
   "source": [
    "!pip install pyvis==0.3.1\n",
    "!pip install wikipedia\n",
    "from pyvis import network\n",
    "import networkx as nx\n",
    "import pickle\n",
    "import wikipedia"
   ]
  },
  {
   "cell_type": "markdown",
   "metadata": {},
   "source": [
    "# 3. 导入保存的 kb 文件，用于生成知识图谱"
   ]
  },
  {
   "cell_type": "code",
   "execution_count": 3,
   "metadata": {
    "executionInfo": {
     "elapsed": 5,
     "status": "ok",
     "timestamp": 1686747678412,
     "user": {
      "displayName": "SK TIAAN",
      "userId": "01952584446737432247"
     },
     "user_tz": -480
    },
    "id": "lnZgY5iS6qRT"
   },
   "outputs": [],
   "source": [
    "class KB():\n",
    "    def __init__(self):\n",
    "        self.entities = {} # { entity_title: {...} }\n",
    "        self.relations = [] # [ head: entity_title, type: ..., tail: entity_title,\n",
    "          # meta: { article_url: { spans: [...] } } ]\n",
    "        self.sources = {} # { article_url: {...} }\n",
    "\n",
    "    def merge_with_kb(self, kb2):\n",
    "        for r in kb2.relations:\n",
    "            article_url = list(r[\"meta\"].keys())[0]\n",
    "            source_data = kb2.sources[article_url]\n",
    "            self.add_relation(r, source_data[\"article_title\"],\n",
    "                              source_data[\"article_publish_date\"])\n",
    "\n",
    "    def are_relations_equal(self, r1, r2):\n",
    "        return all(r1[attr] == r2[attr] for attr in [\"head\", \"type\", \"tail\"])\n",
    "\n",
    "    def exists_relation(self, r1):\n",
    "        return any(self.are_relations_equal(r1, r2) for r2 in self.relations)\n",
    "\n",
    "    def merge_relations(self, r2):\n",
    "        r1 = [r for r in self.relations\n",
    "              if self.are_relations_equal(r2, r)][0]\n",
    "\n",
    "        # if different article\n",
    "        article_url = list(r2[\"meta\"].keys())[0]\n",
    "        if article_url not in r1[\"meta\"]:\n",
    "            r1[\"meta\"][article_url] = r2[\"meta\"][article_url]\n",
    "\n",
    "        # if existing article\n",
    "        else:\n",
    "            spans_to_add = [span for span in r2[\"meta\"][article_url][\"spans\"]\n",
    "                            if span not in r1[\"meta\"][article_url][\"spans\"]]\n",
    "            r1[\"meta\"][article_url][\"spans\"] += spans_to_add\n",
    "\n",
    "    def get_wikipedia_data(self, candidate_entity):\n",
    "        try:\n",
    "          #page = wikipedia.page(candidate_entity, auto_suggest=False)\n",
    "          page = wikipedia.page(candidate_entity, auto_suggest=False)\n",
    "\n",
    "          entity_data = {\n",
    "            \"title\": page.title,\n",
    "            \"url\": page.url,\n",
    "            \"summary\": page.summary\n",
    "          }\n",
    "          return entity_data\n",
    "        except:\n",
    "          entity_data = {\n",
    "            \"title\": candidate_entity+\"*\",\n",
    "            \"url\": \"\",\n",
    "            \"summary\": \"\"\n",
    "          }\n",
    "          return entity_data\n",
    "          #return None\n",
    "\n",
    "    def add_entity(self, e):\n",
    "        self.entities[e[\"title\"]] = {k:v for k,v in e.items() if k != \"title\"}\n",
    "\n",
    "    def add_relation(self, r, article_title, article_publish_date):\n",
    "        # check on wikipedia\n",
    "        candidate_entities = [r[\"head\"], r[\"tail\"]]\n",
    "        entities = [self.get_wikipedia_data(ent) for ent in candidate_entities]\n",
    "\n",
    "        # if one entity does not exist, stop\n",
    "        if any(ent is None for ent in entities):\n",
    "            return\n",
    "\n",
    "        # manage new entities\n",
    "        for e in entities:\n",
    "            self.add_entity(e)\n",
    "\n",
    "        # rename relation entities with their wikipedia titles\n",
    "        r[\"head\"] = entities[0][\"title\"]\n",
    "        r[\"tail\"] = entities[1][\"title\"]\n",
    "\n",
    "        # add source if not in kb\n",
    "        article_url = list(r[\"meta\"].keys())[0]\n",
    "        if article_url not in self.sources:\n",
    "            self.sources[article_url] = {\n",
    "                \"article_title\": article_title,\n",
    "                \"article_publish_date\": article_publish_date\n",
    "            }\n",
    "\n",
    "        # manage new relation\n",
    "        if not self.exists_relation(r):\n",
    "            self.relations.append(r)\n",
    "        else:\n",
    "            self.merge_relations(r)\n",
    "\n",
    "    def print(self):\n",
    "        print(\"Entities:\")\n",
    "        for e in self.entities.items():\n",
    "            print(f\"  {e}\")\n",
    "        print(\"Relations:\")\n",
    "        for r in self.relations:\n",
    "            print(f\"  {r}\")\n",
    "        print(\"Sources:\")\n",
    "        for s in self.sources.items():\n",
    "            print(f\"  {s}\")\n",
    "            \n",
    "kb = pickle.load(open(\"Data/Rebel.kb\", \"rb\"))"
   ]
  },
  {
   "cell_type": "markdown",
   "metadata": {
    "executionInfo": {
     "elapsed": 5,
     "status": "ok",
     "timestamp": 1686747678413,
     "user": {
      "displayName": "SK TIAAN",
      "userId": "01952584446737432247"
     },
     "user_tz": -480
    },
    "id": "Xy4At0YR6tbM"
   },
   "source": [
    "# 4. 导入 CoreNLP 额外的的关系对"
   ]
  },
  {
   "cell_type": "code",
   "execution_count": 54,
   "metadata": {
    "executionInfo": {
     "elapsed": 336,
     "status": "ok",
     "timestamp": 1686750024289,
     "user": {
      "displayName": "SK TIAAN",
      "userId": "01952584446737432247"
     },
     "user_tz": -480
    },
    "id": "LFvoQKqc63R5"
   },
   "outputs": [],
   "source": [
    "with open(\"Data/CoreNLP_Expanded_kp.txt\",\"r\") as f:\n",
    "    text = f.readlines()\n",
    "\n",
    "# 生成实体与关系列表\n",
    "Relations = []\n",
    "Entities_lis = []\n",
    "for i in range(len(text)):\n",
    "    relation = text[i].replace(\"\\n\", '').replace(\"per:\", '').replace(\"org:\", '').split(\"\\t\")\n",
    "    Relations.append({\"head\":relation[0], \"type\":relation[1], \"tail\":relation[2]})\n",
    "    Entities_lis.append(relation[0])\n",
    "    Entities_lis.append(relation[2])\n",
    "Entities = list(set(Entities_lis))"
   ]
  },
  {
   "cell_type": "markdown",
   "metadata": {},
   "source": [
    "# 6. 实体合并"
   ]
  },
  {
   "cell_type": "code",
   "execution_count": 11,
   "metadata": {
    "executionInfo": {
     "elapsed": 5,
     "status": "ok",
     "timestamp": 1686747813834,
     "user": {
      "displayName": "SK TIAAN",
      "userId": "01952584446737432247"
     },
     "user_tz": -480
    },
    "id": "uOoLv8zR7sTl"
   },
   "outputs": [],
   "source": [
    "All_Ens = []\n",
    "for e in kb.entities:\n",
    "    All_Ens.append(e)\n",
    "for i in Entities:\n",
    "    if i not in All_Ens:\n",
    "        All_Ens.append(i)"
   ]
  },
  {
   "cell_type": "markdown",
   "metadata": {},
   "source": [
    "# 7. 根据合并的实体，关系对，通过 pyvis 库的 net 模块生成知识图谱"
   ]
  },
  {
   "cell_type": "code",
   "execution_count": 18,
   "metadata": {
    "colab": {
     "base_uri": "https://localhost:8080/"
    },
    "executionInfo": {
     "elapsed": 800,
     "status": "ok",
     "timestamp": 1686747918901,
     "user": {
      "displayName": "SK TIAAN",
      "userId": "01952584446737432247"
     },
     "user_tz": -480
    },
    "id": "wF5At-fo6vch",
    "outputId": "6dfd4efd-149c-4a85-b906-48951a479544"
   },
   "outputs": [
    {
     "name": "stdout",
     "output_type": "stream",
     "text": [
      "Local cdn resources have problems on chrome/safari when used in jupyter-notebook. \n",
      "add note John McCarthy*\n",
      "add note Computer scientist\n",
      "add note Turing Award\n",
      "add note United States National Medal of Science*\n",
      "add note Kyoto Prize\n",
      "add note September 4, 1927*\n",
      "add note Stanford University\n",
      "add note ALGOL\n",
      "add note Cromane\n",
      "add note County Kerry\n",
      "add note Ireland\n",
      "add note Republican*\n",
      "add note Alan Turing\n",
      "add note Princeton University\n",
      "add note Marvin Minsky\n",
      "add note Allen Newell\n",
      "add note Herbert A. Simon\n",
      "add note Donald C. Spencer\n",
      "add note Nathaniel Rochester\n",
      "add note Artificial intelligence\n",
      "add note Claude Shannon\n",
      "add note ALGOL 60\n",
      "add note August 1959\n",
      "add note Compatible Time-Sharing System\n",
      "add note 1961\n",
      "add note time-sharing systems*\n",
      "add note BBN Time-Sharing System\n",
      "add note Dartmouth Time Sharing System\n",
      "add note Space fountain\n",
      "add note 1982\n",
      "add note The Robot and the Baby*\n",
      "add note 2001\n",
      "add note Short story\n",
      "add note Social network\n",
      "add note Internet culture\n",
      "add note Carolyn Talcott\n",
      "add note SRI International\n",
      "add note October 24, 2011*\n",
      "add note Massachusetts\n",
      "add note reader\n",
      "add note Communist Party\n",
      "add note American\n",
      "add note Irish\n",
      "add note programmer\n",
      "add note computer scientist\n",
      "add note John McCarthy\n",
      "add note Belmont High School\n",
      "add note Jewish\n",
      "add note Caltech\n",
      "add note Project MAC\n",
      "add note MIT\n",
      "add note Association for Computing Machinery\n",
      "add note John Patrick McCarthy\n",
      "add note 1978\n",
      "add note Stanford\n",
      "add note US Army\n",
      "add note mountaineer\n",
      "add note Boston\n",
      "add note atheist\n",
      "add note Lithuanian\n",
      "add note Vera Watson\n",
      "add relation John McCarthy*   Computer scientist\n",
      "add relation John McCarthy*   Turing Award\n",
      "add relation John McCarthy*   United States National Medal of Science*\n",
      "add relation John McCarthy*   Kyoto Prize\n",
      "add relation John McCarthy*   September 4, 1927*\n",
      "add relation John McCarthy*   Stanford University\n",
      "add relation ALGOL   John McCarthy*\n",
      "add relation Cromane   County Kerry\n",
      "add relation Cromane   Ireland\n",
      "add relation County Kerry   Ireland\n",
      "add relation Ireland   County Kerry\n",
      "add relation John McCarthy*   Republican*\n",
      "add relation Alan Turing   Princeton University\n",
      "add relation Marvin Minsky   Princeton University\n",
      "add relation Allen Newell   Princeton University\n",
      "add relation Herbert A. Simon   Princeton University\n",
      "add relation Donald C. Spencer   Princeton University\n",
      "add relation Nathaniel Rochester   Artificial intelligence\n",
      "add relation Claude Shannon   Artificial intelligence\n",
      "add relation Artificial intelligence   Nathaniel Rochester\n",
      "add relation Artificial intelligence   Claude Shannon\n",
      "add relation ALGOL 60   August 1959\n",
      "add relation ALGOL 60   August 1959\n",
      "add relation ALGOL 60   ALGOL\n",
      "add relation Compatible Time-Sharing System   1961\n",
      "add relation Compatible Time-Sharing System   time-sharing systems*\n",
      "add relation BBN Time-Sharing System   time-sharing systems*\n",
      "add relation Dartmouth Time Sharing System   time-sharing systems*\n",
      "add relation Space fountain   1982\n",
      "add relation John McCarthy*   Stanford University\n",
      "add relation The Robot and the Baby*   2001\n",
      "add relation The Robot and the Baby*   Short story\n",
      "add relation Social network   Internet culture\n",
      "add relation Carolyn Talcott   SRI International\n",
      "add relation John McCarthy*   October 24, 2011*\n"
     ]
    }
   ],
   "source": [
    "net = network.Network(\n",
    "    directed=True,\n",
    "    width=\"1200px\",\n",
    "    height=\"1000px\",\n",
    "    bgcolor=\"#FFFFFF\",\n",
    "    notebook=True,\n",
    "    )\n",
    "\n",
    "# 节点\n",
    "color_entity = \"#00FF00\"\n",
    "for e in All_Ens:\n",
    "    net.add_node(e)\n",
    "    print(\"add note\",e)\n",
    "\n",
    "# 边\n",
    "for r in kb.relations:\n",
    "    net.add_edge(r[\"head\"], r[\"tail\"], title=r[\"type\"], label=r[\"type\"])\n",
    "    print(\"add relation\",r[\"head\"],\" \",r[\"tail\"])\n",
    "\n",
    "for i in Relations:\n",
    "    net.add_edge(i[\"head\"], i[\"tail\"], title=i[\"type\"], label=i[\"type\"])\n",
    "\n",
    "net.repulsion(node_distance=230, damping=0.01)"
   ]
  },
  {
   "cell_type": "markdown",
   "metadata": {},
   "source": [
    "# 8. 保存生成的知识图谱到 html 文件"
   ]
  },
  {
   "cell_type": "code",
   "execution_count": null,
   "metadata": {
    "id": "txdtHjto--LD"
   },
   "outputs": [],
   "source": [
    "net.set_edge_smooth('dynamic')\n",
    "net.show('Data/Graph/Expanded.html')"
   ]
  },
  {
   "cell_type": "markdown",
   "metadata": {},
   "source": [
    "# 9 将实体与关系保存到 CSV 文件，以便直接观察"
   ]
  },
  {
   "cell_type": "code",
   "execution_count": 62,
   "metadata": {
    "executionInfo": {
     "elapsed": 2,
     "status": "ok",
     "timestamp": 1686750079988,
     "user": {
      "displayName": "SK TIAAN",
      "userId": "01952584446737432247"
     },
     "user_tz": -480
    },
    "id": "GiwA-YapFB_b"
   },
   "outputs": [],
   "source": [
    "# 1. All Entities versions\n",
    "Rebel_Entities = []\n",
    "CoreNLP_expanded_Entities = Entities[:]\n",
    "Merged_Entities = net.get_nodes()\n",
    "for e in kb.entities:\n",
    "    Rebel_Entities.append(e)"
   ]
  },
  {
   "cell_type": "code",
   "execution_count": 63,
   "metadata": {
    "executionInfo": {
     "elapsed": 4,
     "status": "ok",
     "timestamp": 1686750080511,
     "user": {
      "displayName": "SK TIAAN",
      "userId": "01952584446737432247"
     },
     "user_tz": -480
    },
    "id": "5uTfEM-5FzS2"
   },
   "outputs": [],
   "source": [
    "# 2. All Relations versions\n",
    "Rebel_Relations = []\n",
    "CoreNLP_expanded_Relations = Relations[:]\n",
    "for r in kb.relations:\n",
    "    Rebel_Relations.append({\"head\":r[\"head\"],\"type\":r[\"type\"] ,\"tail\":r[\"tail\"]})\n",
    "Merged_Relations = Rebel_Relations + CoreNLP_expanded_Relations"
   ]
  },
  {
   "cell_type": "code",
   "execution_count": 66,
   "metadata": {
    "colab": {
     "base_uri": "https://localhost:8080/"
    },
    "executionInfo": {
     "elapsed": 5,
     "status": "ok",
     "timestamp": 1686750556537,
     "user": {
      "displayName": "SK TIAAN",
      "userId": "01952584446737432247"
     },
     "user_tz": -480
    },
    "id": "GSRBcrYcKsty",
    "outputId": "61ad7f0d-5326-4acb-913c-778a30c21ba5"
   },
   "outputs": [
    {
     "name": "stdout",
     "output_type": "stream",
     "text": [
      "[{'head': 'John McCarthy*', 'type': 'occupation', 'tail': 'Computer scientist'}, {'head': 'John McCarthy*', 'type': 'award received', 'tail': 'Turing Award'}, {'head': 'John McCarthy*', 'type': 'award received', 'tail': 'United States National Medal of Science*'}, {'head': 'John McCarthy*', 'type': 'award received', 'tail': 'Kyoto Prize'}, {'head': 'John McCarthy*', 'type': 'date of birth', 'tail': 'September 4, 1927*'}, {'head': 'John McCarthy*', 'type': 'employer', 'tail': 'Stanford University'}, {'head': 'ALGOL', 'type': 'designed by', 'tail': 'John McCarthy*'}, {'head': 'Cromane', 'type': 'located in the administrative territorial entity', 'tail': 'County Kerry'}, {'head': 'Cromane', 'type': 'country', 'tail': 'Ireland'}, {'head': 'County Kerry', 'type': 'country', 'tail': 'Ireland'}, {'head': 'Ireland', 'type': 'contains administrative territorial entity', 'tail': 'County Kerry'}, {'head': 'John McCarthy*', 'type': 'member of political party', 'tail': 'Republican*'}, {'head': 'Alan Turing', 'type': 'educated at', 'tail': 'Princeton University'}, {'head': 'Marvin Minsky', 'type': 'educated at', 'tail': 'Princeton University'}, {'head': 'Allen Newell', 'type': 'educated at', 'tail': 'Princeton University'}, {'head': 'Herbert A. Simon', 'type': 'educated at', 'tail': 'Princeton University'}, {'head': 'Donald C. Spencer', 'type': 'employer', 'tail': 'Princeton University'}, {'head': 'Nathaniel Rochester', 'type': 'field of work', 'tail': 'Artificial intelligence'}, {'head': 'Claude Shannon', 'type': 'field of work', 'tail': 'Artificial intelligence'}, {'head': 'Artificial intelligence', 'type': 'discoverer or inventor', 'tail': 'Nathaniel Rochester'}, {'head': 'Artificial intelligence', 'type': 'discoverer or inventor', 'tail': 'Claude Shannon'}, {'head': 'ALGOL 60', 'type': 'publication date', 'tail': 'August 1959'}, {'head': 'ALGOL 60', 'type': 'inception', 'tail': 'August 1959'}, {'head': 'ALGOL 60', 'type': 'influenced by', 'tail': 'ALGOL'}, {'head': 'Compatible Time-Sharing System', 'type': 'inception', 'tail': '1961'}, {'head': 'Compatible Time-Sharing System', 'type': 'instance of', 'tail': 'time-sharing systems*'}, {'head': 'BBN Time-Sharing System', 'type': 'instance of', 'tail': 'time-sharing systems*'}, {'head': 'Dartmouth Time Sharing System', 'type': 'instance of', 'tail': 'time-sharing systems*'}, {'head': 'Space fountain', 'type': 'inception', 'tail': '1982'}, {'head': 'John McCarthy*', 'type': 'educated at', 'tail': 'Stanford University'}, {'head': 'The Robot and the Baby*', 'type': 'publication date', 'tail': '2001'}, {'head': 'The Robot and the Baby*', 'type': 'instance of', 'tail': 'Short story'}, {'head': 'Social network', 'type': 'part of', 'tail': 'Internet culture'}, {'head': 'Carolyn Talcott', 'type': 'employer', 'tail': 'SRI International'}, {'head': 'John McCarthy*', 'type': 'date of death', 'tail': 'October 24, 2011*'}]\n",
      "[{'head': 'John McCarthy*', 'type': 'origin', 'tail': 'American'}, {'head': 'John McCarthy*', 'type': 'origin', 'tail': 'Lithuanian'}, {'head': 'John McCarthy*', 'type': 'children', 'tail': 'John Patrick McCarthy'}, {'head': 'John McCarthy*', 'type': 'city_of_birth', 'tail': 'Boston'}, {'head': 'John McCarthy*', 'type': 'stateorprovince_of_birth', 'tail': 'Massachusetts'}, {'head': 'John McCarthy*', 'type': 'origin', 'tail': 'Irish'}, {'head': 'John McCarthy*', 'type': 'religion', 'tail': 'Jewish'}, {'head': 'John McCarthy*', 'type': 'parents', 'tail': 'John Patrick McCarthy'}, {'head': 'John McCarthy*', 'type': 'employee_or_member_of', 'tail': 'Communist Party'}, {'head': 'John McCarthy*', 'type': 'schools_attended', 'tail': 'Belmont High School'}, {'head': 'John McCarthy*', 'type': 'employee_or_member_of', 'tail': 'Caltech'}, {'head': 'John McCarthy*', 'type': 'employee_or_member_of', 'tail': 'US Army'}, {'head': 'John McCarthy*', 'type': 'schools_attended', 'tail': 'Caltech'}, {'head': 'John McCarthy*', 'type': 'employee_or_member_of', 'tail': 'Association for Computing Machinery'}, {'head': 'Project MAC', 'type': 'parents', 'tail': 'MIT'}, {'head': 'John McCarthy*', 'type': 'title', 'tail': 'reader'}, {'head': 'Vera Watson', 'type': 'title', 'tail': 'programmer'}, {'head': 'Vera Watson', 'type': 'date_of_death', 'tail': '1978'}, {'head': 'Vera Watson', 'type': 'title', 'tail': 'mountaineer'}, {'head': 'Carolyn Talcott', 'type': 'employee_or_member_of', 'tail': 'Stanford'}, {'head': 'Carolyn Talcott', 'type': 'spouse', 'tail': 'John McCarthy'}, {'head': 'John McCarthy*', 'type': 'spouse', 'tail': 'Carolyn Talcott'}, {'head': 'John McCarthy*', 'type': 'employee_or_member_of', 'tail': 'Stanford'}, {'head': 'Carolyn Talcott', 'type': 'title', 'tail': 'computer scientist'}, {'head': 'John McCarthy*', 'type': 'religion', 'tail': 'atheist'}, {'head': 'John McCarthy*', 'type': 'city_of_death', 'tail': 'Stanford'}]\n",
      "[{'head': 'John McCarthy*', 'type': 'occupation', 'tail': 'Computer scientist'}, {'head': 'John McCarthy*', 'type': 'award received', 'tail': 'Turing Award'}, {'head': 'John McCarthy*', 'type': 'award received', 'tail': 'United States National Medal of Science*'}, {'head': 'John McCarthy*', 'type': 'award received', 'tail': 'Kyoto Prize'}, {'head': 'John McCarthy*', 'type': 'date of birth', 'tail': 'September 4, 1927*'}, {'head': 'John McCarthy*', 'type': 'employer', 'tail': 'Stanford University'}, {'head': 'ALGOL', 'type': 'designed by', 'tail': 'John McCarthy*'}, {'head': 'Cromane', 'type': 'located in the administrative territorial entity', 'tail': 'County Kerry'}, {'head': 'Cromane', 'type': 'country', 'tail': 'Ireland'}, {'head': 'County Kerry', 'type': 'country', 'tail': 'Ireland'}, {'head': 'Ireland', 'type': 'contains administrative territorial entity', 'tail': 'County Kerry'}, {'head': 'John McCarthy*', 'type': 'member of political party', 'tail': 'Republican*'}, {'head': 'Alan Turing', 'type': 'educated at', 'tail': 'Princeton University'}, {'head': 'Marvin Minsky', 'type': 'educated at', 'tail': 'Princeton University'}, {'head': 'Allen Newell', 'type': 'educated at', 'tail': 'Princeton University'}, {'head': 'Herbert A. Simon', 'type': 'educated at', 'tail': 'Princeton University'}, {'head': 'Donald C. Spencer', 'type': 'employer', 'tail': 'Princeton University'}, {'head': 'Nathaniel Rochester', 'type': 'field of work', 'tail': 'Artificial intelligence'}, {'head': 'Claude Shannon', 'type': 'field of work', 'tail': 'Artificial intelligence'}, {'head': 'Artificial intelligence', 'type': 'discoverer or inventor', 'tail': 'Nathaniel Rochester'}, {'head': 'Artificial intelligence', 'type': 'discoverer or inventor', 'tail': 'Claude Shannon'}, {'head': 'ALGOL 60', 'type': 'publication date', 'tail': 'August 1959'}, {'head': 'ALGOL 60', 'type': 'inception', 'tail': 'August 1959'}, {'head': 'ALGOL 60', 'type': 'influenced by', 'tail': 'ALGOL'}, {'head': 'Compatible Time-Sharing System', 'type': 'inception', 'tail': '1961'}, {'head': 'Compatible Time-Sharing System', 'type': 'instance of', 'tail': 'time-sharing systems*'}, {'head': 'BBN Time-Sharing System', 'type': 'instance of', 'tail': 'time-sharing systems*'}, {'head': 'Dartmouth Time Sharing System', 'type': 'instance of', 'tail': 'time-sharing systems*'}, {'head': 'Space fountain', 'type': 'inception', 'tail': '1982'}, {'head': 'John McCarthy*', 'type': 'educated at', 'tail': 'Stanford University'}, {'head': 'The Robot and the Baby*', 'type': 'publication date', 'tail': '2001'}, {'head': 'The Robot and the Baby*', 'type': 'instance of', 'tail': 'Short story'}, {'head': 'Social network', 'type': 'part of', 'tail': 'Internet culture'}, {'head': 'Carolyn Talcott', 'type': 'employer', 'tail': 'SRI International'}, {'head': 'John McCarthy*', 'type': 'date of death', 'tail': 'October 24, 2011*'}, {'head': 'John McCarthy*', 'type': 'origin', 'tail': 'American'}, {'head': 'John McCarthy*', 'type': 'origin', 'tail': 'Lithuanian'}, {'head': 'John McCarthy*', 'type': 'children', 'tail': 'John Patrick McCarthy'}, {'head': 'John McCarthy*', 'type': 'city_of_birth', 'tail': 'Boston'}, {'head': 'John McCarthy*', 'type': 'stateorprovince_of_birth', 'tail': 'Massachusetts'}, {'head': 'John McCarthy*', 'type': 'origin', 'tail': 'Irish'}, {'head': 'John McCarthy*', 'type': 'religion', 'tail': 'Jewish'}, {'head': 'John McCarthy*', 'type': 'parents', 'tail': 'John Patrick McCarthy'}, {'head': 'John McCarthy*', 'type': 'employee_or_member_of', 'tail': 'Communist Party'}, {'head': 'John McCarthy*', 'type': 'schools_attended', 'tail': 'Belmont High School'}, {'head': 'John McCarthy*', 'type': 'employee_or_member_of', 'tail': 'Caltech'}, {'head': 'John McCarthy*', 'type': 'employee_or_member_of', 'tail': 'US Army'}, {'head': 'John McCarthy*', 'type': 'schools_attended', 'tail': 'Caltech'}, {'head': 'John McCarthy*', 'type': 'employee_or_member_of', 'tail': 'Association for Computing Machinery'}, {'head': 'Project MAC', 'type': 'parents', 'tail': 'MIT'}, {'head': 'John McCarthy*', 'type': 'title', 'tail': 'reader'}, {'head': 'Vera Watson', 'type': 'title', 'tail': 'programmer'}, {'head': 'Vera Watson', 'type': 'date_of_death', 'tail': '1978'}, {'head': 'Vera Watson', 'type': 'title', 'tail': 'mountaineer'}, {'head': 'Carolyn Talcott', 'type': 'employee_or_member_of', 'tail': 'Stanford'}, {'head': 'Carolyn Talcott', 'type': 'spouse', 'tail': 'John McCarthy'}, {'head': 'John McCarthy*', 'type': 'spouse', 'tail': 'Carolyn Talcott'}, {'head': 'John McCarthy*', 'type': 'employee_or_member_of', 'tail': 'Stanford'}, {'head': 'Carolyn Talcott', 'type': 'title', 'tail': 'computer scientist'}, {'head': 'John McCarthy*', 'type': 'religion', 'tail': 'atheist'}, {'head': 'John McCarthy*', 'type': 'city_of_death', 'tail': 'Stanford'}]\n"
     ]
    }
   ],
   "source": [
    "Rs = [Rebel_Relations, CoreNLP_expanded_Relations, Merged_Relations]\n",
    "for i in Rs:\n",
    "    print(str(i))"
   ]
  },
  {
   "cell_type": "code",
   "execution_count": 68,
   "metadata": {
    "executionInfo": {
     "elapsed": 380,
     "status": "ok",
     "timestamp": 1686751165434,
     "user": {
      "displayName": "SK TIAAN",
      "userId": "01952584446737432247"
     },
     "user_tz": -480
    },
    "id": "y_cgsTBOGNJy"
   },
   "outputs": [],
   "source": [
    "# 3. Get them all to csv files\n",
    "import pandas as pd\n",
    "Rs = {\"Rebel_Relations\":Rebel_Relations, \"CoreNLP_expanded_Relations\":CoreNLP_expanded_Relations, \"Merged_Relations\":Merged_Relations}\n",
    "for name,lis in Rs.items():\n",
    "    df = pd.DataFrame(lis)\n",
    "    df.to_csv(\"Data/Entities_Relations/\"+name+'.csv', index=False)\n",
    "\n",
    "\n",
    "Es = {\"Rebel_Entities\":Rebel_Entities, \"CoreNLP_expanded_Entities\":CoreNLP_expanded_Entities, \"Merged_Entities\":Merged_Entities}\n",
    "for name,lis in Es.items():\n",
    "    df = pd.DataFrame(lis)\n",
    "    df.to_csv(\"Data/Entities_Relations/\"+name+'.csv', index=False)"
   ]
  }
 ],
 "metadata": {
  "colab": {
   "authorship_tag": "ABX9TyMOhWkaWhwPiai5oxIY1gr9",
   "provenance": []
  },
  "kernelspec": {
   "display_name": "Python 3 (ipykernel)",
   "language": "python",
   "name": "python3"
  },
  "language_info": {
   "codemirror_mode": {
    "name": "ipython",
    "version": 3
   },
   "file_extension": ".py",
   "mimetype": "text/x-python",
   "name": "python",
   "nbconvert_exporter": "python",
   "pygments_lexer": "ipython3",
   "version": "3.11.4"
  }
 },
 "nbformat": 4,
 "nbformat_minor": 1
}
