{
 "cells": [
  {
   "cell_type": "markdown",
   "metadata": {},
   "source": [
    "# 1. 与 Google Drive 连接"
   ]
  },
  {
   "cell_type": "code",
   "execution_count": 1,
   "metadata": {
    "colab": {
     "base_uri": "https://localhost:8080/"
    },
    "executionInfo": {
     "elapsed": 22099,
     "status": "ok",
     "timestamp": 1686757471390,
     "user": {
      "displayName": "SK TIAAN",
      "userId": "01952584446737432247"
     },
     "user_tz": -480
    },
    "id": "kkRnhhrXkpJL",
    "outputId": "cc615b0a-49b6-4214-b85f-05f6fd37c242"
   },
   "outputs": [
    {
     "name": "stdout",
     "output_type": "stream",
     "text": [
      "Mounted at /content/drive/\n",
      "/content/drive/MyDrive/2023NLPCourse/Assignment2\n"
     ]
    }
   ],
   "source": [
    "from google.colab import drive\n",
    "drive.mount('/content/drive/')\n",
    "\n",
    "dir_path = '/content/drive/MyDrive/2023NLPCourse/Assignment2/'\n",
    "\n",
    "%cd /content/drive/MyDrive/2023NLPCourse/Assignment2/"
   ]
  },
  {
   "cell_type": "markdown",
   "metadata": {},
   "source": [
    "# 2. 导入实体与关系"
   ]
  },
  {
   "cell_type": "code",
   "execution_count": 69,
   "metadata": {
    "executionInfo": {
     "elapsed": 4,
     "status": "ok",
     "timestamp": 1686761589532,
     "user": {
      "displayName": "SK TIAAN",
      "userId": "01952584446737432247"
     },
     "user_tz": -480
    },
    "id": "PhhqOhxSk-P8"
   },
   "outputs": [],
   "source": [
    "import pandas as pd\n",
    "Ens = pd.read_csv(\"Data/Entities_Relations/\" + \"Rebel_Entities.csv\")\n",
    "Rls = pd.read_csv(\"Data/Entities_Relations/\" + \"Rebel_Relations.csv\")"
   ]
  },
  {
   "cell_type": "code",
   "execution_count": 64,
   "metadata": {
    "executionInfo": {
     "elapsed": 2,
     "status": "ok",
     "timestamp": 1686761561152,
     "user": {
      "displayName": "SK TIAAN",
      "userId": "01952584446737432247"
     },
     "user_tz": -480
    },
    "id": "m-tb4jucqGyr"
   },
   "outputs": [],
   "source": [
    "Ens_dic = {}\n",
    "Ens_Code_str = \"\"\n",
    "Return_Code_str = \"RETURN \"\n",
    "# 1.创建实体字典并完成代码编写\n",
    "for i in range(len(Ens[\"0\"])):\n",
    "    Ens_dic.update({Ens[\"0\"][i]: 'e'+str(i)})\n",
    "    Return_Code_str = Return_Code_str + 'e'+str(i)+','\n",
    "    Ens_Code_str = Ens_Code_str + \"CREATE (\" + Ens_dic[Ens[\"0\"][i]] + \":Define_manual {title: \" + '\\\"' + Ens[\"0\"][i]+ '\\\"' + \"})\" + \"\\n\"\n",
    "Return_Code_str = Return_Code_str[:-1]\n",
    "\n",
    "# 2.然后完成关系代码编写\n",
    "# 创建 (t1)-[r1:poetry_author]->(a1)\n",
    "# 通过理解代码，首先找到头尾实体对应的代码，\n",
    "# 使用字典 Ens_dic[Rls[\"head\"][i]] Ens_dic[Rls[\"tail\"][i]]\n",
    "# 以上表示，第i个关系对应的头实体代码和尾实体代码\n",
    "# 中间的r1好像没有必要，有必要的是：poetry_author,\n",
    "# 因此第i个关系式表示为CREATE (Ens_dic[Rls[\"head\"]][i]])-[:Rls[\"type\"][i]]->(Ens_dic[Rls[\"tail\"] “][ i]]）\n",
    "\n",
    "Rls_Code_str = \"\"\n",
    "for i in range(len(Rls[\"head\"])):\n",
    "    Relation = Rls[\"type\"][i].replace(\" \",\"_\")\n",
    "    Rls_Code_str = Rls_Code_str + \"CREATE (\" + Ens_dic[Rls[\"head\"][i]] + \")-[:\"+ Relation +\"]->(\"+ Ens_dic[Rls[\"tail\"][i]] + \")\" + \"\\n\"\n"
   ]
  },
  {
   "cell_type": "markdown",
   "metadata": {},
   "source": [
    "# 3. 将所有的 Neo4j 代码整合到 txt 文件中"
   ]
  },
  {
   "cell_type": "code",
   "execution_count": 66,
   "metadata": {
    "executionInfo": {
     "elapsed": 2,
     "status": "ok",
     "timestamp": 1686761564623,
     "user": {
      "displayName": "SK TIAAN",
      "userId": "01952584446737432247"
     },
     "user_tz": -480
    },
    "id": "fMBnz9gkrDoJ"
   },
   "outputs": [],
   "source": [
    "All_Code_str = Ens_Code_str + Rls_Code_str + Return_Code_str\n",
    "with open(\"Data/Neo4j_Code/Stage_one.txt\", \"w+\") as file:\n",
    "    file.write(All_Code_str)\n",
    "    file.close()"
   ]
  },
  {
   "cell_type": "code",
   "execution_count": 70,
   "metadata": {
    "executionInfo": {
     "elapsed": 2143,
     "status": "ok",
     "timestamp": 1686761785173,
     "user": {
      "displayName": "SK TIAAN",
      "userId": "01952584446737432247"
     },
     "user_tz": -480
    },
    "id": "BdCee0Kvy1yA"
   },
   "outputs": [],
   "source": [
    "# 对于第二阶段（合并后的实体关系对）\n",
    "Ens = pd.read_csv(\"Data/Entities_Relations/\" + \"Merged_Entities.csv\")\n",
    "Rls = pd.read_csv(\"Data/Entities_Relations/\" + \"Merged_Relations.csv\")\n",
    "\n",
    "Ens_dic = {}\n",
    "Ens_Code_str = \"\"\n",
    "Return_Code_str = \"RETURN \"\n",
    "\n",
    "for i in range(len(Ens[\"0\"])):\n",
    "    Ens_dic.update({Ens[\"0\"][i]: 'e'+str(i)})\n",
    "    Return_Code_str = Return_Code_str + 'e'+str(i)+','\n",
    "    Ens_Code_str = Ens_Code_str + \"CREATE (\" + Ens_dic[Ens[\"0\"][i]] + \":Define_manual {title: \" + '\\\"' + Ens[\"0\"][i]+ '\\\"' + \"})\" + \"\\n\"\n",
    "Return_Code_str = Return_Code_str[:-1]\n",
    "\n",
    "Rls_Code_str = \"\"\n",
    "for i in range(len(Rls[\"head\"])):\n",
    "    Relation = Rls[\"type\"][i].replace(\" \",\"_\")\n",
    "    Rls_Code_str = Rls_Code_str + \"CREATE (\" + Ens_dic[Rls[\"head\"][i]] + \")-[:\"+ Relation +\"]->(\"+ Ens_dic[Rls[\"tail\"][i]] + \")\" + \"\\n\"\n",
    "\n",
    "All_Code_str = Ens_Code_str + Rls_Code_str + Return_Code_str\n",
    "with open(\"Data/Neo4j_Code/Stage_two.txt\", \"w+\") as file:\n",
    "    file.write(All_Code_str)\n",
    "    file.close()"
   ]
  }
 ],
 "metadata": {
  "colab": {
   "authorship_tag": "ABX9TyP2JzGex5DDhZd6YRpFYejg",
   "provenance": []
  },
  "kernelspec": {
   "display_name": "Python 3 (ipykernel)",
   "language": "python",
   "name": "python3"
  },
  "language_info": {
   "codemirror_mode": {
    "name": "ipython",
    "version": 3
   },
   "file_extension": ".py",
   "mimetype": "text/x-python",
   "name": "python",
   "nbconvert_exporter": "python",
   "pygments_lexer": "ipython3",
   "version": "3.11.4"
  }
 },
 "nbformat": 4,
 "nbformat_minor": 1
}
