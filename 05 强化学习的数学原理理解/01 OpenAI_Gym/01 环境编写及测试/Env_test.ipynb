{
 "cells": [
  {
   "cell_type": "code",
   "execution_count": 1,
   "id": "30f98f61",
   "metadata": {},
   "outputs": [],
   "source": [
    "import gymnasium as gym\n",
    "import numpy as np"
   ]
  },
  {
   "cell_type": "code",
   "execution_count": 2,
   "id": "5e5b4f23",
   "metadata": {},
   "outputs": [],
   "source": [
    "import OwnEnvs"
   ]
  },
  {
   "cell_type": "code",
   "execution_count": 3,
   "id": "0e988328",
   "metadata": {},
   "outputs": [],
   "source": [
    "env1 = gym.make('GridWorld-v0', render_mode=\"human\")"
   ]
  },
  {
   "cell_type": "code",
   "execution_count": 4,
   "id": "67e64c88",
   "metadata": {},
   "outputs": [],
   "source": [
    "env2 = gym.make('SchoolEnv-v0')"
   ]
  },
  {
   "cell_type": "code",
   "execution_count": 5,
   "id": "7c4562fb",
   "metadata": {},
   "outputs": [],
   "source": [
    "# 表明成功运行且导入环境"
   ]
  }
 ],
 "metadata": {
  "kernelspec": {
   "display_name": "gyme",
   "language": "python",
   "name": "gyme"
  },
  "language_info": {
   "codemirror_mode": {
    "name": "ipython",
    "version": 3
   },
   "file_extension": ".py",
   "mimetype": "text/x-python",
   "name": "python",
   "nbconvert_exporter": "python",
   "pygments_lexer": "ipython3",
   "version": "3.10.11"
  }
 },
 "nbformat": 4,
 "nbformat_minor": 5
}
