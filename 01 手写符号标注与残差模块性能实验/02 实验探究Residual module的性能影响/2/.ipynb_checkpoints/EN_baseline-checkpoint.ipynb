{
 "cells": [
  {
   "cell_type": "code",
   "execution_count": 1,
   "id": "998ea97d",
   "metadata": {},
   "outputs": [
    {
     "data": {
      "text/plain": [
       "<torch._C.Generator at 0x2052bb01a10>"
      ]
     },
     "execution_count": 1,
     "metadata": {},
     "output_type": "execute_result"
    }
   ],
   "source": [
    "import torch\n",
    "import torch.nn as nn\n",
    "import torch.nn.functional as F\n",
    "import torch.optim as optim\n",
    "from torchvision import transforms, datasets, utils\n",
    "from torch.autograd import Variable\n",
    "\n",
    "torch.manual_seed(42)"
   ]
  },
  {
   "cell_type": "markdown",
   "id": "cd6acfd5",
   "metadata": {},
   "source": [
    "# Step 1 Build data pipeline and import image dataset (split into training set and test set 5:5)"
   ]
  },
  {
   "cell_type": "code",
   "execution_count": 4,
   "id": "a4c43332",
   "metadata": {},
   "outputs": [
    {
     "name": "stdout",
     "output_type": "stream",
     "text": [
      "device: cpu\n"
     ]
    }
   ],
   "source": [
    "# data_dir is the address where you store your data data, I put it here under relative path\n",
    "data_dir = \"D:/zhuomian/2022_project/data\"\n",
    "split = 0.5\n",
    "batch_size = 32\n",
    "learning_rate = 0.001\n",
    "num_epochs = 30\n",
    "\n",
    "device = torch.device(\"cuda:0\" if torch.cuda.is_available() else \"cpu\")\n",
    "print(\"device:\", device)"
   ]
  },
  {
   "cell_type": "code",
   "execution_count": 5,
   "id": "26387785",
   "metadata": {},
   "outputs": [],
   "source": [
    "# Build data pre-processing\n",
    "data_transform = transforms.Compose([transforms.ToTensor(),\n",
    "                                     transforms.Resize((56,56)),\n",
    "                                     transforms.Normalize((0.5,0.5,0.5),(0.5,0.5,0.5))])\n",
    "\n",
    "# Import data into dataset\n",
    "dataset = datasets.ImageFolder(root = data_dir, transform = data_transform)\n",
    "\n",
    "# Now divide the data set into a training set and a test set\n",
    "len_imgs = len(dataset.imgs)\n",
    "train_set, test_set = torch.utils.data.random_split(dataset, [int(len_imgs*split), len_imgs-int(len_imgs*split)]) \n",
    "\n",
    "# Final construction of the data pipeline\n",
    "train_loader = torch.utils.data.DataLoader(train_set,batch_size = batch_size,shuffle = True)\n",
    "test_loader = torch.utils.data.DataLoader(test_set,batch_size = batch_size,shuffle = False)"
   ]
  },
  {
   "cell_type": "markdown",
   "id": "3af3282c",
   "metadata": {},
   "source": [
    "# Step 2 Build the model Customized loss function and optimizer"
   ]
  },
  {
   "cell_type": "code",
   "execution_count": 13,
   "id": "f802e20c",
   "metadata": {},
   "outputs": [],
   "source": [
    "class CNN_model(nn.Module):\n",
    "    def __init__(self):\n",
    "        super(CNN_model, self).__init__()\n",
    "        # conv2d Parameters nn.Conv2d(in_channels=3, out_channels=32,kernel_size=5,stride=1,padding=\"same\")\n",
    "        # MaxPool2d Parameters nn.MaxPool2d(kernel_size=2, stride=2)\n",
    "        self.conv0 = nn.Sequential(         \n",
    "            nn.Conv2d(32, 48, 1, 1, padding = \"same\"),\n",
    "            nn.BatchNorm2d(16),\n",
    "            nn.ReLU(),\n",
    "            nn.Conv2d(48, 48, 3, 1, padding = \"same\"),\n",
    "            nn.BatchNorm2d(16),\n",
    "            nn.ReLU(),\n",
    "            nn.Conv2d(48, 32, 1, 1, padding = \"same\"),\n",
    "            nn.BatchNorm2d(3),\n",
    "            nn.ReLU(),\n",
    "        )\n",
    "        \n",
    "        self.conv1 = nn.Sequential(         \n",
    "            nn.Conv2d(3, 32, 3, 1, padding = \"same\"),     \n",
    "            nn.ReLU(),                      \n",
    "            nn.MaxPool2d(2, 2) \n",
    "        )\n",
    "        \n",
    "        self.conv2 = nn.Sequential(         \n",
    "            nn.Conv2d(32, 64, 3, 1, padding = \"same\"),     \n",
    "            nn.ReLU(),                      \n",
    "            nn.MaxPool2d(2, 2)                \n",
    "        )\n",
    "        \n",
    "        self.conv3 = nn.Sequential(         \n",
    "            nn.Conv2d(64, 32, 3, 1, padding = \"same\"),     \n",
    "            nn.ReLU(),                      \n",
    "            nn.MaxPool2d(2, 2)                \n",
    "        )\n",
    "        \n",
    "        # Fully connected layer with 21 output categories\n",
    "        self.fc1 = nn.Sequential(nn.Linear(32 * 7 * 7, 128),nn.ReLU())\n",
    "        self.fc2 = nn.Sequential(nn.Linear(128, 21))\n",
    "    def forward(self, x):\n",
    "        identity = x\n",
    "        x = self.conv0(x)\n",
    "        x = identity + x\n",
    "        x = self.conv1(x)\n",
    "        x = self.conv2(x)\n",
    "        x = self.conv3(x)\n",
    "        # Flattening treatment x.view\n",
    "        x = x.view(x.size(0), -1)       \n",
    "        x = self.fc1(x)\n",
    "        output = self.fc2(x)\n",
    "        return output    # return x for visualization"
   ]
  },
  {
   "cell_type": "code",
   "execution_count": 14,
   "id": "5634690a",
   "metadata": {},
   "outputs": [
    {
     "name": "stdout",
     "output_type": "stream",
     "text": [
      "CNN_model(\n",
      "  (conv0): Sequential(\n",
      "    (0): Conv2d(3, 16, kernel_size=(1, 1), stride=(1, 1), padding=same)\n",
      "    (1): BatchNorm2d(16, eps=1e-05, momentum=0.1, affine=True, track_running_stats=True)\n",
      "    (2): ReLU()\n",
      "    (3): Conv2d(16, 16, kernel_size=(3, 3), stride=(1, 1), padding=same)\n",
      "    (4): BatchNorm2d(16, eps=1e-05, momentum=0.1, affine=True, track_running_stats=True)\n",
      "    (5): ReLU()\n",
      "    (6): Conv2d(16, 3, kernel_size=(3, 3), stride=(1, 1), padding=same)\n",
      "    (7): BatchNorm2d(3, eps=1e-05, momentum=0.1, affine=True, track_running_stats=True)\n",
      "    (8): ReLU()\n",
      "  )\n",
      "  (conv1): Sequential(\n",
      "    (0): Conv2d(3, 32, kernel_size=(3, 3), stride=(1, 1), padding=same)\n",
      "    (1): ReLU()\n",
      "    (2): MaxPool2d(kernel_size=2, stride=2, padding=0, dilation=1, ceil_mode=False)\n",
      "  )\n",
      "  (conv2): Sequential(\n",
      "    (0): Conv2d(32, 64, kernel_size=(3, 3), stride=(1, 1), padding=same)\n",
      "    (1): ReLU()\n",
      "    (2): MaxPool2d(kernel_size=2, stride=2, padding=0, dilation=1, ceil_mode=False)\n",
      "  )\n",
      "  (conv3): Sequential(\n",
      "    (0): Conv2d(64, 32, kernel_size=(3, 3), stride=(1, 1), padding=same)\n",
      "    (1): ReLU()\n",
      "    (2): MaxPool2d(kernel_size=2, stride=2, padding=0, dilation=1, ceil_mode=False)\n",
      "  )\n",
      "  (fc1): Sequential(\n",
      "    (0): Linear(in_features=1568, out_features=128, bias=True)\n",
      "    (1): ReLU()\n",
      "  )\n",
      "  (fc2): Sequential(\n",
      "    (0): Linear(in_features=128, out_features=21, bias=True)\n",
      "  )\n",
      ")\n"
     ]
    }
   ],
   "source": [
    "model = CNN_model()\n",
    "model.to(device)\n",
    "# Choose whether to print the model or not, here it will not be printed, just comment\n",
    "print(model)\n",
    "\n",
    "# Select loss function and optimizer\n",
    "loss_func = nn.CrossEntropyLoss()\n",
    "optimizer = optim.Adam(model.parameters(),\n",
    "                       lr=learning_rate, betas=(0.9, 0.999),\n",
    "                       eps=1e-07, amsgrad=False)"
   ]
  },
  {
   "cell_type": "markdown",
   "id": "75612f34",
   "metadata": {},
   "source": [
    "# Step 3 Pass in the model to start training and testing"
   ]
  },
  {
   "cell_type": "code",
   "execution_count": 15,
   "id": "78656153",
   "metadata": {},
   "outputs": [
    {
     "name": "stdout",
     "output_type": "stream",
     "text": [
      "Epoch: [1/15]\t|\tStep: [9/27]\t|\tLoss: 3.0367\n",
      "Epoch: [1/15]\t|\tStep: [18/27]\t|\tLoss: 3.0120\n",
      "Epoch: [1/15]\t|\tStep: [27/27]\t|\tLoss: 3.0056\n",
      "5.46967887878418\n",
      "epoch: 01 | Accuracy: 5.47 Loss: 81.8578\n",
      "\n",
      "Epoch: [2/15]\t|\tStep: [9/27]\t|\tLoss: 2.8619\n",
      "Epoch: [2/15]\t|\tStep: [18/27]\t|\tLoss: 2.7685\n",
      "Epoch: [2/15]\t|\tStep: [27/27]\t|\tLoss: 2.5060\n",
      "14.030915260314941\n",
      "epoch: 02 | Accuracy: 14.03 Loss: 75.9150\n",
      "\n",
      "Epoch: [3/15]\t|\tStep: [9/27]\t|\tLoss: 2.0644\n",
      "Epoch: [3/15]\t|\tStep: [18/27]\t|\tLoss: 2.2357\n",
      "Epoch: [3/15]\t|\tStep: [27/27]\t|\tLoss: 2.3091\n",
      "27.94292449951172\n",
      "epoch: 03 | Accuracy: 27.94 Loss: 64.4038\n",
      "\n",
      "Epoch: [4/15]\t|\tStep: [9/27]\t|\tLoss: 1.9283\n",
      "Epoch: [4/15]\t|\tStep: [18/27]\t|\tLoss: 2.8456\n",
      "Epoch: [4/15]\t|\tStep: [27/27]\t|\tLoss: 1.2952\n",
      "42.687278747558594\n",
      "epoch: 04 | Accuracy: 42.69 Loss: 52.2987\n",
      "\n",
      "Epoch: [5/15]\t|\tStep: [9/27]\t|\tLoss: 1.7796\n",
      "Epoch: [5/15]\t|\tStep: [18/27]\t|\tLoss: 1.2785\n",
      "Epoch: [5/15]\t|\tStep: [27/27]\t|\tLoss: 1.0183\n",
      "55.88584899902344\n",
      "epoch: 05 | Accuracy: 55.89 Loss: 39.4278\n",
      "\n",
      "Epoch: [6/15]\t|\tStep: [9/27]\t|\tLoss: 0.9167\n",
      "Epoch: [6/15]\t|\tStep: [18/27]\t|\tLoss: 0.8940\n",
      "Epoch: [6/15]\t|\tStep: [27/27]\t|\tLoss: 1.5183\n",
      "68.72770690917969\n",
      "epoch: 06 | Accuracy: 68.73 Loss: 27.6526\n",
      "\n",
      "Epoch: [7/15]\t|\tStep: [9/27]\t|\tLoss: 0.4536\n",
      "Epoch: [7/15]\t|\tStep: [18/27]\t|\tLoss: 0.7319\n",
      "Epoch: [7/15]\t|\tStep: [27/27]\t|\tLoss: 0.6621\n",
      "77.5267562866211\n",
      "epoch: 07 | Accuracy: 77.53 Loss: 19.2410\n",
      "\n",
      "Epoch: [8/15]\t|\tStep: [9/27]\t|\tLoss: 0.3476\n",
      "Epoch: [8/15]\t|\tStep: [18/27]\t|\tLoss: 0.3635\n",
      "Epoch: [8/15]\t|\tStep: [27/27]\t|\tLoss: 1.0090\n",
      "85.37455749511719\n",
      "epoch: 08 | Accuracy: 85.37 Loss: 12.9729\n",
      "\n",
      "Epoch: [9/15]\t|\tStep: [9/27]\t|\tLoss: 0.2206\n",
      "Epoch: [9/15]\t|\tStep: [18/27]\t|\tLoss: 0.2957\n",
      "Epoch: [9/15]\t|\tStep: [27/27]\t|\tLoss: 0.0946\n",
      "91.67657470703125\n",
      "epoch: 09 | Accuracy: 91.68 Loss: 6.9232\n",
      "\n",
      "Epoch: [10/15]\t|\tStep: [9/27]\t|\tLoss: 0.0795\n",
      "Epoch: [10/15]\t|\tStep: [18/27]\t|\tLoss: 0.0559\n",
      "Epoch: [10/15]\t|\tStep: [27/27]\t|\tLoss: 0.4029\n",
      "95.7193832397461\n",
      "epoch: 10 | Accuracy: 95.72 Loss: 4.0781\n",
      "\n",
      "Epoch: [11/15]\t|\tStep: [9/27]\t|\tLoss: 0.1425\n",
      "Epoch: [11/15]\t|\tStep: [18/27]\t|\tLoss: 0.3090\n",
      "Epoch: [11/15]\t|\tStep: [27/27]\t|\tLoss: 0.4117\n",
      "93.935791015625\n",
      "epoch: 11 | Accuracy: 93.94 Loss: 5.4882\n",
      "\n",
      "Epoch: [12/15]\t|\tStep: [9/27]\t|\tLoss: 0.1849\n",
      "Epoch: [12/15]\t|\tStep: [18/27]\t|\tLoss: 0.0821\n",
      "Epoch: [12/15]\t|\tStep: [27/27]\t|\tLoss: 0.1640\n",
      "95.83828735351562\n",
      "epoch: 12 | Accuracy: 95.84 Loss: 3.9675\n",
      "\n",
      "Epoch: [13/15]\t|\tStep: [9/27]\t|\tLoss: 0.1008\n",
      "Epoch: [13/15]\t|\tStep: [18/27]\t|\tLoss: 0.0756\n",
      "Epoch: [13/15]\t|\tStep: [27/27]\t|\tLoss: 0.0268\n",
      "96.78953552246094\n",
      "epoch: 13 | Accuracy: 96.79 Loss: 2.4023\n",
      "\n",
      "Epoch: [14/15]\t|\tStep: [9/27]\t|\tLoss: 0.0212\n",
      "Epoch: [14/15]\t|\tStep: [18/27]\t|\tLoss: 0.0169\n",
      "Epoch: [14/15]\t|\tStep: [27/27]\t|\tLoss: 0.0233\n",
      "98.69203186035156\n",
      "epoch: 14 | Accuracy: 98.69 Loss: 1.4358\n",
      "\n",
      "Epoch: [15/15]\t|\tStep: [9/27]\t|\tLoss: 0.0143\n",
      "Epoch: [15/15]\t|\tStep: [18/27]\t|\tLoss: 0.0887\n",
      "Epoch: [15/15]\t|\tStep: [27/27]\t|\tLoss: 0.0538\n",
      "97.85968780517578\n",
      "epoch: 15 | Accuracy: 97.86 Loss: 1.6104\n",
      "\n"
     ]
    }
   ],
   "source": [
    "# Train the model and record the accuracy and loss values for each epoch during training\n",
    "def train(num_epochs, model, loaders):\n",
    "    model.train()   \n",
    "    \n",
    "    # The first stores the correct rate and the second stores the loss value\n",
    "    Accy_list = []\n",
    "    Loss_list = []\n",
    "    \n",
    "    total_step = len(loaders)    \n",
    "    for epoch in range(num_epochs):\n",
    "        correct = 0\n",
    "        L = 0\n",
    "        for i, (images, labels) in enumerate(loaders):\n",
    "            images = images.to(device)\n",
    "            labels = labels.to(device)              \n",
    "            outputs = model(images)\n",
    "            loss = loss_func(outputs, labels)\n",
    "            \n",
    "            # Clear the previous gradient \n",
    "            optimizer.zero_grad()           \n",
    "            \n",
    "            # Backpropagate and update the parameters\n",
    "            loss.backward()               \n",
    "            optimizer.step()                \n",
    "            \n",
    "            _, predicted = torch.max(outputs.data, 1)\n",
    "            correct += (predicted == labels).float().sum()\n",
    "            L += loss.item()\n",
    "            if (i+1) % 9 == 0:\n",
    "                print ('Epoch: [{}/{}]\\t|\\tStep: [{}/{}]\\t|\\tLoss: {:.4f}' \n",
    "                       .format(epoch + 1, num_epochs, i + 1, total_step, loss.item()))\n",
    "                \n",
    "        accuracy = 100 * correct / len(train_set)\n",
    "        print(accuracy.item())\n",
    "        print(\"epoch: {:02d} | Accuracy: {:.2f} Loss: {:.4f}\\n\"\n",
    "              .format(epoch + 1, accuracy, L))\n",
    "        \n",
    "        # Add the correct and lost values for this epoch to the corresponding list\n",
    "        Accy_list.append(accuracy.item())\n",
    "        Loss_list.append(L)\n",
    "              \n",
    "    return Accy_list, Loss_list\n",
    "\n",
    "\n",
    "Accy_list, Loss_list = train(num_epochs, model, train_loader)"
   ]
  },
  {
   "cell_type": "code",
   "execution_count": 16,
   "id": "f3ff517e",
   "metadata": {},
   "outputs": [
    {
     "name": "stdout",
     "output_type": "stream",
     "text": [
      "[5.46967887878418, 14.030915260314941, 27.94292449951172, 42.687278747558594, 55.88584899902344, 68.72770690917969, 77.5267562866211, 85.37455749511719, 91.67657470703125, 95.7193832397461, 93.935791015625, 95.83828735351562, 96.78953552246094, 98.69203186035156, 97.85968780517578]\n"
     ]
    }
   ],
   "source": [
    "print(Accy_list)"
   ]
  },
  {
   "cell_type": "code",
   "execution_count": 17,
   "id": "6e141dd5",
   "metadata": {},
   "outputs": [
    {
     "name": "stdout",
     "output_type": "stream",
     "text": [
      "[81.85779547691345, 75.91502046585083, 64.4038360118866, 52.29869270324707, 39.42775881290436, 27.65256506204605, 19.24102011322975, 12.972934380173683, 6.923229314386845, 4.078063132241368, 5.488220002502203, 3.967470422387123, 2.402341403067112, 1.4358127312734723, 1.6104336800053716]\n"
     ]
    }
   ],
   "source": [
    "print(Loss_list)"
   ]
  },
  {
   "cell_type": "code",
   "execution_count": 18,
   "id": "c0e3f55b",
   "metadata": {},
   "outputs": [
    {
     "name": "stdout",
     "output_type": "stream",
     "text": [
      "Test data | Accuracy: 63.61 %, Loss: 82.3516 \n"
     ]
    }
   ],
   "source": [
    "# Test models\n",
    "def test(model, loaders):\n",
    "    model.eval()\n",
    "    with torch.no_grad():\n",
    "        correct = 0\n",
    "        L = 0\n",
    "        for images, labels in loaders:\n",
    "            images = images.to(device)\n",
    "            labels = labels.to(device)              \n",
    "            outputs = model(images)\n",
    "            # Get the loss value and add it up\n",
    "            loss = loss_func(outputs, labels)\n",
    "            L += loss.item()\n",
    "            \n",
    "             # Get the correct number of predicted samples\n",
    "            _, predicted = torch.max(outputs, 1)\n",
    "            correct += (predicted == labels).float().sum()\n",
    "            \n",
    "    accuracy = (100 * correct / len(test_set))\n",
    "    print(\"Test data | Accuracy: {:.2f} %, Loss: {:.4f} \".format(accuracy, L))\n",
    "    \n",
    "    return accuracy, L\n",
    "\n",
    "Test_acc, Test_loss = test(model, test_loader)"
   ]
  }
 ],
 "metadata": {
  "kernelspec": {
   "display_name": "hpe",
   "language": "python",
   "name": "hpe"
  },
  "language_info": {
   "codemirror_mode": {
    "name": "ipython",
    "version": 3
   },
   "file_extension": ".py",
   "mimetype": "text/x-python",
   "name": "python",
   "nbconvert_exporter": "python",
   "pygments_lexer": "ipython3",
   "version": "3.7.4"
  }
 },
 "nbformat": 4,
 "nbformat_minor": 5
}
