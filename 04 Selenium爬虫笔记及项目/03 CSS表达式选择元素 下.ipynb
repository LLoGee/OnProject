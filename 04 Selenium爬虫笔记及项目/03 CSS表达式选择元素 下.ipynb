{
 "cells": [
  {
   "cell_type": "markdown",
   "id": "e453c3a8",
   "metadata": {},
   "source": [
    "## 1. 如何验证 css 找到的元素是正确的\n",
    "    有时候自己写出的表达式时错误的，但是一般只有执行后才知道是错误的\n",
    "   \n",
    "       现在有一个要求 [id='food'] 里面的所有 span,并非下一级的 span\n",
    "           [id='food'] span\n",
    "           \n",
    "       使用开发者模式先尝试以下，Ctrl + F\n",
    "           然后使用 该 selector，看能够找到符合的元素\n",
    "       提高写代码效率的一个重要的技巧"
   ]
  },
  {
   "cell_type": "markdown",
   "id": "0b71fc15",
   "metadata": {},
   "source": [
    "## 2. CSS 选择器之所以强大，是因为在选择元素时，其限制条件之间可以组合\n",
    "    可以筛选 元素tag，属性名，属性的值 组合有空格，大于号，这是目前所了解的\n",
    "    \n",
    "###        如果此时想要一次返回两种有条件的组合\n",
    "            直接使用逗号隔开即可\n",
    "                比如 .plant, .animal\n",
    "                    这样会返回 class = 'plant' 与 class = 'animal' 的组合\n",
    "            \n",
    "            优先级关系  实际上 ，的优先级更低 已知低于 > 也就是先考虑 > 然后是 逗号两旁\n",
    "                    表明，看到逗号就看做分隔符号，一种或关系分隔符号\n",
    "      "
   ]
  },
  {
   "cell_type": "markdown",
   "id": "5b2221d3",
   "metadata": {},
   "source": [
    "## 3. 按次序选择子元素，课程介绍为子节点\n",
    "       理解为如何选择某一个元素的第几个子元素\n",
    "       \n",
    "       这个应该理解为 限制条件说明，补充说明\n",
    "           span:nth-child(2)\n",
    "               其中 :nth-child(2) 表示对该 span 进行条件说明\n",
    "                   span 为 直接父元素的 第二个子元素\n",
    "                   \n",
    "           只写上 :nth-child(2) 只要是直接父元素的第二个子元素，那么就会被返回\n",
    "           \n",
    "           span :nth-child(2) 空格隔开又是另一种意思，span子元素的 第二个就可以\n",
    "       \n",
    "       如果是倒数第几个元素\n",
    "               :nth-last-child(2)\n",
    "                   只要是直接父元素的倒数第二个元素就符合要求"
   ]
  },
  {
   "cell_type": "markdown",
   "id": "85d4656c",
   "metadata": {},
   "source": [
    "## 4. 第几个tag类型的子元素\n",
    "        比如有 第一个为 span 类型的子元素\n",
    "            span:nth-of-type(1)\n",
    "            \n",
    "        与上面的第几个次序相比\n",
    "            上面为次序限制条件\n",
    "        下面也为次序限制条件\n",
    "            但是多出了一个第一个类型限制\n",
    "                也就是只会在特定类型内考虑第几次序\n",
    "        \n",
    "         在实际使用场景中，都是灵活使用\n",
    "                 但是后者的频率更高一点\n",
    "                 \n",
    "                 \n",
    "     也有倒数第几个\n",
    "         span:nth-last-of-type(2)"
   ]
  },
  {
   "cell_type": "markdown",
   "id": "44c1e130",
   "metadata": {},
   "source": [
    "## 5.奇数节点 与 偶数节点\n",
    "    :nth-child(even)\n",
    "    :nth-child(odd)    "
   ]
  },
  {
   "cell_type": "markdown",
   "id": "4dbd3576",
   "metadata": {},
   "source": [
    "## 6. 选择紧跟着的元素，兄弟元素，可以是前面或者后面\n",
    "    \n",
    "    1. 如果是后面紧跟着的\n",
    "        用＋号表示\n",
    "            例如 h3+span\n",
    "                表示跟在 h3元素后的span 元素全都会被检测\n",
    "                \n",
    "    2. 如果是后面的所有节点\n",
    "        用~号表示\n",
    "            例如 h3~span\n",
    "                表示h3元素后面的所有span元素都会被检测，并且会跨级\n",
    "        可以与其他进行组合 比如 #t1 > h3~span, 此时就限定为了 t1 的下一级"
   ]
  }
 ],
 "metadata": {
  "kernelspec": {
   "display_name": "hpe",
   "language": "python",
   "name": "hpe"
  },
  "language_info": {
   "codemirror_mode": {
    "name": "ipython",
    "version": 3
   },
   "file_extension": ".py",
   "mimetype": "text/x-python",
   "name": "python",
   "nbconvert_exporter": "python",
   "pygments_lexer": "ipython3",
   "version": "3.7.4"
  }
 },
 "nbformat": 4,
 "nbformat_minor": 5
}
