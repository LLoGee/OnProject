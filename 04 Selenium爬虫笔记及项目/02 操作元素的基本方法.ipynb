{
 "cells": [
  {
   "cell_type": "code",
   "execution_count": 3,
   "id": "0f5c12b2",
   "metadata": {},
   "outputs": [],
   "source": [
    "import selenium\n",
    "from selenium import webdriver\n",
    "from selenium.webdriver.chrome.service import Service"
   ]
  },
  {
   "cell_type": "code",
   "execution_count": 4,
   "id": "9871086a",
   "metadata": {},
   "outputs": [],
   "source": [
    "driver = webdriver.Chrome(service=Service(r'chromedriver.exe'))"
   ]
  },
  {
   "cell_type": "markdown",
   "id": "a016582c",
   "metadata": {},
   "source": [
    "######  --- --- --- --- --- --- --- --- --- --- --- --- --- --- --- --- --- --- --- --- --- --- --- --- --- --- --- --- "
   ]
  },
  {
   "cell_type": "markdown",
   "id": "ae9baa89",
   "metadata": {},
   "source": [
    "# 1. 点击元素 click()\n",
    "    点击元素都是 点击元素覆盖区域的中心点\n",
    "## 因此针对某些元素是重叠的，此时点击操作就需要被考虑\n",
    "    # 比如点击元素本身可能不会有反应，但是要点击子元素，才会有反应，这时获取元素就得正确"
   ]
  },
  {
   "cell_type": "markdown",
   "id": "f52988a1",
   "metadata": {},
   "source": [
    "######  --- --- --- --- --- --- --- --- --- --- --- --- --- --- --- --- --- --- --- --- --- --- --- --- --- --- --- --- "
   ]
  },
  {
   "cell_type": "markdown",
   "id": "0cc9fd11",
   "metadata": {},
   "source": [
    "# 2. 输入 send_keys()\n",
    "       有时输入元素必须要将前面已经输入的内容进行删除，否则就会导致输入不准确\n",
    "## 使用 元素的clear()方法，send_keys() 也是对元素的方法"
   ]
  },
  {
   "cell_type": "markdown",
   "id": "e7e86538",
   "metadata": {},
   "source": [
    "######  --- --- --- --- --- --- --- --- --- --- --- --- --- --- --- --- --- --- --- --- --- --- --- --- --- --- --- --- "
   ]
  },
  {
   "cell_type": "markdown",
   "id": "8e84153c",
   "metadata": {},
   "source": [
    "# 3. 获取元素信息"
   ]
  },
  {
   "cell_type": "code",
   "execution_count": null,
   "id": "68a611a0",
   "metadata": {},
   "outputs": [],
   "source": [
    "# 1. 获取文本内容，\n",
    "    # 这种文本内容一般都是展示在界面上的\n",
    "# element = wd.find_element(By.ID, 'animal')\n",
    "# print(element.text)"
   ]
  },
  {
   "cell_type": "code",
   "execution_count": null,
   "id": "1c7fbdf1",
   "metadata": {},
   "outputs": [],
   "source": [
    "# 2. 获取元素属性的属性值\n",
    "    # 元素属性值一般是不可见的，使用get_attribute\n",
    "        # 一般有些关键信息要抓取的时候，就得根据\n",
    "            # 有些内容虽然显示在了页面上，但是并不会显示在text中，而是属性中\n",
    "# element = wd.find_element(By.ID, 'input_name')\n",
    "# print(element.get_attribute('class'))"
   ]
  },
  {
   "cell_type": "code",
   "execution_count": null,
   "id": "22e6164b",
   "metadata": {},
   "outputs": [],
   "source": [
    "# 3. 获取整个元素所有对应的 html 内容\n",
    "    # 要获取整个元素对应的HTML文本内容，可以使用 element.get_attribute('outerHTML')\n",
    "    # 如果，只是想获取某个元素 内部 的HTML文本内容，可以使用 element.get_attribute('innerHTML')\n",
    "            \n",
    "        # 其中 outerHTML 包括自身element的，而 innerHTML 则只有内部\n",
    "    \n",
    "# 这个一般有时候，获取所有内容，然后根据正则表达式，来截取有用的信息"
   ]
  },
  {
   "cell_type": "code",
   "execution_count": 6,
   "id": "d0665d65",
   "metadata": {},
   "outputs": [],
   "source": [
    "# 4. 获取 send_keys 中的内容，则是根据element.get_attribute('value')\n",
    "    # value 这个元素属性似乎是不可见的"
   ]
  },
  {
   "cell_type": "code",
   "execution_count": null,
   "id": "ef1171dc",
   "metadata": {},
   "outputs": [],
   "source": [
    "# 5. 进阶获取文本内容\n",
    "    # 但是，有时候，元素的文本内容没有展示在界面上，或者没有完全完全展示在界面上。\n",
    "    # 这时，用WebElement对象的text属性，获取文本内容，就会有问题。\n",
    "\n",
    "    # 出现这种情况，可以尝试使用 element.get_attribute('innerText') ，或者 element.get_attribute('textContent')\n",
    "\n",
    "    # 使用 innerText 和 textContent 的区别是，前者只显示元素可见文本内容，后者显示所有内容（包括display属性为none的部分）"
   ]
  }
 ],
 "metadata": {
  "kernelspec": {
   "display_name": "Python 3 (ipykernel)",
   "language": "python",
   "name": "python3"
  },
  "language_info": {
   "codemirror_mode": {
    "name": "ipython",
    "version": 3
   },
   "file_extension": ".py",
   "mimetype": "text/x-python",
   "name": "python",
   "nbconvert_exporter": "python",
   "pygments_lexer": "ipython3",
   "version": "3.11.4"
  }
 },
 "nbformat": 4,
 "nbformat_minor": 5
}
