{
 "cells": [
  {
   "cell_type": "markdown",
   "id": "7d9abed5",
   "metadata": {},
   "source": [
    "## 1. 我们为什么要学习 Xpath\n",
    "        首先 Xpath 全名为 XML path lauguage\n",
    "            用来在 xml 与 html 中选择节点的语言\n",
    "        目前的主流浏览器都支持 Xpath 语法\n",
    "            Xpath 有两个版本，1与2，浏览器目前大多支持 1，虽然有限，但是已经足够强大了\n",
    "        \n",
    "    虽然已经学习了 CSS 其功能也很强大，但是 Xpath 在某些方面更具有优势\n",
    "        1. 有些场景 CSS 选择 web 元素非常麻烦，但是 Xpath 却很方便\n",
    "        2. Xpath 不仅可以用于自动化，还可以在其他领域被使用\n",
    "            例如爬虫框架 Scrapy\n",
    "            手机App框架 Appium，它只支持 Xpath"
   ]
  },
  {
   "cell_type": "markdown",
   "id": "679ef9b0",
   "metadata": {},
   "source": [
    "## 2. Xpath 语法\n",
    "    在Xpath文档中，整个html文档根节点，都是用 / 表示， root\n",
    "        如果想查看根节点下的 html 节点，使用 /html\n",
    "            / 前后可以理解为父子级别关系，通过文件管理器进行理解 path 路径\n",
    "            \n",
    "注意以下筛选的都是 tag 表示的元素节点，并不跟CSS类似，可以单独设计元素属性\n",
    "\n",
    "    1. 最前面的一杠 /，代表根节点\n",
    "    2. 每次都从根节点写下去的节点，称之为根节点路径\n",
    "        例如 /html/body/div\n",
    "    3. 不需要从根节点开始，而不管具体的位置，只是相对位置\n",
    "        表示所有 tag 类型为 div 的节点\n",
    "            //div，等同于CSS的div，但是Xpath不能这么写，这么写表明根节点就是div，事实上是不合法的\n",
    "    4. 组合相对位置\n",
    "        //div//p 表明只要是在div节点后面的p节点都可以\n",
    "            等同于 CSS 的 div p\n",
    "        如果是直接子节点，表示为 //div/p\n",
    "            等同于 CSS 的 div > p\n",
    "    5. 所有子节点\n",
    "        //div/* 表明只要是直接子节点，就会被选中 * 代表任意的子节点"
   ]
  },
  {
   "cell_type": "markdown",
   "id": "6af59a94",
   "metadata": {},
   "source": [
    "## 3. Xpath 根据属性举行元素选择\n",
    "    Xpath 对于属性值的筛选 与 CSS 类似\n",
    "        格式 [@属性名=\"属性值\"]\n",
    "            单引号或者双引号都可以，但是对于CSS，可以没有引号，但一律以引号为标准\n",
    "            \n",
    "    1. 比如选择所有 id 为 'west'的元素\n",
    "        //*[@id='west']\n",
    "            CSS写法：[id='west']\n",
    "        对于只要有id属性，而不管属性值，那么就可以\n",
    "            //*[@id]，对于css 则是[id=]\n",
    "            \n",
    "    2. CSS对于属性值的筛选是 只要包含就可以\n",
    "        比如 [class=12]，如果真正的属性值是 123456，也是可以筛选出来的\n",
    "            然而对于 Xpath，则只能是 [class='123456']\n",
    "            \n",
    "    3. 并且 CSS 对于属性值筛选 有范围规定\n",
    "        *= 表示包含，似乎默认是包含\n",
    "        ^= 表示开头\n",
    "        ＄= 表示结尾\n",
    "    \n",
    "    4. Xpath 中同样支持 包含，开头与结尾\n",
    "        //*[contains(@style, 'color')]  # 表示所有属性 style 包含 color 的子节点\n",
    "        //*[starts-with(@style, 'jar')] # 表示以 style 属性值以 jar 开头的所有子节点(元素)\n",
    "        //*[ends-with(@style, 'jar')]   # 这个只存在于xpath 2.0 中，表明1.0不可用，需要使用要 CSS 替代\n",
    "    \n",
    "    5. 按照次序进行选择\n",
    "        1. 选择 //p 类型中的第二 子元素\n",
    "            直接//p[2]，可以理解为列表，//p 表示所有 p 类型节点, 理解成一个列表\n",
    "                错误的：CSS 中，则是p:nth-child(2)\n",
    "                    这个表明为第二个p类型的子节点，而并非第二p类型子节点\n",
    "                正确使用，p:nth-of-type(2) 表明第二个p类型的元素，子节点\n",
    "           //div/p[2] 表明第二个p类型的为div的子节点\n",
    "        \n",
    "        2. 选择某个元素的第二个子元素\n",
    "            //div/*[2] 表示任何div类型元素的第二个子元素\n",
    "            如果是所有类型的第二个, 则是\n",
    "        \n",
    "        3. 对于倒数选择, 则是\n",
    "            //p[last()-1], 同样理解为 //p 是一个列表, [] 则表示取出列表中的第几个元素 \n",
    "                last()表明最后一个数字, last()-1表明倒数第二个, 减少了1\n",
    "        \n",
    "        4. 次序切片操作\n",
    "            1. //option[position()<=2]\n",
    "                这是前两个元素\n",
    "            2. 推理\n",
    "                    //option[position()>=4] 大于等于第4个位置开始\n",
    "                //option[position()>=last()-1] 最后两个"
   ]
  },
  {
   "cell_type": "markdown",
   "id": "8884186c",
   "metadata": {},
   "source": [
    "## 4. 组选择与兄弟节点的选择\n",
    "    1. 组选择\n",
    "        Xpath: //option | //h4      # | 表示 或         # Xpath 的逻辑更接近编程语言\n",
    "        CSS:   option, h4           # , 表示两者都选择   # CSS 则是方法调用\n",
    "        \n",
    "    2. 父节点的选择(CSS中不可实现)\n",
    "        /.. 表示父节点\n",
    "        //div/.. 则是表示所有 元素类型为div 的 上层父节点\n",
    "            类似于 cmd 文件管理命令\n",
    "    3. 兄弟节点的选择\n",
    "        CSS: 选择后面紧跟着的+, 选择后面所有的~\n",
    "        Xpath: 还可以选择前面的节点\n",
    "            //*[@class='single_choice']/preceding-sibling::* 表明前面所有兄弟节点\n",
    "            //*[@class='single_choice']/preceding-sibling::*[1] 表示前面一个\n",
    "            \n",
    "            并且还可以增加限制条件\n",
    "            //*[@class='single_choice']/preceding-sibling::select, 表明前面所有select节点, 注意是类型\n",
    "            \n",
    "        具体两种方法使用, 查阅 CSS 与 Xpath 文档"
   ]
  },
  {
   "cell_type": "markdown",
   "id": "43c777da",
   "metadata": {},
   "source": [
    "## 5. 一个小坑\n",
    "\n",
    "    如果element使用Xpath方法, 效果仍然是webdriver, 与CSS不同\n",
    "        如果需要使用对于网页特定元素需要 加上.\n",
    "            例如 .//p"
   ]
  },
  {
   "cell_type": "markdown",
   "id": "713d08ee",
   "metadata": {},
   "source": [
    "## 6. Edge 浏览器进行自动化\n",
    "    目前来看,主流方向还是 Chrome,\n",
    "        两者内核都是 Chromium\n",
    "        \n",
    "    主要是怎么配置自动化环境\n",
    "        对于任何一套浏览器, selenium 操作都是相同的\n",
    "        \n",
    "    仍然是下载浏览器, 查看版本\n",
    "        然后去官网下载 驱动"
   ]
  }
 ],
 "metadata": {
  "kernelspec": {
   "display_name": "Python 3 (ipykernel)",
   "language": "python",
   "name": "python3"
  },
  "language_info": {
   "codemirror_mode": {
    "name": "ipython",
    "version": 3
   },
   "file_extension": ".py",
   "mimetype": "text/x-python",
   "name": "python",
   "nbconvert_exporter": "python",
   "pygments_lexer": "ipython3",
   "version": "3.11.4"
  }
 },
 "nbformat": 4,
 "nbformat_minor": 5
}
