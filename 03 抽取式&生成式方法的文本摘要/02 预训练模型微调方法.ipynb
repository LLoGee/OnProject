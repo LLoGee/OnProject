{
 "cells": [
  {
   "cell_type": "code",
   "execution_count": 1,
   "id": "38d7f789",
   "metadata": {},
   "outputs": [
    {
     "name": "stdout",
     "output_type": "stream",
     "text": [
      "[PhysicalDevice(name='/physical_device:GPU:0', device_type='GPU')]\n",
      "INFO:tensorflow:Mixed precision compatibility check (mixed_float16): OK\n",
      "Your GPU will likely run quickly with dtype policy mixed_float16 as it has compute capability of at least 7.0. Your GPU: GeForce GTX 1650 Ti, compute capability 7.5\n",
      "Compute dtype: float16\n"
     ]
    }
   ],
   "source": [
    "from transformers import AdamWeightDecay\n",
    "import tensorflow as tf\n",
    "from tensorflow.keras import mixed_precision\n",
    "import pandas as pd\n",
    "import numpy as np\n",
    "import random\n",
    "import numpy as np\n",
    "import nltk\n",
    "\n",
    "gpus = tf.config.experimental.list_physical_devices(device_type='GPU')\n",
    "print(gpus)\n",
    "# Whether to limit all GPU memory growth True to limit\n",
    "for gpu in gpus:\n",
    "    tf.config.experimental.set_memory_growth(device=gpu, enable=True)\n",
    "# GPU uses mixed precision\n",
    "policy = mixed_precision.Policy('mixed_float16')\n",
    "mixed_precision.set_global_policy(policy)\n",
    "print('Compute dtype: %s' % policy.compute_dtype)\n",
    "\n",
    "from transformers import AutoTokenizer\n",
    "from transformers import TFT5ForConditionalGeneration\n",
    "from transformers import DataCollatorForSeq2Seq\n",
    "\n",
    "random.seed(42)"
   ]
  },
  {
   "cell_type": "code",
   "execution_count": 2,
   "id": "c401ae18",
   "metadata": {},
   "outputs": [],
   "source": [
    "# Import a T5 model word splitter, which has an embedding function that converts the input text into a T5 model input\n"
   ]
  },
  {
   "cell_type": "markdown",
   "id": "120e09ab",
   "metadata": {},
   "source": [
    "# 1. importing already processed data"
   ]
  },
  {
   "cell_type": "code",
   "execution_count": 3,
   "id": "95febcb3",
   "metadata": {},
   "outputs": [
    {
     "name": "stderr",
     "output_type": "stream",
     "text": [
      "Using custom data configuration default-9ad319b888548acb\n"
     ]
    },
    {
     "name": "stdout",
     "output_type": "stream",
     "text": [
      "Downloading and preparing dataset csv/default to C:\\Users\\HU\\.cache\\huggingface\\datasets\\csv\\default-9ad319b888548acb\\0.0.0\\51cce309a08df9c4d82ffd9363bbe090bf173197fc01a71b034e8594995a1a58...\n"
     ]
    },
    {
     "data": {
      "application/vnd.jupyter.widget-view+json": {
       "model_id": "fc8528c3db544c69a4e16465fa61283c",
       "version_major": 2,
       "version_minor": 0
      },
      "text/plain": [
       "Downloading data files:   0%|          | 0/1 [00:00<?, ?it/s]"
      ]
     },
     "metadata": {},
     "output_type": "display_data"
    },
    {
     "data": {
      "application/vnd.jupyter.widget-view+json": {
       "model_id": "def3c8975fad41afb67abdb9fa9182d6",
       "version_major": 2,
       "version_minor": 0
      },
      "text/plain": [
       "Extracting data files:   0%|          | 0/1 [00:00<?, ?it/s]"
      ]
     },
     "metadata": {},
     "output_type": "display_data"
    },
    {
     "data": {
      "application/vnd.jupyter.widget-view+json": {
       "model_id": "",
       "version_major": 2,
       "version_minor": 0
      },
      "text/plain": [
       "0 tables [00:00, ? tables/s]"
      ]
     },
     "metadata": {},
     "output_type": "display_data"
    },
    {
     "name": "stdout",
     "output_type": "stream",
     "text": [
      "Dataset csv downloaded and prepared to C:\\Users\\HU\\.cache\\huggingface\\datasets\\csv\\default-9ad319b888548acb\\0.0.0\\51cce309a08df9c4d82ffd9363bbe090bf173197fc01a71b034e8594995a1a58. Subsequent calls will reuse this data.\n"
     ]
    },
    {
     "data": {
      "application/vnd.jupyter.widget-view+json": {
       "model_id": "c6b693378f5c404dbce87eb198f3cbf4",
       "version_major": 2,
       "version_minor": 0
      },
      "text/plain": [
       "  0%|          | 0/1 [00:00<?, ?it/s]"
      ]
     },
     "metadata": {},
     "output_type": "display_data"
    },
    {
     "name": "stderr",
     "output_type": "stream",
     "text": [
      "Using custom data configuration default-3a165a301015a263\n"
     ]
    },
    {
     "name": "stdout",
     "output_type": "stream",
     "text": [
      "Downloading and preparing dataset csv/default to C:\\Users\\HU\\.cache\\huggingface\\datasets\\csv\\default-3a165a301015a263\\0.0.0\\51cce309a08df9c4d82ffd9363bbe090bf173197fc01a71b034e8594995a1a58...\n"
     ]
    },
    {
     "data": {
      "application/vnd.jupyter.widget-view+json": {
       "model_id": "aca472891eec47c89acf37ddb7e476b3",
       "version_major": 2,
       "version_minor": 0
      },
      "text/plain": [
       "Downloading data files:   0%|          | 0/1 [00:00<?, ?it/s]"
      ]
     },
     "metadata": {},
     "output_type": "display_data"
    },
    {
     "data": {
      "application/vnd.jupyter.widget-view+json": {
       "model_id": "c9cbc5a81e09454a8620e7e1c527d029",
       "version_major": 2,
       "version_minor": 0
      },
      "text/plain": [
       "Extracting data files:   0%|          | 0/1 [00:00<?, ?it/s]"
      ]
     },
     "metadata": {},
     "output_type": "display_data"
    },
    {
     "data": {
      "application/vnd.jupyter.widget-view+json": {
       "model_id": "",
       "version_major": 2,
       "version_minor": 0
      },
      "text/plain": [
       "0 tables [00:00, ? tables/s]"
      ]
     },
     "metadata": {},
     "output_type": "display_data"
    },
    {
     "name": "stdout",
     "output_type": "stream",
     "text": [
      "Dataset csv downloaded and prepared to C:\\Users\\HU\\.cache\\huggingface\\datasets\\csv\\default-3a165a301015a263\\0.0.0\\51cce309a08df9c4d82ffd9363bbe090bf173197fc01a71b034e8594995a1a58. Subsequent calls will reuse this data.\n"
     ]
    },
    {
     "data": {
      "application/vnd.jupyter.widget-view+json": {
       "model_id": "f53c0283231747ae9cdad55500b46a26",
       "version_major": 2,
       "version_minor": 0
      },
      "text/plain": [
       "  0%|          | 0/1 [00:00<?, ?it/s]"
      ]
     },
     "metadata": {},
     "output_type": "display_data"
    }
   ],
   "source": [
    "from datasets import load_dataset, load_metric\n",
    "\n",
    "metric = load_metric(\"./rouge_n.py\")\n",
    "train_news_data = load_dataset(\"csv\", data_files=\"./Data/train_text_summary.csv\")\n",
    "test_news_data = load_dataset(\"csv\", data_files=\"./Data/test_text_summary.csv\")"
   ]
  },
  {
   "cell_type": "markdown",
   "id": "e9e2b783",
   "metadata": {},
   "source": [
    "# 2. pass the tokenizer and modify the data"
   ]
  },
  {
   "cell_type": "code",
   "execution_count": 32,
   "id": "4f9fdf39",
   "metadata": {},
   "outputs": [],
   "source": [
    "max_input_length = 10000\n",
    "max_target_length = 10000\n",
    "prefix = \"summarize: \"\n",
    "def preprocess_function(removed_news_data):\n",
    "\n",
    "    inputs = [prefix+doc for doc in removed_news_data[\"text\"]]\n",
    "    model_inputs = tokenizer(inputs, max_length=max_input_length, truncation=True)\n",
    "\n",
    "    # Setup the tokenizer for targets\n",
    "    with tokenizer.as_target_tokenizer():\n",
    "        labels = tokenizer(\n",
    "            removed_news_data[\"summary\"], max_length=max_target_length, truncation=True\n",
    "        )\n",
    "\n",
    "    model_inputs[\"labels\"] = labels[\"input_ids\"]\n",
    "    return model_inputs"
   ]
  },
  {
   "cell_type": "code",
   "execution_count": 33,
   "id": "be75459e",
   "metadata": {
    "scrolled": false
   },
   "outputs": [
    {
     "name": "stderr",
     "output_type": "stream",
     "text": [
      "Loading cached processed dataset at C:\\Users\\HU\\.cache\\huggingface\\datasets\\csv\\default-5433116e5e2e416b\\0.0.0\\51cce309a08df9c4d82ffd9363bbe090bf173197fc01a71b034e8594995a1a58\\cache-1c80317fa3b1799d.arrow\n"
     ]
    }
   ],
   "source": [
    "train_tokenized_datasets = train_news_data.map(preprocess_function, batched=True)\n",
    "# test_tokenized_datasets = test_news_data.map(preprocess_function, batched=True)"
   ]
  },
  {
   "cell_type": "code",
   "execution_count": 37,
   "id": "30809dfb",
   "metadata": {
    "scrolled": false
   },
   "outputs": [
    {
     "name": "stderr",
     "output_type": "stream",
     "text": [
      "All model checkpoint layers were used when initializing TFT5ForConditionalGeneration.\n",
      "\n",
      "All the layers of TFT5ForConditionalGeneration were initialized from the model checkpoint at ./t5-small.\n",
      "If your task is similar to the task the model of the checkpoint was trained on, you can already use TFT5ForConditionalGeneration for predictions without further training.\n"
     ]
    }
   ],
   "source": [
    "# Import T5 models\n",
    "model = TFT5ForConditionalGeneration.from_pretrained(\"./t5-small\")\n",
    "# Use transformer-specific data sorting to build data pipelines\n",
    "data_collator = DataCollatorForSeq2Seq(tokenizer=tokenizer, model=model, return_tensors=\"tf\")"
   ]
  },
  {
   "cell_type": "markdown",
   "id": "ef1ad7b5",
   "metadata": {},
   "source": [
    "# 3. build the data pipeline"
   ]
  },
  {
   "cell_type": "code",
   "execution_count": 40,
   "id": "b5431f74",
   "metadata": {},
   "outputs": [],
   "source": [
    "# Define the hyperparameters and the data pipeline\n",
    "# For now, we only consider the training set, so there is only one train below\n",
    "# If we use test, we need to write one more test to handle code_cell, \n",
    "# because test_text_summary has some mixed data, and only pure str data can pass the tokenizer of T5.\n",
    "batch_size = 1\n",
    "learning_rate = 2e-5\n",
    "weight_decay = 0.01\n",
    "num_train_epochs = 1\n",
    "\n",
    "train_dataset = train_tokenized_datasets[\"train\"].to_tf_dataset(\n",
    "    batch_size=batch_size,\n",
    "    columns=[\"input_ids\", \"attention_mask\", \"labels\"],\n",
    "    shuffle=False,\n",
    "    collate_fn=data_collator,\n",
    ")\n",
    "# test_dataset = test_tokenized_datasets[\"train\"].to_tf_dataset(\n",
    "#     batch_size=batch_size,\n",
    "#     columns=[\"input_ids\", \"attention_mask\", \"labels\"],\n",
    "#     shuffle=False,\n",
    "#     collate_fn=data_collator,\n",
    "# )"
   ]
  },
  {
   "cell_type": "code",
   "execution_count": 41,
   "id": "774d839d",
   "metadata": {},
   "outputs": [],
   "source": [
    "# Define AUTOTUNE so that data in memory can be multi-threaded into the GPU\n",
    "AUTOTUNE = tf.data.AUTOTUNE\n",
    "train_dataset = train_dataset.cache().prefetch(buffer_size=AUTOTUNE)\n",
    "# train_dataset = dtrain_datasets.cache().shuffle(2000).prefetch(buffer_size=AUTOTUNE)\n",
    "# test_dataset = test_dataset.cache().prefetch(buffer_size=AUTOTUNE)"
   ]
  },
  {
   "cell_type": "markdown",
   "id": "97138597",
   "metadata": {},
   "source": [
    "# 4. define the ROUGE series of evaluation functions"
   ]
  },
  {
   "cell_type": "code",
   "execution_count": 43,
   "id": "eee7d73d",
   "metadata": {},
   "outputs": [],
   "source": [
    "def metric_fn(eval_predictions):\n",
    "    predictions, labels = eval_predictions\n",
    "    decoded_predictions = tokenizer.batch_decode(predictions, skip_special_tokens=True)\n",
    "    for label in labels:\n",
    "        label[label < 0] = tokenizer.pad_token_id  # Replace masked label tokens\n",
    "    decoded_labels = tokenizer.batch_decode(labels, skip_special_tokens=True)\n",
    "    # Rouge expects a newline after each sentence\n",
    "    decoded_predictions = [\n",
    "        \"\\n\".join(nltk.sent_tokenize(pred.strip())) for pred in decoded_predictions\n",
    "    ]\n",
    "    decoded_labels = [\n",
    "        \"\\n\".join(nltk.sent_tokenize(label.strip())) for label in decoded_labels\n",
    "    ]\n",
    "    result = metric.compute(\n",
    "        predictions=decoded_predictions, references=decoded_labels, use_stemmer=True\n",
    "    )\n",
    "    # Extract a few results\n",
    "    result = {key: value.mid.fmeasure * 100 for key, value in result.items()}\n",
    "    # Add mean generated length\n",
    "    prediction_lens = [\n",
    "        np.count_nonzero(pred != tokenizer.pad_token_id) for pred in predictions\n",
    "    ]\n",
    "    result[\"gen_len\"] = np.mean(prediction_lens)\n",
    "\n",
    "    return result"
   ]
  },
  {
   "cell_type": "markdown",
   "id": "ac9bda36",
   "metadata": {},
   "source": [
    "# 5. Define the optimizer and training process of the model (if the video memory is sufficient, the model can be trained)"
   ]
  },
  {
   "cell_type": "code",
   "execution_count": 44,
   "id": "564f1892",
   "metadata": {},
   "outputs": [
    {
     "name": "stderr",
     "output_type": "stream",
     "text": [
      "No loss specified in compile() - the model's internal loss computation will be used as the loss. Don't panic - this is a common way to train TensorFlow models in Transformers! To disable this behaviour please pass a loss argument, or explicitly pass `loss=None` if you do not want your model to compute a loss.\n"
     ]
    }
   ],
   "source": [
    "# Define the optimizer for the model and compile the model\n",
    "# Note that the T5 model as transformer generally has a built-in loss function that we don't have to redesign\n",
    "optimizer = AdamWeightDecay(learning_rate=learning_rate, weight_decay_rate=weight_decay)\n",
    "model.compile(optimizer=optimizer)"
   ]
  },
  {
   "cell_type": "code",
   "execution_count": 281,
   "id": "7cd97c27",
   "metadata": {
    "collapsed": true
   },
   "outputs": [
    {
     "name": "stderr",
     "output_type": "stream",
     "text": [
      "WARNING:root:No label_cols specified for KerasMetricCallback, assuming you want the 'labels' key.\n"
     ]
    },
    {
     "name": "stdout",
     "output_type": "stream",
     "text": [
      "  20/1381 [..............................] - ETA: 10:48 - loss: nan"
     ]
    },
    {
     "ename": "ResourceExhaustedError",
     "evalue": "Graph execution error:\n\nDetected at node 'tft5_for_conditional_generation_1/decoder/block_._4/layer_._1/EncDecAttention/einsum/Einsum' defined at (most recent call last):\n    File \"D:\\Anaconda3\\envs\\hp\\lib\\runpy.py\", line 193, in _run_module_as_main\n      \"__main__\", mod_spec)\n    File \"D:\\Anaconda3\\envs\\hp\\lib\\runpy.py\", line 85, in _run_code\n      exec(code, run_globals)\n    File \"D:\\Anaconda3\\envs\\hp\\Lib\\site-packages\\ipykernel_launcher.py\", line 16, in <module>\n      app.launch_new_instance()\n    File \"D:\\Anaconda3\\envs\\hp\\Lib\\site-packages\\traitlets\\config\\application.py\", line 846, in launch_instance\n      app.start()\n    File \"D:\\Anaconda3\\envs\\hp\\Lib\\site-packages\\ipykernel\\kernelapp.py\", line 677, in start\n      self.io_loop.start()\n    File \"D:\\Anaconda3\\envs\\hp\\Lib\\site-packages\\tornado\\platform\\asyncio.py\", line 199, in start\n      self.asyncio_loop.run_forever()\n    File \"D:\\Anaconda3\\envs\\hp\\lib\\asyncio\\base_events.py\", line 534, in run_forever\n      self._run_once()\n    File \"D:\\Anaconda3\\envs\\hp\\lib\\asyncio\\base_events.py\", line 1771, in _run_once\n      handle._run()\n    File \"D:\\Anaconda3\\envs\\hp\\lib\\asyncio\\events.py\", line 88, in _run\n      self._context.run(self._callback, *self._args)\n    File \"D:\\Anaconda3\\envs\\hp\\Lib\\site-packages\\ipykernel\\kernelbase.py\", line 471, in dispatch_queue\n      await self.process_one()\n    File \"D:\\Anaconda3\\envs\\hp\\Lib\\site-packages\\ipykernel\\kernelbase.py\", line 460, in process_one\n      await dispatch(*args)\n    File \"D:\\Anaconda3\\envs\\hp\\Lib\\site-packages\\ipykernel\\kernelbase.py\", line 367, in dispatch_shell\n      await result\n    File \"D:\\Anaconda3\\envs\\hp\\Lib\\site-packages\\ipykernel\\kernelbase.py\", line 662, in execute_request\n      reply_content = await reply_content\n    File \"D:\\Anaconda3\\envs\\hp\\Lib\\site-packages\\ipykernel\\ipkernel.py\", line 360, in do_execute\n      res = shell.run_cell(code, store_history=store_history, silent=silent)\n    File \"D:\\Anaconda3\\envs\\hp\\Lib\\site-packages\\ipykernel\\zmqshell.py\", line 532, in run_cell\n      return super().run_cell(*args, **kwargs)\n    File \"D:\\Anaconda3\\envs\\hp\\Lib\\site-packages\\IPython\\core\\interactiveshell.py\", line 2958, in run_cell\n      raw_cell, store_history, silent, shell_futures)\n    File \"D:\\Anaconda3\\envs\\hp\\Lib\\site-packages\\IPython\\core\\interactiveshell.py\", line 3003, in _run_cell\n      return runner(coro)\n    File \"D:\\Anaconda3\\envs\\hp\\Lib\\site-packages\\IPython\\core\\async_helpers.py\", line 78, in _pseudo_sync_runner\n      coro.send(None)\n    File \"D:\\Anaconda3\\envs\\hp\\Lib\\site-packages\\IPython\\core\\interactiveshell.py\", line 3229, in run_cell_async\n      interactivity=interactivity, compiler=compiler, result=result)\n    File \"D:\\Anaconda3\\envs\\hp\\Lib\\site-packages\\IPython\\core\\interactiveshell.py\", line 3444, in run_ast_nodes\n      if (await self.run_code(code, result,  async_=asy)):\n    File \"D:\\Anaconda3\\envs\\hp\\Lib\\site-packages\\IPython\\core\\interactiveshell.py\", line 3524, in run_code\n      exec(code_obj, self.user_global_ns, self.user_ns)\n    File \"C:\\Users\\HU\\AppData\\Local\\Temp\\ipykernel_21892\\592755566.py\", line 12, in <module>\n      model.fit(train_dataset, validation_data=None, epochs=1, callbacks=callbacks)\n    File \"D:\\Anaconda3\\envs\\hp\\Lib\\site-packages\\keras\\utils\\traceback_utils.py\", line 64, in error_handler\n      return fn(*args, **kwargs)\n    File \"D:\\Anaconda3\\envs\\hp\\Lib\\site-packages\\keras\\engine\\training.py\", line 1409, in fit\n      tmp_logs = self.train_function(iterator)\n    File \"D:\\Anaconda3\\envs\\hp\\Lib\\site-packages\\keras\\engine\\training.py\", line 1051, in train_function\n      return step_function(self, iterator)\n    File \"D:\\Anaconda3\\envs\\hp\\Lib\\site-packages\\keras\\engine\\training.py\", line 1040, in step_function\n      outputs = model.distribute_strategy.run(run_step, args=(data,))\n    File \"D:\\Anaconda3\\envs\\hp\\Lib\\site-packages\\keras\\engine\\training.py\", line 1030, in run_step\n      outputs = model.train_step(data)\n    File \"D:\\Anaconda3\\envs\\hp\\Lib\\site-packages\\transformers\\modeling_tf_utils.py\", line 1117, in train_step\n      y_pred = self(x, training=True)\n    File \"D:\\Anaconda3\\envs\\hp\\Lib\\site-packages\\keras\\utils\\traceback_utils.py\", line 64, in error_handler\n      return fn(*args, **kwargs)\n    File \"D:\\Anaconda3\\envs\\hp\\Lib\\site-packages\\keras\\engine\\training.py\", line 490, in __call__\n      return super().__call__(*args, **kwargs)\n    File \"D:\\Anaconda3\\envs\\hp\\Lib\\site-packages\\keras\\utils\\traceback_utils.py\", line 64, in error_handler\n      return fn(*args, **kwargs)\n    File \"D:\\Anaconda3\\envs\\hp\\Lib\\site-packages\\keras\\engine\\base_layer.py\", line 1014, in __call__\n      outputs = call_fn(inputs, *args, **kwargs)\n    File \"D:\\Anaconda3\\envs\\hp\\Lib\\site-packages\\keras\\utils\\traceback_utils.py\", line 92, in error_handler\n      return fn(*args, **kwargs)\n    File \"D:\\Anaconda3\\envs\\hp\\Lib\\site-packages\\transformers\\modeling_tf_utils.py\", line 1327, in run_call_with_unpacked_inputs\n      self(self.dummy_inputs)\n    File \"D:\\Anaconda3\\envs\\hp\\Lib\\site-packages\\transformers\\models\\t5\\modeling_tf_t5.py\", line 1390, in call\n      decoder_outputs = self.decoder(\n    File \"D:\\Anaconda3\\envs\\hp\\Lib\\site-packages\\keras\\utils\\traceback_utils.py\", line 64, in error_handler\n      return fn(*args, **kwargs)\n    File \"D:\\Anaconda3\\envs\\hp\\Lib\\site-packages\\keras\\engine\\base_layer.py\", line 1014, in __call__\n      outputs = call_fn(inputs, *args, **kwargs)\n    File \"D:\\Anaconda3\\envs\\hp\\Lib\\site-packages\\keras\\utils\\traceback_utils.py\", line 92, in error_handler\n      return fn(*args, **kwargs)\n    File \"D:\\Anaconda3\\envs\\hp\\Lib\\site-packages\\transformers\\modeling_tf_utils.py\", line 1327, in run_call_with_unpacked_inputs\n      self(self.dummy_inputs)\n    File \"D:\\Anaconda3\\envs\\hp\\Lib\\site-packages\\transformers\\models\\t5\\modeling_tf_t5.py\", line 759, in call\n      for idx, (layer_module, past_key_value) in enumerate(zip(self.block, past_key_values)):\n    File \"D:\\Anaconda3\\envs\\hp\\Lib\\site-packages\\transformers\\models\\t5\\modeling_tf_t5.py\", line 762, in call\n      layer_outputs = layer_module(\n    File \"D:\\Anaconda3\\envs\\hp\\Lib\\site-packages\\keras\\utils\\traceback_utils.py\", line 64, in error_handler\n      return fn(*args, **kwargs)\n    File \"D:\\Anaconda3\\envs\\hp\\Lib\\site-packages\\keras\\engine\\base_layer.py\", line 1014, in __call__\n      outputs = call_fn(inputs, *args, **kwargs)\n    File \"D:\\Anaconda3\\envs\\hp\\Lib\\site-packages\\keras\\utils\\traceback_utils.py\", line 92, in error_handler\n      return fn(*args, **kwargs)\n    File \"D:\\Anaconda3\\envs\\hp\\Lib\\site-packages\\transformers\\models\\t5\\modeling_tf_t5.py\", line 572, in call\n      if self.is_decoder and encoder_hidden_states is not None:\n    File \"D:\\Anaconda3\\envs\\hp\\Lib\\site-packages\\transformers\\models\\t5\\modeling_tf_t5.py\", line 580, in call\n      cross_attention_outputs = self.layer[1](\n    File \"D:\\Anaconda3\\envs\\hp\\Lib\\site-packages\\keras\\utils\\traceback_utils.py\", line 64, in error_handler\n      return fn(*args, **kwargs)\n    File \"D:\\Anaconda3\\envs\\hp\\Lib\\site-packages\\keras\\engine\\base_layer.py\", line 1014, in __call__\n      outputs = call_fn(inputs, *args, **kwargs)\n    File \"D:\\Anaconda3\\envs\\hp\\Lib\\site-packages\\keras\\utils\\traceback_utils.py\", line 92, in error_handler\n      return fn(*args, **kwargs)\n    File \"D:\\Anaconda3\\envs\\hp\\Lib\\site-packages\\transformers\\models\\t5\\modeling_tf_t5.py\", line 488, in call\n      attention_output = self.EncDecAttention(\n    File \"D:\\Anaconda3\\envs\\hp\\Lib\\site-packages\\keras\\utils\\traceback_utils.py\", line 64, in error_handler\n      return fn(*args, **kwargs)\n    File \"D:\\Anaconda3\\envs\\hp\\Lib\\site-packages\\keras\\engine\\base_layer.py\", line 1014, in __call__\n      outputs = call_fn(inputs, *args, **kwargs)\n    File \"D:\\Anaconda3\\envs\\hp\\Lib\\site-packages\\keras\\utils\\traceback_utils.py\", line 92, in error_handler\n      return fn(*args, **kwargs)\n    File \"D:\\Anaconda3\\envs\\hp\\Lib\\site-packages\\transformers\\models\\t5\\modeling_tf_t5.py\", line 378, in call\n      scores = tf.einsum(\nNode: 'tft5_for_conditional_generation_1/decoder/block_._4/layer_._1/EncDecAttention/einsum/Einsum'\nOOM when allocating tensor with shape[1,8,100,1195] and type half on /job:localhost/replica:0/task:0/device:GPU:0 by allocator GPU_0_bfc\n\t [[{{node tft5_for_conditional_generation_1/decoder/block_._4/layer_._1/EncDecAttention/einsum/Einsum}}]]\nHint: If you want to see a list of allocated tensors when OOM happens, add report_tensor_allocations_upon_oom to RunOptions for current allocation info. This isn't available when running in Eager mode.\n [Op:__inference_train_function_57840]",
     "output_type": "error",
     "traceback": [
      "\u001b[1;31m---------------------------------------------------------------------------\u001b[0m",
      "\u001b[1;31mResourceExhaustedError\u001b[0m                    Traceback (most recent call last)",
      "\u001b[1;32m~\\AppData\\Local\\Temp\\ipykernel_21892\\592755566.py\u001b[0m in \u001b[0;36m<module>\u001b[1;34m\u001b[0m\n\u001b[0;32m     10\u001b[0m \u001b[0mcallbacks\u001b[0m \u001b[1;33m=\u001b[0m \u001b[1;33m[\u001b[0m\u001b[0mmetric_callback\u001b[0m\u001b[1;33m,\u001b[0m \u001b[0mtensorboard_callback\u001b[0m\u001b[1;33m]\u001b[0m\u001b[1;33m\u001b[0m\u001b[1;33m\u001b[0m\u001b[0m\n\u001b[0;32m     11\u001b[0m \u001b[1;33m\u001b[0m\u001b[0m\n\u001b[1;32m---> 12\u001b[1;33m \u001b[0mmodel\u001b[0m\u001b[1;33m.\u001b[0m\u001b[0mfit\u001b[0m\u001b[1;33m(\u001b[0m\u001b[0mtrain_dataset\u001b[0m\u001b[1;33m,\u001b[0m \u001b[0mvalidation_data\u001b[0m\u001b[1;33m=\u001b[0m\u001b[1;32mNone\u001b[0m\u001b[1;33m,\u001b[0m \u001b[0mepochs\u001b[0m\u001b[1;33m=\u001b[0m\u001b[1;36m1\u001b[0m\u001b[1;33m,\u001b[0m \u001b[0mcallbacks\u001b[0m\u001b[1;33m=\u001b[0m\u001b[0mcallbacks\u001b[0m\u001b[1;33m)\u001b[0m\u001b[1;33m\u001b[0m\u001b[1;33m\u001b[0m\u001b[0m\n\u001b[0m\u001b[0;32m     13\u001b[0m \u001b[1;31m# model.fit(train_dataset, validation_data = test_dataset, epochs=1, batch_size=1, callbacks=callbacks)\u001b[0m\u001b[1;33m\u001b[0m\u001b[1;33m\u001b[0m\u001b[1;33m\u001b[0m\u001b[0m\n",
      "\u001b[1;32mD:\\Anaconda3\\envs\\hp\\Lib\\site-packages\\keras\\utils\\traceback_utils.py\u001b[0m in \u001b[0;36merror_handler\u001b[1;34m(*args, **kwargs)\u001b[0m\n\u001b[0;32m     65\u001b[0m     \u001b[1;32mexcept\u001b[0m \u001b[0mException\u001b[0m \u001b[1;32mas\u001b[0m \u001b[0me\u001b[0m\u001b[1;33m:\u001b[0m  \u001b[1;31m# pylint: disable=broad-except\u001b[0m\u001b[1;33m\u001b[0m\u001b[1;33m\u001b[0m\u001b[0m\n\u001b[0;32m     66\u001b[0m       \u001b[0mfiltered_tb\u001b[0m \u001b[1;33m=\u001b[0m \u001b[0m_process_traceback_frames\u001b[0m\u001b[1;33m(\u001b[0m\u001b[0me\u001b[0m\u001b[1;33m.\u001b[0m\u001b[0m__traceback__\u001b[0m\u001b[1;33m)\u001b[0m\u001b[1;33m\u001b[0m\u001b[1;33m\u001b[0m\u001b[0m\n\u001b[1;32m---> 67\u001b[1;33m       \u001b[1;32mraise\u001b[0m \u001b[0me\u001b[0m\u001b[1;33m.\u001b[0m\u001b[0mwith_traceback\u001b[0m\u001b[1;33m(\u001b[0m\u001b[0mfiltered_tb\u001b[0m\u001b[1;33m)\u001b[0m \u001b[1;32mfrom\u001b[0m \u001b[1;32mNone\u001b[0m\u001b[1;33m\u001b[0m\u001b[1;33m\u001b[0m\u001b[0m\n\u001b[0m\u001b[0;32m     68\u001b[0m     \u001b[1;32mfinally\u001b[0m\u001b[1;33m:\u001b[0m\u001b[1;33m\u001b[0m\u001b[1;33m\u001b[0m\u001b[0m\n\u001b[0;32m     69\u001b[0m       \u001b[1;32mdel\u001b[0m \u001b[0mfiltered_tb\u001b[0m\u001b[1;33m\u001b[0m\u001b[1;33m\u001b[0m\u001b[0m\n",
      "\u001b[1;32mD:\\Anaconda3\\envs\\hp\\Lib\\site-packages\\tensorflow\\python\\eager\\execute.py\u001b[0m in \u001b[0;36mquick_execute\u001b[1;34m(op_name, num_outputs, inputs, attrs, ctx, name)\u001b[0m\n\u001b[0;32m     53\u001b[0m     \u001b[0mctx\u001b[0m\u001b[1;33m.\u001b[0m\u001b[0mensure_initialized\u001b[0m\u001b[1;33m(\u001b[0m\u001b[1;33m)\u001b[0m\u001b[1;33m\u001b[0m\u001b[1;33m\u001b[0m\u001b[0m\n\u001b[0;32m     54\u001b[0m     tensors = pywrap_tfe.TFE_Py_Execute(ctx._handle, device_name, op_name,\n\u001b[1;32m---> 55\u001b[1;33m                                         inputs, attrs, num_outputs)\n\u001b[0m\u001b[0;32m     56\u001b[0m   \u001b[1;32mexcept\u001b[0m \u001b[0mcore\u001b[0m\u001b[1;33m.\u001b[0m\u001b[0m_NotOkStatusException\u001b[0m \u001b[1;32mas\u001b[0m \u001b[0me\u001b[0m\u001b[1;33m:\u001b[0m\u001b[1;33m\u001b[0m\u001b[1;33m\u001b[0m\u001b[0m\n\u001b[0;32m     57\u001b[0m     \u001b[1;32mif\u001b[0m \u001b[0mname\u001b[0m \u001b[1;32mis\u001b[0m \u001b[1;32mnot\u001b[0m \u001b[1;32mNone\u001b[0m\u001b[1;33m:\u001b[0m\u001b[1;33m\u001b[0m\u001b[1;33m\u001b[0m\u001b[0m\n",
      "\u001b[1;31mResourceExhaustedError\u001b[0m: Graph execution error:\n\nDetected at node 'tft5_for_conditional_generation_1/decoder/block_._4/layer_._1/EncDecAttention/einsum/Einsum' defined at (most recent call last):\n    File \"D:\\Anaconda3\\envs\\hp\\lib\\runpy.py\", line 193, in _run_module_as_main\n      \"__main__\", mod_spec)\n    File \"D:\\Anaconda3\\envs\\hp\\lib\\runpy.py\", line 85, in _run_code\n      exec(code, run_globals)\n    File \"D:\\Anaconda3\\envs\\hp\\Lib\\site-packages\\ipykernel_launcher.py\", line 16, in <module>\n      app.launch_new_instance()\n    File \"D:\\Anaconda3\\envs\\hp\\Lib\\site-packages\\traitlets\\config\\application.py\", line 846, in launch_instance\n      app.start()\n    File \"D:\\Anaconda3\\envs\\hp\\Lib\\site-packages\\ipykernel\\kernelapp.py\", line 677, in start\n      self.io_loop.start()\n    File \"D:\\Anaconda3\\envs\\hp\\Lib\\site-packages\\tornado\\platform\\asyncio.py\", line 199, in start\n      self.asyncio_loop.run_forever()\n    File \"D:\\Anaconda3\\envs\\hp\\lib\\asyncio\\base_events.py\", line 534, in run_forever\n      self._run_once()\n    File \"D:\\Anaconda3\\envs\\hp\\lib\\asyncio\\base_events.py\", line 1771, in _run_once\n      handle._run()\n    File \"D:\\Anaconda3\\envs\\hp\\lib\\asyncio\\events.py\", line 88, in _run\n      self._context.run(self._callback, *self._args)\n    File \"D:\\Anaconda3\\envs\\hp\\Lib\\site-packages\\ipykernel\\kernelbase.py\", line 471, in dispatch_queue\n      await self.process_one()\n    File \"D:\\Anaconda3\\envs\\hp\\Lib\\site-packages\\ipykernel\\kernelbase.py\", line 460, in process_one\n      await dispatch(*args)\n    File \"D:\\Anaconda3\\envs\\hp\\Lib\\site-packages\\ipykernel\\kernelbase.py\", line 367, in dispatch_shell\n      await result\n    File \"D:\\Anaconda3\\envs\\hp\\Lib\\site-packages\\ipykernel\\kernelbase.py\", line 662, in execute_request\n      reply_content = await reply_content\n    File \"D:\\Anaconda3\\envs\\hp\\Lib\\site-packages\\ipykernel\\ipkernel.py\", line 360, in do_execute\n      res = shell.run_cell(code, store_history=store_history, silent=silent)\n    File \"D:\\Anaconda3\\envs\\hp\\Lib\\site-packages\\ipykernel\\zmqshell.py\", line 532, in run_cell\n      return super().run_cell(*args, **kwargs)\n    File \"D:\\Anaconda3\\envs\\hp\\Lib\\site-packages\\IPython\\core\\interactiveshell.py\", line 2958, in run_cell\n      raw_cell, store_history, silent, shell_futures)\n    File \"D:\\Anaconda3\\envs\\hp\\Lib\\site-packages\\IPython\\core\\interactiveshell.py\", line 3003, in _run_cell\n      return runner(coro)\n    File \"D:\\Anaconda3\\envs\\hp\\Lib\\site-packages\\IPython\\core\\async_helpers.py\", line 78, in _pseudo_sync_runner\n      coro.send(None)\n    File \"D:\\Anaconda3\\envs\\hp\\Lib\\site-packages\\IPython\\core\\interactiveshell.py\", line 3229, in run_cell_async\n      interactivity=interactivity, compiler=compiler, result=result)\n    File \"D:\\Anaconda3\\envs\\hp\\Lib\\site-packages\\IPython\\core\\interactiveshell.py\", line 3444, in run_ast_nodes\n      if (await self.run_code(code, result,  async_=asy)):\n    File \"D:\\Anaconda3\\envs\\hp\\Lib\\site-packages\\IPython\\core\\interactiveshell.py\", line 3524, in run_code\n      exec(code_obj, self.user_global_ns, self.user_ns)\n    File \"C:\\Users\\HU\\AppData\\Local\\Temp\\ipykernel_21892\\592755566.py\", line 12, in <module>\n      model.fit(train_dataset, validation_data=None, epochs=1, callbacks=callbacks)\n    File \"D:\\Anaconda3\\envs\\hp\\Lib\\site-packages\\keras\\utils\\traceback_utils.py\", line 64, in error_handler\n      return fn(*args, **kwargs)\n    File \"D:\\Anaconda3\\envs\\hp\\Lib\\site-packages\\keras\\engine\\training.py\", line 1409, in fit\n      tmp_logs = self.train_function(iterator)\n    File \"D:\\Anaconda3\\envs\\hp\\Lib\\site-packages\\keras\\engine\\training.py\", line 1051, in train_function\n      return step_function(self, iterator)\n    File \"D:\\Anaconda3\\envs\\hp\\Lib\\site-packages\\keras\\engine\\training.py\", line 1040, in step_function\n      outputs = model.distribute_strategy.run(run_step, args=(data,))\n    File \"D:\\Anaconda3\\envs\\hp\\Lib\\site-packages\\keras\\engine\\training.py\", line 1030, in run_step\n      outputs = model.train_step(data)\n    File \"D:\\Anaconda3\\envs\\hp\\Lib\\site-packages\\transformers\\modeling_tf_utils.py\", line 1117, in train_step\n      y_pred = self(x, training=True)\n    File \"D:\\Anaconda3\\envs\\hp\\Lib\\site-packages\\keras\\utils\\traceback_utils.py\", line 64, in error_handler\n      return fn(*args, **kwargs)\n    File \"D:\\Anaconda3\\envs\\hp\\Lib\\site-packages\\keras\\engine\\training.py\", line 490, in __call__\n      return super().__call__(*args, **kwargs)\n    File \"D:\\Anaconda3\\envs\\hp\\Lib\\site-packages\\keras\\utils\\traceback_utils.py\", line 64, in error_handler\n      return fn(*args, **kwargs)\n    File \"D:\\Anaconda3\\envs\\hp\\Lib\\site-packages\\keras\\engine\\base_layer.py\", line 1014, in __call__\n      outputs = call_fn(inputs, *args, **kwargs)\n    File \"D:\\Anaconda3\\envs\\hp\\Lib\\site-packages\\keras\\utils\\traceback_utils.py\", line 92, in error_handler\n      return fn(*args, **kwargs)\n    File \"D:\\Anaconda3\\envs\\hp\\Lib\\site-packages\\transformers\\modeling_tf_utils.py\", line 1327, in run_call_with_unpacked_inputs\n      self(self.dummy_inputs)\n    File \"D:\\Anaconda3\\envs\\hp\\Lib\\site-packages\\transformers\\models\\t5\\modeling_tf_t5.py\", line 1390, in call\n      decoder_outputs = self.decoder(\n    File \"D:\\Anaconda3\\envs\\hp\\Lib\\site-packages\\keras\\utils\\traceback_utils.py\", line 64, in error_handler\n      return fn(*args, **kwargs)\n    File \"D:\\Anaconda3\\envs\\hp\\Lib\\site-packages\\keras\\engine\\base_layer.py\", line 1014, in __call__\n      outputs = call_fn(inputs, *args, **kwargs)\n    File \"D:\\Anaconda3\\envs\\hp\\Lib\\site-packages\\keras\\utils\\traceback_utils.py\", line 92, in error_handler\n      return fn(*args, **kwargs)\n    File \"D:\\Anaconda3\\envs\\hp\\Lib\\site-packages\\transformers\\modeling_tf_utils.py\", line 1327, in run_call_with_unpacked_inputs\n      self(self.dummy_inputs)\n    File \"D:\\Anaconda3\\envs\\hp\\Lib\\site-packages\\transformers\\models\\t5\\modeling_tf_t5.py\", line 759, in call\n      for idx, (layer_module, past_key_value) in enumerate(zip(self.block, past_key_values)):\n    File \"D:\\Anaconda3\\envs\\hp\\Lib\\site-packages\\transformers\\models\\t5\\modeling_tf_t5.py\", line 762, in call\n      layer_outputs = layer_module(\n    File \"D:\\Anaconda3\\envs\\hp\\Lib\\site-packages\\keras\\utils\\traceback_utils.py\", line 64, in error_handler\n      return fn(*args, **kwargs)\n    File \"D:\\Anaconda3\\envs\\hp\\Lib\\site-packages\\keras\\engine\\base_layer.py\", line 1014, in __call__\n      outputs = call_fn(inputs, *args, **kwargs)\n    File \"D:\\Anaconda3\\envs\\hp\\Lib\\site-packages\\keras\\utils\\traceback_utils.py\", line 92, in error_handler\n      return fn(*args, **kwargs)\n    File \"D:\\Anaconda3\\envs\\hp\\Lib\\site-packages\\transformers\\models\\t5\\modeling_tf_t5.py\", line 572, in call\n      if self.is_decoder and encoder_hidden_states is not None:\n    File \"D:\\Anaconda3\\envs\\hp\\Lib\\site-packages\\transformers\\models\\t5\\modeling_tf_t5.py\", line 580, in call\n      cross_attention_outputs = self.layer[1](\n    File \"D:\\Anaconda3\\envs\\hp\\Lib\\site-packages\\keras\\utils\\traceback_utils.py\", line 64, in error_handler\n      return fn(*args, **kwargs)\n    File \"D:\\Anaconda3\\envs\\hp\\Lib\\site-packages\\keras\\engine\\base_layer.py\", line 1014, in __call__\n      outputs = call_fn(inputs, *args, **kwargs)\n    File \"D:\\Anaconda3\\envs\\hp\\Lib\\site-packages\\keras\\utils\\traceback_utils.py\", line 92, in error_handler\n      return fn(*args, **kwargs)\n    File \"D:\\Anaconda3\\envs\\hp\\Lib\\site-packages\\transformers\\models\\t5\\modeling_tf_t5.py\", line 488, in call\n      attention_output = self.EncDecAttention(\n    File \"D:\\Anaconda3\\envs\\hp\\Lib\\site-packages\\keras\\utils\\traceback_utils.py\", line 64, in error_handler\n      return fn(*args, **kwargs)\n    File \"D:\\Anaconda3\\envs\\hp\\Lib\\site-packages\\keras\\engine\\base_layer.py\", line 1014, in __call__\n      outputs = call_fn(inputs, *args, **kwargs)\n    File \"D:\\Anaconda3\\envs\\hp\\Lib\\site-packages\\keras\\utils\\traceback_utils.py\", line 92, in error_handler\n      return fn(*args, **kwargs)\n    File \"D:\\Anaconda3\\envs\\hp\\Lib\\site-packages\\transformers\\models\\t5\\modeling_tf_t5.py\", line 378, in call\n      scores = tf.einsum(\nNode: 'tft5_for_conditional_generation_1/decoder/block_._4/layer_._1/EncDecAttention/einsum/Einsum'\nOOM when allocating tensor with shape[1,8,100,1195] and type half on /job:localhost/replica:0/task:0/device:GPU:0 by allocator GPU_0_bfc\n\t [[{{node tft5_for_conditional_generation_1/decoder/block_._4/layer_._1/EncDecAttention/einsum/Einsum}}]]\nHint: If you want to see a list of allocated tensors when OOM happens, add report_tensor_allocations_upon_oom to RunOptions for current allocation info. This isn't available when running in Eager mode.\n [Op:__inference_train_function_57840]"
     ]
    }
   ],
   "source": [
    "# Be careful not to run this code, it is likely to be unable to train because of insufficient video memory, \n",
    "# estimated video memory needs about 12G to run smoothly\n",
    "# Train the model and save the logs to the logs for viewing with tensorboard\n",
    "from transformers.keras_callbacks import KerasMetricCallback\n",
    "from tensorflow.keras.callbacks import TensorBoard\n",
    "\n",
    "tensorboard_callback = TensorBoard(log_dir=\"./summarization_model_save/logs\")\n",
    "\n",
    "metric_callback = KerasMetricCallback(\n",
    "    metric_fn, eval_dataset=test_dataset, predict_with_generate=True\n",
    ")\n",
    "\n",
    "callbacks = [metric_callback, tensorboard_callback]\n",
    "\n",
    "model.fit(train_dataset, validation_data=None, epochs=1, callbacks=callbacks)\n",
    "# model.fit(train_dataset, validation_data = test_dataset, epochs=1, batch_size=1, callbacks=callbacks)"
   ]
  },
  {
   "cell_type": "markdown",
   "id": "8a76b6ba",
   "metadata": {},
   "source": [
    "# 6. inference part, test model effect"
   ]
  },
  {
   "cell_type": "code",
   "execution_count": 11,
   "id": "066fb03a",
   "metadata": {
    "scrolled": false
   },
   "outputs": [
    {
     "name": "stderr",
     "output_type": "stream",
     "text": [
      "All model checkpoint layers were used when initializing TFT5ForConditionalGeneration.\n",
      "\n",
      "All the layers of TFT5ForConditionalGeneration were initialized from the model checkpoint at ./t5-small.\n",
      "If your task is similar to the task the model of the checkpoint was trained on, you can already use TFT5ForConditionalGeneration for predictions without further training.\n"
     ]
    }
   ],
   "source": [
    "from transformers import AutoTokenizer\n",
    "tokenizer = AutoTokenizer.from_pretrained(\"./t5-small\")\n",
    "from transformers import TFT5ForConditionalGeneration\n",
    "model = TFT5ForConditionalGeneration.from_pretrained(\"./t5-small\")\n",
    "import pandas as pd\n",
    "\n",
    "def out_summary(text):\n",
    "    ip = tokenizer(text, max_length=None, truncation=True, return_tensors='tf')\n",
    "\n",
    "    summary_ids = model.generate(ip['input_ids'],max_length=600,min_length=None)\n",
    "    print(ip)\n",
    "\n",
    "    print('\\nsummary_ids = ', summary_ids)\n",
    "\n",
    "    # print([tokenizer.decode(g, skip_special_tokens=True, clean_up_tokenization_spaces=False) for g in summary_ids])\n",
    "    summary = tokenizer.batch_decode(summary_ids, skip_special_tokens=True, clean_up_tokenization_spaces=False)\n",
    "    # print(tokenizer.batch_decode(summary_ids, skip_special_tokens=True, clean_up_tokenization_spaces=False))\n",
    "    return summary"
   ]
  },
  {
   "cell_type": "code",
   "execution_count": 12,
   "id": "683542e0",
   "metadata": {},
   "outputs": [],
   "source": [
    "text = \"\"\"\n",
    "        summarize: (CNN)For the second time during his papacy, Pope Francis has announced a new group of bishops and archbishops set to become cardinals -- and they come from all over the world.\n",
    "        Pope Francis said Sunday that he would hold a meeting of cardinals on February 14 \"during which I will name 15 new Cardinals who, coming from 13 countries from every continent, manifest the indissoluble links between the Church of Rome and the particular Churches present in the world,\" according to Vatican Radio.\n",
    "        New cardinals are always important because they set the tone in the church and also elect the next pope, CNN Senior Vatican Analyst John L. Allen said. They are sometimes referred to as the princes of the Catholic Church.\n",
    "        The new cardinals come from countries such as Ethiopia, New Zealand and Myanmar.\n",
    "        \"This is a pope who very much wants to reach out to people on the margins, and you clearly see that in this set,\" Allen said. \"You're talking about cardinals from typically overlooked places, like Cape Verde, the Pacific island of Tonga, Panama, Thailand, Uruguay.\"\n",
    "        But for the second time since Francis' election, no Americans made the list.\n",
    "        \"Francis' pattern is very clear: He wants to go to the geographical peripheries rather than places that are already top-heavy with cardinals,\" Allen said.\n",
    "        Christopher Bellitto, a professor of church history at Kean University in New Jersey, noted that Francis announced his new slate of cardinals on the Catholic Feast of the Epiphany, which commemorates the visit of the Magi to Jesus' birthplace in Bethlehem.\n",
    "        \"On feast of three wise men from far away, the Pope's choices for cardinal say that every local church deserves a place at the big table.\"\n",
    "        In other words, Francis wants a more decentralized church and wants to hear reform ideas from small communities that sit far from Catholicism's power centers, Bellitto said.\n",
    "        That doesn't mean Francis is the first pontiff to appoint cardinals from the developing world, though. Beginning in the 1920s, an increasing number of Latin American churchmen were named cardinals, and in the 1960s, St. John XXIII, whom Francis canonized last year, appointed the first cardinals from Japan, the Philippines and Africa.\n",
    "        In addition to the 15 new cardinals Francis named on Sunday, five retired archbishops and bishops will also be honored as cardinals.\n",
    "        Last year, Pope Francis appointed 19 new cardinals, including bishops from Haiti and Burkina Faso.\n",
    "        CNN's Daniel Burke and Christabelle Fombu contributed to this report.\n",
    "\"\"\""
   ]
  },
  {
   "cell_type": "code",
   "execution_count": 13,
   "id": "068354bc",
   "metadata": {},
   "outputs": [],
   "source": [
    "text = '''summarize: Us officials are losing confidence that even if they work with Allies to provide Ukraine with heavier and more advanced weapons. the country will not be able to achieve its insistent goal of retaking all the territory seized by Russia in the past four months. CNN reported it on Sunday.'''"
   ]
  },
  {
   "cell_type": "code",
   "execution_count": 14,
   "id": "9bcf75a4",
   "metadata": {},
   "outputs": [
    {
     "name": "stdout",
     "output_type": "stream",
     "text": [
      "summarize: Us officials are losing confidence that even if they work with Allies to provide Ukraine with heavier and more advanced weapons. the country will not be able to achieve its insistent goal of retaking all the territory seized by Russia in the past four months. CNN reported it on Sunday.\n"
     ]
    }
   ],
   "source": [
    "print(text)"
   ]
  },
  {
   "cell_type": "code",
   "execution_count": 15,
   "id": "696006f9",
   "metadata": {},
   "outputs": [
    {
     "name": "stderr",
     "output_type": "stream",
     "text": [
      "Asking to truncate to max_length but no maximum length is provided and the model has no predefined maximum length. Default to no truncation.\n"
     ]
    },
    {
     "name": "stdout",
     "output_type": "stream",
     "text": [
      "{'input_ids': <tf.Tensor: shape=(1, 63), dtype=int32, numpy=\n",
      "array([[21603,    10,  6952,  4298,    33,  5489,  3410,    24,   237,\n",
      "            3,    99,    79,   161,    28,   432,   725,    12,   370,\n",
      "        11897,    28, 21648,    11,    72,  2496,  7749,     5,     8,\n",
      "          684,    56,    59,    36,     3,   179,    12,  1984,   165,\n",
      "        10419,   295,  1288,    13,     3,    60, 14867,    66,     8,\n",
      "         9964,     3, 27217,    57,  4623,    16,     8,   657,   662,\n",
      "          767,     5, 19602,  2196,    34,    30,  1771,     5,     1]])>, 'attention_mask': <tf.Tensor: shape=(1, 63), dtype=int32, numpy=\n",
      "array([[1, 1, 1, 1, 1, 1, 1, 1, 1, 1, 1, 1, 1, 1, 1, 1, 1, 1, 1, 1, 1, 1,\n",
      "        1, 1, 1, 1, 1, 1, 1, 1, 1, 1, 1, 1, 1, 1, 1, 1, 1, 1, 1, 1, 1, 1,\n",
      "        1, 1, 1, 1, 1, 1, 1, 1, 1, 1, 1, 1, 1, 1, 1, 1, 1, 1, 1]])>}\n",
      "\n",
      "summary_ids =  tf.Tensor(\n",
      "[[    0   178  4298    33  5489  3410    24   237     3    99    79   161\n",
      "     28   432   725    12   370 11897    28 21648    11    72  2496  7749\n",
      "      3     5     8   684    56    59    36     3   179    12  1984   165\n",
      "  10419   295  1288    13     3    60 14867    66     8  9964     3 27217\n",
      "     57  4623    16     8   657   662   767     3     5     1]], shape=(1, 58), dtype=int32)\n"
     ]
    },
    {
     "data": {
      "text/plain": [
       "['us officials are losing confidence that even if they work with Allies to provide Ukraine with heavier and more advanced weapons . the country will not be able to achieve its insistent goal of retaking all the territory seized by Russia in the past four months .']"
      ]
     },
     "execution_count": 15,
     "metadata": {},
     "output_type": "execute_result"
    }
   ],
   "source": [
    "out_summary(text)"
   ]
  },
  {
   "cell_type": "markdown",
   "id": "d2b733db",
   "metadata": {},
   "source": [
    "# ---------------------------------------------------"
   ]
  },
  {
   "cell_type": "markdown",
   "id": "c434bcba",
   "metadata": {},
   "source": [
    "# 7. ROUGE and BLEU score in test"
   ]
  },
  {
   "cell_type": "code",
   "execution_count": 8,
   "id": "336309bd",
   "metadata": {},
   "outputs": [],
   "source": [
    "# load the data form csv\n",
    "test_text_summary = pd.read_csv(\"./Data/test_text_summary.csv\", low_memory=False)\n",
    "test_texts = test_text_summary[\"text\"]\n",
    "test_summaries = test_text_summary[\"summary\"]"
   ]
  },
  {
   "cell_type": "code",
   "execution_count": 22,
   "id": "2008442a",
   "metadata": {},
   "outputs": [
    {
     "name": "stderr",
     "output_type": "stream",
     "text": [
      "Asking to truncate to max_length but no maximum length is provided and the model has no predefined maximum length. Default to no truncation.\n"
     ]
    }
   ],
   "source": [
    "# get the summaries form test texts\n",
    "predict_summaries_test = []\n",
    "for i in range(len(test_texts[:100])):\n",
    "    summary = out_summary(test_texts[i])\n",
    "    predict_summaries_test.append(summary)"
   ]
  },
  {
   "cell_type": "code",
   "execution_count": 33,
   "id": "d6d96577",
   "metadata": {
    "scrolled": true
   },
   "outputs": [
    {
     "data": {
      "text/plain": [
       "[['a $37 \"art craft/toy\" smuggled into the U.S. in 2001 . the painting was shipped to the port of Newark and was seized . the painting was smuggled into the u.s. in a package that described it as a $37 \"art craft\" . the painting was smuggled into the u.s. in 2001 .'],\n",
       " [': the Obama campaign has received at least $1,000 to Romney’s campaign . NEWLINE_CHAR NEWLINE_CHAR The Obama campaign has received at least $1,000 . NEWLINE_CHAR NEWLINE_CHAR The Obama campaign has received at least $1,000 .'],\n",
       " ['NEWLINE_CHAR NEWLINE_CHAR WASHINGTON—Behind the political showdown over the deadly U.S. consulate attack in Benghazi, Libya, are a few dozen heavily edited words . NEWLINE_CHAR NEWLINE_CHAR The 94-word intelligence summary emerged from a daylong email debate between more than two dozen intelligence officials . that moment has become a proxy for a ... Article Excerpt NEWLINE_CHAR NEWLINE_CHAR WASHINGTON—Behin'],\n",
       " ['NEWLINE_CHAR NEWLINE_CHAR NEWLINE_CHAR TODAY . the couple are suing the production company for HGTV’s “Love It or List It” . the suit alleges the couple were “victims of shoddy work and unfair trade practices” that left their home “irreparably damaged” .'],\n",
       " ['NEWLINE_CHAR NEWLINE_CHAR NEWLINE_CHAR Morgan Geyser is brought into court for a hearing this week . she plans to enter a not guilty plea by reason of mental disease or defect . she and geyser, both 14, were 12 when prosecutors say they plotted and attempted to kill their sixth-grade classmate and friend Payton Leutner in may 2014 .'],\n",
       " ['NEWLINE_CHAR NEWLINE_CHAR Aurreikusi ROME — The tree was nicknamed Spelacchio, or Mangy, because so many needles were dropping off . NEWLINE_CHAR NEWLINE_CHAR Insults quickly turned to intrigue as the Italian media plumbed the tree’s costs .'],\n",
       " ['NEWLINE_CHAR NEWLINE_CHAR Tonight NEWLINE_CHAR NEWLINE_CHAR Cloudy skies this evening will become partly cloudy after midnight . NEWLINE_CHAR NEWLINE_CHAR Woodward says the first lady held imaginary conversations with Eleanor Roosevelt and Mahatma Gandhi . anthropologist Mary Catherine Bateson, daughter of famed anthropologist Margaret Mead, joined her in sessions of imaginary conversations .'],\n",
       " [\"''It’s insane, it’s insanity. it’s a bummer''', says the ''scratch'' of the actor . ''I'm not a racist,'' says the ''scratch'' '''''''''''''''''''''''''''''''''''''''''''\"],\n",
       " ['NEWLINE_CHAR NEWLINE_CHAR The pair are first North Korean athletes to qualify for the 2018 Winter Olympics . NEWLINE_CHAR NEWLINE_CHAR The pair, who perform to the music of the Beatles, completed a free-skate performance . the pair were asked minutes after the performance to decide whether they will participate . the pair, who are the first North Korean athletes to qualify for the Games, are expected to be announced in July .'],\n",
       " ['NEWLINE_CHAR NEWLINE_CHAR And the bride, Julia Mammone NEWLINE_CHAR NEWLINE_CHAR Laughing at the coincidence . NEWLINE_CHAR NEWLINE_CHAR And the bride, Julia Mammone, pictured the funny side . NEWLINE_CHAR NEWLINE_CHAR NewLINE_CHAR And the bride, Julia Mammone .'],\n",
       " ['a 12-year-old student brought a pack of green Hornet gummies to school . the pack contained 100 mg of THC, and all 100 mg were consumed by at least six (but possibly more) children . NEWLINE_CHAR NEWLINE_CHAR MULBERRY — Polk County Public Schools sent the following message to parents .'],\n",
       " ['Carrie Underwood Carrie Underwood Carrie Underwood Underwood underwood. underwood underwood. underwood: “Thanks, Chase, for the kiss and thanks Louisville for rocking so hard tonight! We had fun! #liptolip” NEWLINE_CHAR NEWLINE_CHAR Underwood’s “Blown Away Tour” will include home state shows on Oct. 25 at Chesapeake Energy Arena in Oklahoma City and Nov. 21 at the BOK Center in Tul'],\n",
       " ['Buffett Buffett Buffett, Buffett Buffett Buffett Buffett putting it. Buffett, Christie said. “I know the question,” Christie said, interrupting Morgan. “I’m tired of talking about Warren Buffett,” Christie said. NEWLINE_CHAR NEWLINE_CHAR Buffett, Romney more. the most vulnerable ... the government,,, rate ,,, and and @'],\n",
       " [\"NEWLINE_CHAR NEWLINE_CHAR NEWLINE_CHAR PHOTOS: Taylor Swift's belly button has been shrouded in mystery . NEWLINE_CHAR NEWLINE_CHAR PHOTOS: Taylor Swift's celebrity fans are hacked . the hacker accounts were hijacked on Tuesday, Jan. 27, by so-called elite hackers .\"],\n",
       " [',,,,, and asthma, were \"significant conditions\", and his history of cardiovascular disease, asthma, and multi-substance dependence . docs say Scott had about $2 million in assets as part of his estate . Ex-Wife Wants to Call the Shots NEWLINE_CHAR NEWLINE_CHAR Mary Forsberg filed docs in L.A.'],\n",
       " [\"NEWLINE_CHAR NEWLINE_CHAR Jillian Massey was diagnosed with brain cancer in April . when she was sent home, she decided to give something back to her friends . NEWLINE_CHAR NEWLINE_CHAR Jillian was sent home for the holidays . her wish for 50 presents has ballooned to over 3,000 for patients at children's hospital of Philadelphia .\"],\n",
       " ['::29:09 - What did the guys learn from talking with Miesha?31:01 - What did the guys learn from talking with Miesha?31:27 - What did the guys learn from talking with Miesha?41:22 - What did the guys learn from talking with Miesha?41:22 - What did the guys learn from talking with Miesha?41:22 - What did the guys learn from talking with Miesha?41:22 - What did'],\n",
       " [\"NEWLINE_CHAR NEWLINE_CHAR Google has rolled out a wedding-specific site . NEWLINE_CHAR NEWLINE_CHAR Google teamed up with wedding planner Michelle Rago . The site is the latest attempt by Google to insinuate itself into consumers' lifestyles .\"],\n",
       " [\"a reversal for Obama. NEWLINE_CHAR NEWLINE_CHAR . NEWLINE_CHAR NEWLINE_CHAR The airstrikes mark a major reversal for Obama . he says the threat posed by Islamic State justifies a rethinking of Obama's aversion to intervention in Syria . he says the airstrikes in the country are a welcome offensive that takes the war to the terrorists who beheaded two Americans .\"],\n",
       " ['Curtis, who died from cardiac arrest last year, was eulogized by his actress daughter Jamie Lee at his funeral . NEWLINE_CHAR NEWLINE_CHAR NEWLINE_CHAR INSIDE EDITION has obtained the will . his fifth wife, Jill, says: \"I acknowledge the existence of my children...and have intentionally and with full knowledge chosen not to provide for them\"'],\n",
       " ['a grilled-artichoke special, which was not on the menu . NEWLINE_CHAR NEWLINE_CHAR The outside leaf is tough, brittle, and nearly dagger-sharp . a doctor with a family practice in Hollywood says he was mystified by the vegetable .'],\n",
       " ['NEWLINE_CHAR NEWLINE_CHAR The study is a collaboration between the U.S.G.S., Yellowstone National Park, the University of Wyoming and the University of Wyoming . the researchers will fly a helicopter carrying electromagnetic technology that resembles a giant hula hoop . the device acts like an X-ray to determine where and how hot water flows beneath the surface .'],\n",
       " ['he was diagnosed with HIV-positive during the run of his previous sitcom, Anger Management . NEWLINE_CHAR NEWLINE_CHAR During the Today interview, sheen indicated that he has major projects in the hopper . he said he has several features, and was confident that his HIV-positive status will not impact his career .'],\n",
       " ['NEWLINE_CHAR NEWLINE_CHAR The trooper was shot and killed before 4 p.m. Thursday . the trooper was shot with a rifle and died at the scene, the agency said . the suspect fled the scene, authorities said . NEWLINE_CHAR NEWLINE_CHAR The trooper has not been identified .'],\n",
       " ['NEWLINE_CHAR NEWLINE_CHAR NEWLINE_CHAR MAP: Arson fires NEWLINE_CHAR NEWLINE_CHAR MAP . police say the suspect is from Germany . the suspect is believed to have been in dispute with federal immigration officials .'],\n",
       " ['NEWLINE_CHAR NEWLINE_CHAR NEWLINE_CHAR The brand is releasing limited-edition marshmallow-only boxes . NEWLINE_CHAR NEWLINE_CHAR The brand is releasing limited-edition marshmallow-only boxes . the sweepstakes ends October 18 .'],\n",
       " ['NEWLINE_CHAR NEWLINE_CHAR This time he was honoring the four marines killed in the 9/11 attacks . NEWLINE_CHAR NEWLINE_CHAR Hundreds of people on Facebook said they would like to stand with him next year . NEWLINE_CHAR NEWLINE_CHAR \"I was surprised, but the same time I wasn\\'t,\" degnan said .'],\n",
       " ['NEWLINE_CHAR NEWLINE_CHAR The university reported the plutonium missing on Oct. 13 . the university has 30 days to dispute the proposed fine . the university has been fined $8,500 for the plutonium .'],\n",
       " ['NEWLINE_CHAR NEWLINE_CHAR NEWLINE_CHAR NEWLINE_CHAR Swift . NEWLINE_CHAR NEWLINE_CHAR The flooding is some of the worst in Louisiana history . the singer has donated $1 million to the state’s disaster relief fund .'],\n",
       " ['NEWLINE_CHAR NEWLINE_CHAR Billy was preparing for Thanksgiving dinner . NEWLINE_CHAR NEWLINE_CHAR Mom Landi McCormick says he asked him what he wanted to be . he said he asked him if he had called 911, then reminded him he should only use 911 .'],\n",
       " ['NEWLINE_CHAR NEWLINE_CHAR The woman, dressed as an employee of Target, walked into the store and made her way back to the stockroom . NEWLINE_CHAR NEWLINE_CHAR The woman, dressed as an employee of Target, walked into the store and made her way back to the stockroom . NEWLINE_CHAR NEWLINE_CHAR Police released surveillance footage Tuesday of the suspect leaving the store .'],\n",
       " [': \"I felt the blast effect of the explosion some 500 meters away\" new: police suspect a suspected car bomb exploded in the centre of the city, an official says . new: the blast wounds 15 people, including four Swedish nationals . new: the blast sparked a fire which was later put out by firefighters at the scene .'],\n",
       " ['NEWLINE_CHAR NEWLINE_CHAR Newman resident says he and his five-year-old daughter watched on as the plane was towed away . police say the plane had no wings and was taxied down the main street to the pub . newman man is set to face a charge of endangering life, health or safety later this month .'],\n",
       " [': a report says the inmates attacked the guard by choking him and stole his keys and cell phone . new line_CHAR NEWLINE_CHAR The jail guard was treated and released at a local hospital, sheriff says . new line_CHAR NEWLINE_CHAR The inmates escaped from a rural Alabama county jail early Saturday .'],\n",
       " ['the melted fuel from the wrecked reactors began Tuesday . operators began to remove the first of these covers . they hope to remove the first of these covers by the end of next year . the government plans to cap compensation payouts and speed up reconstruction .'],\n",
       " ['NEWLINE_CHAR NEWLINE_CHAR The maid has hired a lawyer to help dig up former victims of Strauss-Kahn . NEWLINE_CHAR NEWLINE_CHAR Montbrial has been contacted by the french media . he has pleaded not guilty to attempted rape, sex abuse, a criminal sex act, unlawful imprisonment and forcible touching . he faces up to 25 years in prison if convicted .'],\n",
       " [\"- - Seth and Ruth's ring fell through the water below. NEWLINE_CHAR NEWLINE_CHAR Seth and Ruth's ring fell through the cracks . NEWLINE_CHAR NEWLINE_CHAR Seth and Ruth's ring fell through the murky water below .\"],\n",
       " [',, and,, and,, and conscientiousness, openness and honesty-humility. NEWLINE_CHAR NEWLINE_CHAR Researchers in New Zealand recruited 4,000 men and women aged 20 to 80 to complete a personality questionnaire twice . new research indicates that our personalities become more stable, or stable, as we get older .'],\n",
       " ['NEWLINE_CHAR NEWLINE_CHAR The airport replied, \"Thanks, Dan.\" NEWLINE_CHAR NEWLINE_CHAR The white house did not respond to questions about why Scavino thought it was, or how he was verifying posts he shared with Trump . NEWLINE_CHAR NEWLINE_CHAR The airport replied, \"Thanks, Dan.\" NEWLINE_CHAR NEWLINE_CHAR The white house did not respond to questions about why Scavino thought it was, or how and whether Trump was using that information'],\n",
       " ['a judge ordered Conrad Murray to jail, just a few minutes after a jury found him guilty in the death of Michael Jackson . NEWLINE_CHAR NEWLINE_CHAR NEWLINE_CHAR \\'Michael Jackson got justice,\\' a witness says . \"this is not a crime involving a mistake of judgment,\" pastor says . \"there is no reason to remand him under these circumstances,\" he says .'],\n",
       " ['a single track-and-field season. This study was a prospective cohort study of collegiate athletes participating in pole vault . a total of 135 vaulters from 15 universities took part in the study .'],\n",
       " [\"Lucas Warren, 1, has been named Gerber Baby in the 2018 contest . the contest began in 2010 and has more than 140,000 entries . the baby's name is Lucas Warren, a 1-year-old from Dalton, Georgia .\"],\n",
       " ['76, was elected as the first Latin American pope on Wednesday . new Pope reportedly turned to religion after he was spurned by his childhood sweetheart . new Pope reportedly said \"no, please no\" at prospect of being next Pope .'],\n",
       " ['NEWLINE_CHAR NEWLINE_CHAR Work made his remarks at the inaugural conference of the China Aerospace Studies Initiative . NEWLINE_CHAR NEWLINE_CHAR Work said the united states has relied on technological superiority for 25 years . NEWLINE_CHAR NEWLINE_CHAR Work said the united states has relied on technological superiority for the past 25 years .'],\n",
       " ['the Dalai Lama said Europe belongs to the Europeans . he said the goal of aid should be their return to their homelands . the 83-year-old Tibetan fled the capital Lhasa in fear of his life .'],\n",
       " [',,,,,, and it taught us about tolerance, understanding, compromise and patience. Our marriage strengthened as we became best friends, partners, and teammates. NEWLINE_CHAR NEWLINE_CHAR NEWLINE_CHAR \"Tonight, we tucked our kids in bed and my husband and I enjoyed a glass of wine on the deck.\\''],\n",
       " [\"years and the food is great. Can't wait to try the Sunday roast that so many people have recommended! NEWLINE_CHAR NEWLINE_CHAR ngs Only (Sold out) Boxing Day - Closed 27th December - Closed 28th December - Closed 29th December - Closed 30th December - Closed New Years Eve - Closed New Years Day - Closed 2nd Jan - Open as normal (7:00am-2:30pm) Merry Christmas Everyone & Happy New Year\"],\n",
       " ['aan het museum. he he het museum. het afgelopen jaar de schilderijen te vinden. he he he NEWLINE_CHAR NEWLINE_CHAR he he he he,,,,,,,, in,, but he in, in the Netherlands, and. The paintings'],\n",
       " ['NEWLINE_CHAR NEWLINE_CHAR NEWLINE_CHAR You can add location information to your Tweets, such as your city or precise location, from the web and via third-party applications. You always have the option to delete your Tweet location history. Learn more Tweet with a location NEWLINE_CHAR NEWLINE_CHAR You can add location information to your Tweets, such as your city or precise location, from the web and via third-party applications. You always have the option to delete your Tweet location history. Learn more Playboy Twin'],\n",
       " ['a few days ago after a reported overdose scare . NEWLINE_CHAR NEWLINE_CHAR \"Can\\'t Be Tamed\" is out on Monday . NEWLINE_CHAR NEWLINE_CHAR \"I\\'m not trying to be \\'slutty,\\'\" says Cyrus .'],\n",
       " [\"he has $25 million in assets, including an $8 million mansion, a $572,000 home in Valley Stream, LI, and an Atlanta home worth $464,000. NEWLINE_CHAR NEWLINE_CHAR The rapper is also claiming $33 million in debts . he's also claiming $33 million in debts, most from the $7 million judgment owed to Lastonia Leviston .\"],\n",
       " ['.. NEWLINE_CHAR NEWLINE_CHAR. NEWLINE_CHAR NEWLINE_CHAR...... NEWLINE_CHAR NEWLINE_CHAR.. NEWLINE_CHAR NEWLINE_CHAR a person’s eye you will pay, specifically if the loan isn’t paid 1 term.. Let us know your favorite!'],\n",
       " ['a sinkhole swallowed part of a home near Tampa, Florida . NEWLINE_CHAR NEWLINE_CHAR MIAMI (AP) — A sinkhole swallowed a boat, destroyed two homes and prompted officials to evacuate residents . NEWLINE_CHAR NEWLINE_CHAR NEWLINE_CHAR \"It was frightening,\" a fire chief said .'],\n",
       " ['Wilkie will be the VA’s next permanent leader . NEWLINE_CHAR NEWLINE_CHAR Wilkie is a veteran GOP aide and acting veterans affairs secretary . the president announced his nomination ahead of scheduled remarks at a prison reform summit .'],\n",
       " ['NEWLINE_CHAR NEWLINE_CHAR Michelle Obama is killing this speech.. RT @twitchyteam Gag line: \"Being president doesn\\'t change who you are. It reveals who you are.\" NEWLINE_CHAR NEWLINE_CHAR Michelle Obama\\'s speech at the Democratic National Convention drove 28,003 tweets-per-minute at its peak .'],\n",
       " ['a sacked official of the Central Public Works Department (CPWD) who has been on a furlough for the past 25 years has been dismissed from service . NEWLINE_CHAR NEWLINE_CHAR Verma went on Earned Leave in 1992 . he defied bosses’ orders to return to work after his requests for additional leave were denied .'],\n",
       " ['NEWLINE_CHAR NEWLINE_CHAR Hogan says water is wasteful . bottled water companies should include the water in their supply chain . bottled water companies should include the water in their supply chain, he says .'],\n",
       " ['in the 1960s, the average American woman now weighs 166.2 pounds . NEWLINE_CHAR NEWLINE_CHAR The CDC data shows that both sexes have gained almost an inch in height from 1960 . NEWLINE_CHAR NEWLINE_CHAR The average american is 33 pounds heavier than the average Frenchman . if every country had the same weight distribution as the U.S., the world would be 58 million tons fatter .'],\n",
       " [': NEWLINE_CHAR NEWLINE_CHAR \"I\\'m going to write you a check out of my personal account for $25,000,\" a white house spokesperson says . NEWLINE_CHAR NEWLINE_CHAR \"I\\'m going to write you a check out of my personal account for $25,000,\" the spokesperson says . the white house is dealing with the president stating that presidents don\\'t call all the families killed in action .'],\n",
       " [': \"We moved from one spot on the runway to another spot\" airport reopening after police found two suspicious packages, one deemed \"destructive\" and had to be deactivated offsite by a bomb squad . airport officials said the airport was evacuated shortly after 6 p.m.'],\n",
       " ['NEWLINE_CHAR NEWLINE_CHAR The NFL has released the logo for the game . NEWLINE_CHAR NEWLINE_CHAR The league has been using the word \"Super Bowl\" since 1969 . the logo uses the Arabic numeral 50, rather than the Roman numeral L .'],\n",
       " ['NEWLINE_CHAR NEWLINE_CHAR Roy was killed by machete-wielding assailants on a street . his wife and fellow blogger Rafida Ahmed suffered head injuries and lost a finger . police say the suspect posted photos of the crime scene .'],\n",
       " [\",,,,,,,,,, a jerk, and a pigeon-chested blowhard,,,, a 'stupid' saga,,,,, a self-pitying sense of entitlement that is both democratic and Nietzschean. he wants to be,,,,,,,, and a\"],\n",
       " ['NEWLINE_CHAR NEWLINE_CHAR NEWLINE_CHAR You can add location information to your Tweets, such as your city or precise location, from the web and via third-party applications. Learn more Obama says because of Ferguson & Eric Garner there is \"growing awareness\" that law enforcement not always applied in \"colorblind fashion\"'],\n",
       " ['retweeted content that would not be endorsed by the Department of Defense . NEWLINE_CHAR NEWLINE_CHAR Twitter retweeted a tweet from the account \"Proud Resister\" . NEWLINE_CHAR NEWLINE_CHAR Twitter retweeted a tweet saying president Trump should resign .'],\n",
       " ['NEWLINE_CHAR NEWLINE_CHAR Radio-Info.com reported on Friday that 98 advertisers have told Premiere Radio Networks . they want to avoid advertising on Limbaugh\\'s show with content \"deemed to be offensive or controversial\" NEWLINE_CHAR NEWLINE_CHAR The list includes carmakers (Ford, GM, Toyota), insurance companies (Allstate, Geico, Prudential, State Farm) and restaurants (McDonald\\'s, Subway). NEWLINE_CHAR NEWLINE_CHAR Advertise'],\n",
       " ['rumor that Barnes & Noble is phasing out the Nook 3G is coming . NEWLINE_CHAR NEWLINE_CHAR Engadget says that Barnes & Noble is phasing out the Nook 3G . rumors are rumoured to be a slice, nook 3G .'],\n",
       " [\". that were originally intended by a page's authors.s. to fix all broken links on the web.. to fix all broken links on the web. Alexa Internet has been donating their crawl data to the Wayback Machine... data. to... to the Wayback Machine... to your Tweets. Learn more to the to otherwise be broken, or....\"],\n",
       " ['escaped on March 22, 1997 from the Garza East prison in Beeville, south Texas . NEWLINE_CHAR NEWLINE_CHAR Salaz was captured last week . he is serving three concurrent 35 years for aggravated kidnapping with a deadly weapon . he was serving two concurrent 35-year sentences for attempted capital murder of a police officer .'],\n",
       " [\"Stern said he doesn't think running the country is going to be a healthy experience . NEWLINE_CHAR NEWLINE_CHAR Stern said he doesn't think it's going to be a healthy experience . Stern said he doesn't think running the country is going to be a healthy experience .\"],\n",
       " [\",,,,,,,,,,,, he's a Republican, and he's a Republican., but he's not buying that this guy is the real deal. NEWLINE_CHAR NEWLINE_CHAR Murray says he doesn't feel Lucas is qualified for office.\"],\n",
       " ['NEWLINE_CHAR NEWLINE_CHAR The sons of an American defector to North Korea appear in a video scolding the U.S. and saying american troops should leave South Korea . NEWLINE_CHAR NEWLINE_CHAR The sons of an American defector to North Korea appear in a video scolding the U.S.'],\n",
       " [\"Titan Submarine Phase I Conceptual Design could reach Titan around 2040 . NEWLINE_CHAR NEWLINE_CHAR Clearly, this is a mission meant for a drone . the sub could be used to study the moon's water, weather, shoreline, disappearing islands .\"],\n",
       " [\"a passageway, spanning 32 feet (10 m) and reaching beyond the barbed-wire border . NEWLINE_CHAR NEWLINE_CHAR The tunnel's discovery provides the first physical evidence of prisoners trying to dig their way out of a camp . the tunnel's discovery provides the first physical evidence of prisoners trying to dig their way out of a camp .\"],\n",
       " ['a month, the lowest in three years. NEWLINE_CHAR NEWLINE_CHAR . Labor says December jobs gains were much lower than expected as the year ended . NEWLINE_CHAR NEWLINE_CHAR NewLINE_CHAR . Labor says the unemployment rate fell from 7 percent in November to 6.7% .'],\n",
       " ['NEWLINE_CHAR NEWLINE_CHAR “I had the stank eye going reading this list until I got to Omarosa. ? NEWLINE_CHAR NEWLINE_CHAR “I had the stank eye going reading this list until I got to Omarosa. ? NEWLINE_CHAR NEWLINE_CHAR “I had the stank eye going reading this list until I got to Omarosa. ? I’m not the only one. #BBCeleb #whatashame'],\n",
       " [\"'Born This Way' was banned from the airwaves . the singer's recent single, 'Judas,' was also banned from Lebanon's radio stations . the government of lebanese government has banned the album from the country's stores .\"],\n",
       " ['NEWLINE_CHAR NEWLINE_CHAR NewLINE_CHAR NewLINE_CHAR NewLINE_CHAR . Anne Hathaway and her husband, Adam Shulman, have welcomed their first child together . the couple married in 2012 and have a baby boy .'],\n",
       " ['NEWLINE_CHAR NEWLINE_CHAR Hanhang began vomiting and showing signs of drowsiness . NEWLINE_CHAR NEWLINE_CHAR “We were beside ourselves with worry,” his mom said . NEWLINE_CHAR NEWLINE_CHAR “But we had no idea there was still one inside of his head” .'],\n",
       " ['Lane, 50, was driving west on Northwest Highway in Dallas . she passed out and ran over her husband when he got out of the car . she pressed the accelerator, snagging her husband in the door . she fled the scene, in violation of a law that requires a motorist to stop and render aid .'],\n",
       " ['wore an eagle feather on her graduation cap . NEWLINE_CHAR NEWLINE_CHAR Ramer said she was fired . she said she was not given a diploma or high school transcripts until she paid $1,000 fine . the school said it did not change its stance .'],\n",
       " ['of life NEWLINE_CHAR NEWLINE_CHAR A Look Inside Not Afraid of Life, Bristol Palin gives readers an inside look at her life . Bristol Palin, 20, is the oldest daughter of Sarah Palin and single mother . she is a mother of two children, and is a single mother to her son .'],\n",
       " [': Lee\\'s letters reveal a reason for Capote\\'s lying habit . NEWLINE_CHAR NEWLINE_CHAR 1. Lee\\'s letters to Flynt reveal a reason for Capote\\'s snub . new book, \"Mockingbird Songs: My Friendship With Harper Lee\" is out on May 2 .'],\n",
       " ['_CHAR NEWLINE_CHAR Larry David making jokes about hitler and harassment of women . NEWLINE_CHAR NEWLINE_CHAR The snl show was pretty, pretty, pretty — well, not great, according to some people .'],\n",
       " [\"NEWLINE_CHAR NEWLINE_CHAR Trenton Lewis, 21, walks to work every day . he's been walking for five miles, but was never late to work . he's been a father for seven months, and has a new car . he's been a father for several years, and has a lot of family .\"],\n",
       " [': Your Name: Your email: NEWLINE_CHAR NEWLINE_CHAR . NEWLINE_CHAR NEWLINE_CHAR . Rep. Joe Wilson (R-SC) says he will be a \"gentleman\" tonight . he says he\\'ll give a \"live\" response on Facebook following the address .'],\n",
       " ['a reporter, a reporter, a reporter, a reporter, a reporter, a reporter, a reporter, NEWLINE_CHAR NEWLINE_CHAR The a reporter, a reporter,, a reporter, a reporter, that an aide threatened to break his arm — an allegation the campaign denied . NEWLINE_CHAR NEWLINE_CHAR:,,s:'],\n",
       " ['NEWLINE_CHAR NEWLINE_CHAR The state of Texas is many things, but 31 percent responded unfavorably . NEWLINE_CHAR NEWLINE_CHAR The only state respondents had less of an opinion about was California with 28 percent – the most hated state on the list . NEWLINE_CHAR NEWLINE_CHAR The only state respondents had less of an opinion about was California with 28 percent – the most hated state on the list .'],\n",
       " ['NEWLINE_CHAR NEWLINE_CHAR Twitch is preparing for U.S. regulators to challenge the deal . NEWLINE_CHAR NEWLINE_CHAR Twitch is preparing for U.S. regulators to challenge the deal .'],\n",
       " [\", the .08 legal limit for intoxication, a breathalyzer test at the police station fell under the legal limit .08 for intoxication, a spokesman says .Alexandra Kerry was pulled over for an expired registration and released . a sip of wine could do the trick if you can't handle it when you get behind the wheel .\"],\n",
       " [\"NEWLINE_CHAR NEWLINE_CHAR NEWLINE_CHAR NEWLINE_CHAR NEWLINE_CHAR NEWLINE_CHAR 'Incredibles 2' . NEWLINE_CHAR NEWLINE_CHAR NEWLINE_CHAR NEWLINE_CHAR 'Incredibles 2' is the biggest opening ever for an animated film . a seizure warning is issued for moviegoers and people who buy/rent the movie .\"],\n",
       " [',,,,,,, a “light” and a “light” in her family’s home. NEWLINE_CHAR NEWLINE_CHAR NEWLINE_CHAR “At just 10 years of age, she had such a compassionate heart” . NEWLINE_CHAR NEWLINE_CHAR “At just 10 years of age, she had such a compassionate heart” . NEWLINE_CHAR NEWLINE_CHAR “And she would do anything for them,” she continued .'],\n",
       " ['. to archive pages as they are created and archived pages that they refer to. This is a crawl to fix all broken links on the web . The goal is to fix all broken links on the web .'],\n",
       " [\"NEWLINE_CHAR NEWLINE_CHAR The suit says Parker wasn’t sitting with either camp . he says he was hit by shards of glass and suffered lacerations to his cornea . the suit alleges the club's security was negligent for allowing the brawl to ever happen .\"],\n",
       " ['a prosecutor issued a temporary detention order after questioning the suspect on Saturday morning . the 33-year-old, who is suspected of assault, issuing illegal threats and resisting arrest, was released from police custody on Saturday afternoon, hours after the designated time of his wedding .'],\n",
       " ['NEWLINE_CHAR NEWLINE_CHAR Chely Wright is engaged to girlfriend Lauren Blitzer . NEWLINE_CHAR NEWLINE_CHAR \"I feel like I\\'m floating,\" Wright said . \"I feel like I\\'m floating,\" she said after coming out .'],\n",
       " [\"NEWLINE_CHAR NEWLINE_CHAR NEWLINE_CHAR Hurst woke up from a medically induced coma . NEWLINE_CHAR NEWLINE_CHAR Hurst's fundraising page raised $12,256 . the page asks for donations to help pay for her medical expenses and time off of work .\"],\n",
       " ['Starting in 1996, Alexa Internet has been donating their crawl data to the Internet Archive . Flowing in every day, these data are added to the Wayback Machine after an embargo period.'],\n",
       " ['NEWLINE_CHAR NEWLINE_CHAR Ms Middleton is keen for the book to be released next year . NEWLINE_CHAR NEWLINE_CHAR Ms Middleton is determined that she is not seen to be making money from her closeness to the royal family . she is keen for the book to be released next year but is determined that she is not seen to be making money from her closeness to the royal family .'],\n",
       " ['and Derek Jeter have split up after three years together . Minka Kelly and Derek have called it quits after three years together .']]"
      ]
     },
     "execution_count": 33,
     "metadata": {},
     "output_type": "execute_result"
    }
   ],
   "source": [
    "predict_summaries_test"
   ]
  },
  {
   "cell_type": "code",
   "execution_count": 36,
   "id": "f0cd43b3",
   "metadata": {},
   "outputs": [],
   "source": [
    "# store the predict data as csv\n",
    "T5_predict = []\n",
    "for i in range(len(predict_summaries_test)):\n",
    "    T5_predict.append(predict_summaries_test[i][0])\n",
    "    \n",
    "DF = {\"reference\":test_summaries[:100], \"T5_predict\":T5_predict}\n",
    "df = pd.DataFrame(DF)\n",
    "df.to_csv('./Data/T5_predict_summaries.csv', index=False)"
   ]
  },
  {
   "cell_type": "code",
   "execution_count": 30,
   "id": "cb0ff784",
   "metadata": {
    "scrolled": true
   },
   "outputs": [
    {
     "data": {
      "text/plain": [
       "': the Obama campaign has received at least $1,000 to Romney’s campaign . NEWLINE_CHAR NEWLINE_CHAR The Obama campaign has received at least $1,000 . NEWLINE_CHAR NEWLINE_CHAR The Obama campaign has received at least $1,000 .'"
      ]
     },
     "execution_count": 30,
     "metadata": {},
     "output_type": "execute_result"
    }
   ],
   "source": [
    "predict_summaries_test[1][0]"
   ]
  },
  {
   "cell_type": "code",
   "execution_count": 29,
   "id": "dc19c1a7",
   "metadata": {},
   "outputs": [
    {
     "data": {
      "text/plain": [
       "'High-profile Hollywooders, as well as several sports, business and political luminaries, are offering up a string of last-minute, big-dollar contributions both Barack Obama and Mitt Romney. NEWLINE_CHAR NEWLINE_CHAR Actors Jake Gyllenhaal, Zach Galifianakis, Renee Zellweger, Susan Saint James Ebersol and Amanda Seyfried are among the four-figure donors in recent days to Obama’s campaign, according to federal campaign finance disclosures. NEWLINE_CHAR NEWLINE_CHAR Text Size - NEWLINE_CHAR NEWLINE_CHAR + NEWLINE_CHAR NEWLINE_CHAR reset PHOTOS: Stars hit up the swing states Play Slideshow POLITICO’s late night roundup NEWLINE_CHAR NEWLINE_CHAR Author Anne Rice, Disney TV Animation Executive Producer Dan Povenmire, and comedy writer Ian Maxtone-Graham are other notable Obama contributors. NEWLINE_CHAR NEWLINE_CHAR For Romney, actor Kelsey Grammer, Denver Broncos executive John Elway and former game show host Bob Barker have made 11th hour, four-figure donations. NEWLINE_CHAR NEWLINE_CHAR Sarah Palin’s political action committee, SARAH PAC, also chipped in $5,000 last week. NEWLINE_CHAR NEWLINE_CHAR Heritage Foundation Executive Becky Dunlop, American Beverage Association Chief Executive Susan Neely, former Mike’s Hard Lemonade President Philip W. O’Neil, the political action committee of the Consumer Electronics Association and the congressional campaign of Rep. Frank Wolf (R-Va.) are among the recent donors of at least $1,000 to Romney’s campaign.  The Obama campaign is using a mailer modeled after online cat memes as part of their final get out the vote push in the crucial battleground state of Ohio. On the mailer, there is a picture of a cat peeking out from behind a laptop decorated with Ohio-themed Obama campaign stickers highlighting the push to get people to vote early. NEWLINE_CHAR NEWLINE_CHAR “STOP LOOKING AT CATS ONLINE AND GO VOTE,” text on the flyer says. NEWLINE_CHAR NEWLINE_CHAR A user on the social news site Reddit with the handle MollyBloom11 posted a picture of the mailer on the site last night. They were clearly impressed with the campaign’s understanding of internet culture. NEWLINE_CHAR NEWLINE_CHAR “The Obama campaign sent me this today…They know their audience,” MollyBloom11 wrote. NEWLINE_CHAR NEWLINE_CHAR The Obama campaign confirmed the mailer was real and has been used in Ohio. They were not immediately sure whether similar imaging has been used for online ads or in other states. NEWLINE_CHAR NEWLINE_CHAR Follow Hunter Walker on Twitter or via RSS. hwalker@observer.com'"
      ]
     },
     "execution_count": 29,
     "metadata": {},
     "output_type": "execute_result"
    }
   ],
   "source": [
    "test_texts[1]"
   ]
  },
  {
   "cell_type": "code",
   "execution_count": 27,
   "id": "b348878a",
   "metadata": {
    "scrolled": true
   },
   "outputs": [
    {
     "data": {
      "text/plain": [
       "'e stars are coming out in a big way as Election Day looms. The latest: Will Ferrell really, really wants you to vote—and he\\'ll do anything to make sure you do, he promises in a new video for President Obama. \"Hungry? How about a home-cooked meal? Hope you like angel hair pasta,\" he says. \"You need a guy to help you move a couch? Done. I\\'ve even got my own van.\" But his promises get bigger—and weirder—from there. \"If you vote, I\\'ll eat anything you tell me to—garbage, hair, human toenails, underpants, whatever—I\\'ll do it,\" he swears. The president\\'s name stays out of it until the very end, when Ferrell concludes, while holding a football, \"Vote Obama. It\\'s a slam dunk.\" On Jimmy Kimmel\\'s show last week, Chris Rock offered up a special message to white voters. \"In times like these, you need a white president you can trust,\" Rock explains. \"And that white president\\'s name is Barack Obama.\" His evidence that Obama is actually white? The president used to be called \"Barry,\" he likes to golf, he wears \"mom jeans,\" and he has a Portugese water dog, among other things. Amy Poehler kept her endorsement brief and to the point: \"If you can vote, go vote for Obama,\" she concludes. Obama himself is also urging voters to hit the polls ... and he\\'s doing it cat-meme style. It\\'s not just ads: Celebrities are making last-minute donations to both campaigns, Politico reports. Jake Gyllenhaal, Zach Galifianakis, Renee Zellweger, and Amanda Seyfried all recently made four-figure contributions to Obama\\'s campaign, while Kelsey Grammer, Bob Barker, and John Elway did the same for Romney. Click here, here, or here to see previous celebrity endorsements.'"
      ]
     },
     "execution_count": 27,
     "metadata": {},
     "output_type": "execute_result"
    }
   ],
   "source": [
    "test_summaries[:100][1]"
   ]
  },
  {
   "cell_type": "code",
   "execution_count": 32,
   "id": "b4efd13a",
   "metadata": {
    "scrolled": true
   },
   "outputs": [
    {
     "name": "stdout",
     "output_type": "stream",
     "text": [
      "Rouge-1 score:  0.11049193461168452\n",
      "Rouge-2 score:  0.029912964282240554\n",
      "BLEU score:  0.0\n"
     ]
    }
   ],
   "source": [
    "# Import rouge Blue and calculate score, get Rouge-1 and Rouge-2 scores for the first 100 test data\n",
    "from rouge import Rouge\n",
    "from nltk.translate.bleu_score import sentence_bleu\n",
    "\n",
    "def compute_score(predict_summaries_test, test_summaries):\n",
    "    rouge = Rouge()\n",
    "    Rouge_1 = []\n",
    "    Rouge_2 = []\n",
    "    B = []\n",
    "\n",
    "    for i in range(len(test_texts[:100])):\n",
    "        score = rouge.get_scores(predict_summaries_test[i][0], test_summaries[:100][i])\n",
    "        score_B = sentence_bleu([test_summaries[:100][i]], predict_summaries_test[i])\n",
    "        B.append(score_B)\n",
    "        Rouge_1.append(score[0][\"rouge-1\"][\"r\"])\n",
    "        Rouge_2.append(score[0][\"rouge-2\"][\"r\"])\n",
    "\n",
    "    print(\"Rouge-1 score: \", sum(Rouge_1)/len(Rouge_1))\n",
    "    print(\"Rouge-2 score: \", sum(Rouge_2)/len(Rouge_2))\n",
    "    print(\"BLEU score: \", sum(B)/len(B))\n",
    "    \n",
    "compute_score(predict_summaries_test, test_summaries)"
   ]
  }
 ],
 "metadata": {
  "kernelspec": {
   "display_name": "hpe",
   "language": "python",
   "name": "hpe"
  },
  "language_info": {
   "codemirror_mode": {
    "name": "ipython",
    "version": 3
   },
   "file_extension": ".py",
   "mimetype": "text/x-python",
   "name": "python",
   "nbconvert_exporter": "python",
   "pygments_lexer": "ipython3",
   "version": "3.7.4"
  }
 },
 "nbformat": 4,
 "nbformat_minor": 5
}
