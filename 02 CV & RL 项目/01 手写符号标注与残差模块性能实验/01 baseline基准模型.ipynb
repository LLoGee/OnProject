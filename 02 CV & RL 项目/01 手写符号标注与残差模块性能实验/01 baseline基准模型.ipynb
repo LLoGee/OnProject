{
 "cells": [
  {
   "cell_type": "code",
   "execution_count": 1,
   "id": "9c8034e1",
   "metadata": {},
   "outputs": [
    {
     "data": {
      "text/plain": [
       "<torch._C.Generator at 0x1ea83669a10>"
      ]
     },
     "execution_count": 1,
     "metadata": {},
     "output_type": "execute_result"
    }
   ],
   "source": [
    "import torch\n",
    "import torch.nn as nn\n",
    "import torch.nn.functional as F\n",
    "import torch.optim as optim\n",
    "from torchvision import transforms, datasets, utils\n",
    "from torch.autograd import Variable\n",
    "\n",
    "torch.manual_seed(42)"
   ]
  },
  {
   "cell_type": "markdown",
   "id": "86b51610",
   "metadata": {},
   "source": [
    "# 第一步 构建数据管道并导入图片数据集 (分割为训练集与测试集 5：5)"
   ]
  },
  {
   "cell_type": "code",
   "execution_count": 2,
   "id": "72304ae4",
   "metadata": {},
   "outputs": [
    {
     "name": "stdout",
     "output_type": "stream",
     "text": [
      "device: cpu\n"
     ]
    }
   ],
   "source": [
    "# data_dir 是你存放data数据的地址，我这里放在了相对路径下\n",
    "data_dir = \"D:/zhuomian/2022_project/data\"\n",
    "split = 0.5\n",
    "batch_size = 32\n",
    "learning_rate = 0.001\n",
    "num_epochs = 30\n",
    "\n",
    "device = torch.device(\"cuda:0\" if torch.cuda.is_available() else \"cpu\")\n",
    "print(\"device:\", device)"
   ]
  },
  {
   "cell_type": "code",
   "execution_count": 3,
   "id": "53e64d3f",
   "metadata": {},
   "outputs": [],
   "source": [
    "# 构建数据预处理\n",
    "data_transform = transforms.Compose([transforms.ToTensor(),\n",
    "                                     transforms.Resize((56,56)),\n",
    "                                     transforms.Normalize((0.5,0.5,0.5),(0.5,0.5,0.5))])\n",
    "\n",
    "# 导入数据到 dataset 中\n",
    "dataset = datasets.ImageFolder(root = data_dir, transform = data_transform)\n",
    "\n",
    "# 现在将数据集分为训练集与测试集\n",
    "len_imgs = len(dataset.imgs)\n",
    "train_set, test_set = torch.utils.data.random_split(dataset, [int(len_imgs*split), len_imgs-int(len_imgs*split)]) \n",
    "\n",
    "# 最后构建数据管道\n",
    "train_loader = torch.utils.data.DataLoader(train_set,batch_size = batch_size,shuffle = True)\n",
    "test_loader = torch.utils.data.DataLoader(test_set,batch_size = batch_size,shuffle = False)"
   ]
  },
  {
   "cell_type": "markdown",
   "id": "f17b8f0c",
   "metadata": {},
   "source": [
    "# 第二步 构建模型 定制损失函数与优化器"
   ]
  },
  {
   "cell_type": "code",
   "execution_count": 4,
   "id": "0075d7ff",
   "metadata": {},
   "outputs": [],
   "source": [
    "class CNN_model(nn.Module):\n",
    "    def __init__(self):\n",
    "        super(CNN_model, self).__init__()\n",
    "        # conv2d 参数 nn.Conv2d(in_channels=3, out_channels=32,kernel_size=5,stride=1,padding=\"same\")\n",
    "        # MaxPool2d 参数 nn.MaxPool2d(kernel_size=2, stride=2)\n",
    "        self.conv1 = nn.Sequential(         \n",
    "            nn.Conv2d(3,  32, 3, 1, padding = \"same\"),                              \n",
    "            nn.ReLU(),                      \n",
    "            nn.MaxPool2d(2, 2)    \n",
    "        )\n",
    "        self.conv2 = nn.Sequential(         \n",
    "            nn.Conv2d(32, 64, 3, 1, padding = \"same\"),     \n",
    "            nn.ReLU(),                      \n",
    "            nn.MaxPool2d(2, 2)                \n",
    "        )\n",
    "        \n",
    "        self.conv3 = nn.Sequential(         \n",
    "            nn.Conv2d(64, 32, 3, 1, padding = \"same\"),     \n",
    "            nn.ReLU(),                      \n",
    "            nn.MaxPool2d(2, 2)                \n",
    "        )\n",
    "        \n",
    "        # 全连接层，输出 21 个类别\n",
    "        self.fc1 = nn.Sequential(nn.Linear(32 * 7 * 7, 128),nn.ReLU())\n",
    "        self.fc2 = nn.Sequential(nn.Linear(128, 21))\n",
    "    def forward(self, x):\n",
    "        x = self.conv1(x)\n",
    "        x = self.conv2(x)\n",
    "        x = self.conv3(x)\n",
    "        # 扁平化处理 x.view\n",
    "        x = x.view(x.size(0), -1)       \n",
    "        x = self.fc1(x)\n",
    "        output = self.fc2(x)\n",
    "        return output    # return x for visualization"
   ]
  },
  {
   "cell_type": "code",
   "execution_count": 5,
   "id": "ff38e063",
   "metadata": {},
   "outputs": [],
   "source": [
    "model = CNN_model()\n",
    "model.to(device)\n",
    "# 选择是否打印模型，这里就不打印了，直接注释\n",
    "# print(model)\n",
    "\n",
    "# 选择损失函数 以及 优化器\n",
    "loss_func = nn.CrossEntropyLoss()\n",
    "optimizer = optim.Adam(model.parameters(),\n",
    "                       lr=learning_rate, betas=(0.9, 0.999),\n",
    "                       eps=1e-07, amsgrad=False)"
   ]
  },
  {
   "cell_type": "markdown",
   "id": "05400f87",
   "metadata": {},
   "source": [
    "# 第三步 传入模型开始训练与测试"
   ]
  },
  {
   "cell_type": "code",
   "execution_count": 6,
   "id": "d2d74ded",
   "metadata": {},
   "outputs": [
    {
     "name": "stdout",
     "output_type": "stream",
     "text": [
      "Epoch: [1/30]\t|\tStep: [9/27]\t|\tLoss: 3.0277\n",
      "Epoch: [1/30]\t|\tStep: [18/27]\t|\tLoss: 3.0651\n",
      "Epoch: [1/30]\t|\tStep: [27/27]\t|\tLoss: 2.9583\n",
      "epoch: 01 | Accuracy: 5.11 Loss: 82.0500\n",
      "\n",
      "Epoch: [2/30]\t|\tStep: [9/27]\t|\tLoss: 3.0630\n",
      "Epoch: [2/30]\t|\tStep: [18/27]\t|\tLoss: 2.7866\n",
      "Epoch: [2/30]\t|\tStep: [27/27]\t|\tLoss: 2.5439\n",
      "epoch: 02 | Accuracy: 12.49 Loss: 77.7245\n",
      "\n",
      "Epoch: [3/30]\t|\tStep: [9/27]\t|\tLoss: 2.8609\n",
      "Epoch: [3/30]\t|\tStep: [18/27]\t|\tLoss: 2.3130\n",
      "Epoch: [3/30]\t|\tStep: [27/27]\t|\tLoss: 2.2799\n",
      "epoch: 03 | Accuracy: 24.02 Loss: 67.9408\n",
      "\n",
      "Epoch: [4/30]\t|\tStep: [9/27]\t|\tLoss: 2.0901\n",
      "Epoch: [4/30]\t|\tStep: [18/27]\t|\tLoss: 2.0328\n",
      "Epoch: [4/30]\t|\tStep: [27/27]\t|\tLoss: 2.2339\n",
      "epoch: 04 | Accuracy: 34.13 Loss: 59.0928\n",
      "\n",
      "Epoch: [5/30]\t|\tStep: [9/27]\t|\tLoss: 1.3852\n",
      "Epoch: [5/30]\t|\tStep: [18/27]\t|\tLoss: 1.2242\n",
      "Epoch: [5/30]\t|\tStep: [27/27]\t|\tLoss: 1.2541\n",
      "epoch: 05 | Accuracy: 46.14 Loss: 47.0855\n",
      "\n",
      "Epoch: [6/30]\t|\tStep: [9/27]\t|\tLoss: 1.6450\n",
      "Epoch: [6/30]\t|\tStep: [18/27]\t|\tLoss: 1.1708\n",
      "Epoch: [6/30]\t|\tStep: [27/27]\t|\tLoss: 1.5735\n",
      "epoch: 06 | Accuracy: 59.45 Loss: 35.4288\n",
      "\n",
      "Epoch: [7/30]\t|\tStep: [9/27]\t|\tLoss: 0.9326\n",
      "Epoch: [7/30]\t|\tStep: [18/27]\t|\tLoss: 0.8864\n",
      "Epoch: [7/30]\t|\tStep: [27/27]\t|\tLoss: 0.3751\n",
      "epoch: 07 | Accuracy: 70.75 Loss: 25.8250\n",
      "\n",
      "Epoch: [8/30]\t|\tStep: [9/27]\t|\tLoss: 0.7579\n",
      "Epoch: [8/30]\t|\tStep: [18/27]\t|\tLoss: 0.5561\n",
      "Epoch: [8/30]\t|\tStep: [27/27]\t|\tLoss: 0.3091\n",
      "epoch: 08 | Accuracy: 84.30 Loss: 15.7693\n",
      "\n",
      "Epoch: [9/30]\t|\tStep: [9/27]\t|\tLoss: 0.3385\n",
      "Epoch: [9/30]\t|\tStep: [18/27]\t|\tLoss: 0.7460\n",
      "Epoch: [9/30]\t|\tStep: [27/27]\t|\tLoss: 1.3460\n",
      "epoch: 09 | Accuracy: 85.26 Loss: 13.2278\n",
      "\n",
      "Epoch: [10/30]\t|\tStep: [9/27]\t|\tLoss: 0.1713\n",
      "Epoch: [10/30]\t|\tStep: [18/27]\t|\tLoss: 0.1406\n",
      "Epoch: [10/30]\t|\tStep: [27/27]\t|\tLoss: 0.1586\n",
      "epoch: 10 | Accuracy: 90.49 Loss: 8.2326\n",
      "\n",
      "Epoch: [11/30]\t|\tStep: [9/27]\t|\tLoss: 0.1389\n",
      "Epoch: [11/30]\t|\tStep: [18/27]\t|\tLoss: 0.1032\n",
      "Epoch: [11/30]\t|\tStep: [27/27]\t|\tLoss: 0.0651\n",
      "epoch: 11 | Accuracy: 94.53 Loss: 5.3048\n",
      "\n",
      "Epoch: [12/30]\t|\tStep: [9/27]\t|\tLoss: 0.1247\n",
      "Epoch: [12/30]\t|\tStep: [18/27]\t|\tLoss: 0.3007\n",
      "Epoch: [12/30]\t|\tStep: [27/27]\t|\tLoss: 0.1384\n",
      "epoch: 12 | Accuracy: 96.55 Loss: 3.2000\n",
      "\n",
      "Epoch: [13/30]\t|\tStep: [9/27]\t|\tLoss: 0.1066\n",
      "Epoch: [13/30]\t|\tStep: [18/27]\t|\tLoss: 0.2586\n",
      "Epoch: [13/30]\t|\tStep: [27/27]\t|\tLoss: 0.1740\n",
      "epoch: 13 | Accuracy: 96.20 Loss: 3.4780\n",
      "\n",
      "Epoch: [14/30]\t|\tStep: [9/27]\t|\tLoss: 0.1231\n",
      "Epoch: [14/30]\t|\tStep: [18/27]\t|\tLoss: 0.1109\n",
      "Epoch: [14/30]\t|\tStep: [27/27]\t|\tLoss: 0.0718\n",
      "epoch: 14 | Accuracy: 97.38 Loss: 2.6436\n",
      "\n",
      "Epoch: [15/30]\t|\tStep: [9/27]\t|\tLoss: 0.0521\n",
      "Epoch: [15/30]\t|\tStep: [18/27]\t|\tLoss: 0.0990\n",
      "Epoch: [15/30]\t|\tStep: [27/27]\t|\tLoss: 0.0169\n",
      "epoch: 15 | Accuracy: 99.41 Loss: 0.9553\n",
      "\n",
      "Epoch: [16/30]\t|\tStep: [9/27]\t|\tLoss: 0.0310\n",
      "Epoch: [16/30]\t|\tStep: [18/27]\t|\tLoss: 0.0187\n",
      "Epoch: [16/30]\t|\tStep: [27/27]\t|\tLoss: 0.0881\n",
      "epoch: 16 | Accuracy: 98.57 Loss: 1.3907\n",
      "\n",
      "Epoch: [17/30]\t|\tStep: [9/27]\t|\tLoss: 0.0185\n",
      "Epoch: [17/30]\t|\tStep: [18/27]\t|\tLoss: 0.0137\n",
      "Epoch: [17/30]\t|\tStep: [27/27]\t|\tLoss: 0.0333\n",
      "epoch: 17 | Accuracy: 99.05 Loss: 1.2842\n",
      "\n",
      "Epoch: [18/30]\t|\tStep: [9/27]\t|\tLoss: 0.0204\n",
      "Epoch: [18/30]\t|\tStep: [18/27]\t|\tLoss: 0.0032\n",
      "Epoch: [18/30]\t|\tStep: [27/27]\t|\tLoss: 0.0034\n",
      "epoch: 18 | Accuracy: 99.17 Loss: 0.9771\n",
      "\n",
      "Epoch: [19/30]\t|\tStep: [9/27]\t|\tLoss: 0.0265\n",
      "Epoch: [19/30]\t|\tStep: [18/27]\t|\tLoss: 0.0212\n",
      "Epoch: [19/30]\t|\tStep: [27/27]\t|\tLoss: 0.0071\n",
      "epoch: 19 | Accuracy: 99.17 Loss: 0.8196\n",
      "\n",
      "Epoch: [20/30]\t|\tStep: [9/27]\t|\tLoss: 0.0094\n",
      "Epoch: [20/30]\t|\tStep: [18/27]\t|\tLoss: 0.0039\n",
      "Epoch: [20/30]\t|\tStep: [27/27]\t|\tLoss: 0.0026\n",
      "epoch: 20 | Accuracy: 99.88 Loss: 0.2986\n",
      "\n",
      "Epoch: [21/30]\t|\tStep: [9/27]\t|\tLoss: 0.0047\n",
      "Epoch: [21/30]\t|\tStep: [18/27]\t|\tLoss: 0.0037\n",
      "Epoch: [21/30]\t|\tStep: [27/27]\t|\tLoss: 0.0018\n",
      "epoch: 21 | Accuracy: 100.00 Loss: 0.1372\n",
      "\n",
      "Epoch: [22/30]\t|\tStep: [9/27]\t|\tLoss: 0.0015\n",
      "Epoch: [22/30]\t|\tStep: [18/27]\t|\tLoss: 0.0054\n",
      "Epoch: [22/30]\t|\tStep: [27/27]\t|\tLoss: 0.0022\n",
      "epoch: 22 | Accuracy: 100.00 Loss: 0.0796\n",
      "\n",
      "Epoch: [23/30]\t|\tStep: [9/27]\t|\tLoss: 0.0022\n",
      "Epoch: [23/30]\t|\tStep: [18/27]\t|\tLoss: 0.0018\n",
      "Epoch: [23/30]\t|\tStep: [27/27]\t|\tLoss: 0.0006\n",
      "epoch: 23 | Accuracy: 100.00 Loss: 0.0556\n",
      "\n",
      "Epoch: [24/30]\t|\tStep: [9/27]\t|\tLoss: 0.0019\n",
      "Epoch: [24/30]\t|\tStep: [18/27]\t|\tLoss: 0.0021\n",
      "Epoch: [24/30]\t|\tStep: [27/27]\t|\tLoss: 0.0002\n",
      "epoch: 24 | Accuracy: 100.00 Loss: 0.0472\n",
      "\n",
      "Epoch: [25/30]\t|\tStep: [9/27]\t|\tLoss: 0.0009\n",
      "Epoch: [25/30]\t|\tStep: [18/27]\t|\tLoss: 0.0008\n",
      "Epoch: [25/30]\t|\tStep: [27/27]\t|\tLoss: 0.0005\n",
      "epoch: 25 | Accuracy: 100.00 Loss: 0.0408\n",
      "\n",
      "Epoch: [26/30]\t|\tStep: [9/27]\t|\tLoss: 0.0015\n",
      "Epoch: [26/30]\t|\tStep: [18/27]\t|\tLoss: 0.0014\n",
      "Epoch: [26/30]\t|\tStep: [27/27]\t|\tLoss: 0.0001\n",
      "epoch: 26 | Accuracy: 100.00 Loss: 0.0357\n",
      "\n",
      "Epoch: [27/30]\t|\tStep: [9/27]\t|\tLoss: 0.0004\n",
      "Epoch: [27/30]\t|\tStep: [18/27]\t|\tLoss: 0.0028\n",
      "Epoch: [27/30]\t|\tStep: [27/27]\t|\tLoss: 0.0011\n",
      "epoch: 27 | Accuracy: 100.00 Loss: 0.0322\n",
      "\n",
      "Epoch: [28/30]\t|\tStep: [9/27]\t|\tLoss: 0.0007\n",
      "Epoch: [28/30]\t|\tStep: [18/27]\t|\tLoss: 0.0005\n",
      "Epoch: [28/30]\t|\tStep: [27/27]\t|\tLoss: 0.0003\n",
      "epoch: 28 | Accuracy: 100.00 Loss: 0.0284\n",
      "\n",
      "Epoch: [29/30]\t|\tStep: [9/27]\t|\tLoss: 0.0004\n",
      "Epoch: [29/30]\t|\tStep: [18/27]\t|\tLoss: 0.0010\n",
      "Epoch: [29/30]\t|\tStep: [27/27]\t|\tLoss: 0.0014\n",
      "epoch: 29 | Accuracy: 100.00 Loss: 0.0268\n",
      "\n",
      "Epoch: [30/30]\t|\tStep: [9/27]\t|\tLoss: 0.0009\n",
      "Epoch: [30/30]\t|\tStep: [18/27]\t|\tLoss: 0.0012\n",
      "Epoch: [30/30]\t|\tStep: [27/27]\t|\tLoss: 0.0003\n",
      "epoch: 30 | Accuracy: 100.00 Loss: 0.0235\n",
      "\n"
     ]
    }
   ],
   "source": [
    "# 训练模型 并记录训练时 每个epoch 的 准确率与损失值\n",
    "def train(num_epochs, model, loaders):\n",
    "    model.train()   \n",
    "    \n",
    "    # 第一个存储正确率，第二个存储损失值\n",
    "    Accy_list = []\n",
    "    Loss_list = []\n",
    "    \n",
    "    total_step = len(loaders)    \n",
    "    for epoch in range(num_epochs):\n",
    "        correct = 0\n",
    "        L = 0\n",
    "        for i, (images, labels) in enumerate(loaders):\n",
    "            images = images.to(device)\n",
    "            labels = labels.to(device)              \n",
    "            outputs = model(images)\n",
    "            loss = loss_func(outputs, labels)\n",
    "            \n",
    "            # 清理之前的梯度 \n",
    "            optimizer.zero_grad()           \n",
    "            \n",
    "            # 进行反向传播 然后更新参数\n",
    "            loss.backward()               \n",
    "            optimizer.step()                \n",
    "            \n",
    "            _, predicted = torch.max(outputs.data, 1)\n",
    "            correct += (predicted == labels).float().sum()\n",
    "            L += loss.item()\n",
    "            if (i+1) % 9 == 0:\n",
    "                print ('Epoch: [{}/{}]\\t|\\tStep: [{}/{}]\\t|\\tLoss: {:.4f}' \n",
    "                       .format(epoch + 1, num_epochs, i + 1, total_step, loss.item()))\n",
    "                \n",
    "        accuracy = 100 * correct / len(train_set)\n",
    "        print(\"epoch: {:02d} | Accuracy: {:.2f} Loss: {:.4f}\\n\"\n",
    "              .format(epoch + 1, accuracy, L))\n",
    "        \n",
    "        # 将该epoch 的 正确率与损失值 添加到相应列表\n",
    "        Accy_list.append(accuracy.item())\n",
    "        Loss_list.append(L)\n",
    "              \n",
    "    return Accy_list, Loss_list\n",
    "\n",
    "\n",
    "Accy_list, Loss_list = train(num_epochs, model, train_loader)"
   ]
  },
  {
   "cell_type": "code",
   "execution_count": 7,
   "id": "0b67dc94",
   "metadata": {},
   "outputs": [
    {
     "name": "stdout",
     "output_type": "stream",
     "text": [
      "[5.1129608154296875, 12.485136985778809, 24.019025802612305, 34.126041412353516, 46.13555145263672, 59.453033447265625, 70.74910736083984, 84.30439758300781, 85.25564575195312, 90.48751831054688, 94.53031921386719, 96.55172729492188, 96.19500732421875, 97.38406372070312, 99.40547180175781, 98.57312774658203, 99.04875183105469, 99.16765594482422, 99.16765594482422, 99.88109588623047, 100.0, 100.0, 100.0, 100.0, 100.0, 100.0, 100.0, 100.0, 100.0, 100.0]\n"
     ]
    }
   ],
   "source": [
    "print(Accy_list)"
   ]
  },
  {
   "cell_type": "code",
   "execution_count": 8,
   "id": "3339fc4a",
   "metadata": {
    "scrolled": true
   },
   "outputs": [
    {
     "name": "stdout",
     "output_type": "stream",
     "text": [
      "[82.04997205734253, 77.72445964813232, 67.94083499908447, 59.092793464660645, 47.085500717163086, 35.42876297235489, 25.82498151063919, 15.769253253936768, 13.227836430072784, 8.232610315084457, 5.304836608469486, 3.1999749839305878, 3.4779706057161093, 2.6435604225844145, 0.9553048382513225, 1.3906892710365355, 1.2841642568819225, 0.9770859987474978, 0.8196375574916601, 0.29862227267585695, 0.13722559821326286, 0.07959511369699612, 0.055616957833990455, 0.04717749271367211, 0.04083080741111189, 0.03568980390264187, 0.032209269382292405, 0.028388361097313464, 0.026825048436876386, 0.02352506827446632]\n"
     ]
    }
   ],
   "source": [
    "print(Loss_list)"
   ]
  },
  {
   "cell_type": "code",
   "execution_count": 9,
   "id": "1fd8d33e",
   "metadata": {},
   "outputs": [
    {
     "name": "stdout",
     "output_type": "stream",
     "text": [
      "Test data | Accuracy: 72.29 %, Loss: 65.5122 \n"
     ]
    }
   ],
   "source": [
    "# 测试模型\n",
    "def test(model, loaders):\n",
    "    model.eval()\n",
    "    with torch.no_grad():\n",
    "        correct = 0\n",
    "        L = 0\n",
    "        for images, labels in loaders:\n",
    "            images = images.to(device)\n",
    "            labels = labels.to(device)              \n",
    "            outputs = model(images)\n",
    "            # 获取损失值 并进行累加\n",
    "            loss = loss_func(outputs, labels)\n",
    "            L += loss.item()\n",
    "            \n",
    "            # 获取正确率\n",
    "            _, predicted = torch.max(outputs, 1)\n",
    "            correct += (predicted == labels).float().sum()\n",
    "            \n",
    "    accuracy = (100 * correct / len(test_set))\n",
    "    print(\"Test data | Accuracy: {:.2f} %, Loss: {:.4f} \".format(accuracy, L))\n",
    "    \n",
    "    return accuracy, L\n",
    "\n",
    "Test_acc, Test_loss = test(model, test_loader)"
   ]
  }
 ],
 "metadata": {
  "kernelspec": {
   "display_name": "hpe",
   "language": "python",
   "name": "hpe"
  },
  "language_info": {
   "codemirror_mode": {
    "name": "ipython",
    "version": 3
   },
   "file_extension": ".py",
   "mimetype": "text/x-python",
   "name": "python",
   "nbconvert_exporter": "python",
   "pygments_lexer": "ipython3",
   "version": "3.7.4"
  }
 },
 "nbformat": 4,
 "nbformat_minor": 5
}
